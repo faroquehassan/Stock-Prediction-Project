{
 "cells": [
  {
   "cell_type": "markdown",
   "metadata": {},
   "source": [
    "### Imports"
   ]
  },
  {
   "cell_type": "code",
   "execution_count": 244,
   "metadata": {},
   "outputs": [],
   "source": [
    "import pandas as pd\n",
    "import numpy as np\n",
    "import yfinance as yf\n",
    "import seaborn as sns\n",
    "import matplotlib.pyplot as plt\n",
    "import matplotlib.dates as mdates\n",
    "\n",
    "\n",
    "import xgboost as xgb\n",
    "from sklearn.linear_model import LinearRegression\n",
    "from sklearn.ensemble import RandomForestRegressor\n",
    "from sklearn.metrics import mean_squared_error\n",
    "from sklearn.metrics import r2_score\n",
    "from sklearn.metrics import mean_absolute_error\n",
    "from sklearn.metrics import median_absolute_error"
   ]
  },
  {
   "cell_type": "markdown",
   "metadata": {},
   "source": [
    "### Grab Data"
   ]
  },
  {
   "cell_type": "code",
   "execution_count": 187,
   "metadata": {},
   "outputs": [
    {
     "name": "stdout",
     "output_type": "stream",
     "text": [
      "[*********************100%%**********************]  1 of 1 completed\n",
      "[*********************100%%**********************]  1 of 1 completed\n"
     ]
    }
   ],
   "source": [
    "#Use yfinance to grab S&P500 and VIX data from 2000-2022\n",
    "ticker = ['^GSPC']\n",
    "start_date = '2000-01-01'\n",
    "end_date = '2022-12-31'\n",
    "\n",
    "df = yf.download(ticker, start=start_date, end=end_date)\n",
    "df_vix = yf.download('^VIX', start= start_date, end = end_date)\n",
    "#Let's also add vix "
   ]
  },
  {
   "cell_type": "markdown",
   "metadata": {},
   "source": [
    "### EDA"
   ]
  },
  {
   "cell_type": "code",
   "execution_count": 188,
   "metadata": {},
   "outputs": [],
   "source": [
    "df_vix.rename(columns={'Close':'vix'},inplace=True)\n",
    "df = pd.merge(df,df_vix['vix'],on='Date')"
   ]
  },
  {
   "cell_type": "code",
   "execution_count": 189,
   "metadata": {},
   "outputs": [
    {
     "data": {
      "text/html": [
       "<div>\n",
       "<style scoped>\n",
       "    .dataframe tbody tr th:only-of-type {\n",
       "        vertical-align: middle;\n",
       "    }\n",
       "\n",
       "    .dataframe tbody tr th {\n",
       "        vertical-align: top;\n",
       "    }\n",
       "\n",
       "    .dataframe thead th {\n",
       "        text-align: right;\n",
       "    }\n",
       "</style>\n",
       "<table border=\"1\" class=\"dataframe\">\n",
       "  <thead>\n",
       "    <tr style=\"text-align: right;\">\n",
       "      <th></th>\n",
       "      <th>Open</th>\n",
       "      <th>High</th>\n",
       "      <th>Low</th>\n",
       "      <th>Close</th>\n",
       "      <th>Adj Close</th>\n",
       "      <th>Volume</th>\n",
       "      <th>vix</th>\n",
       "    </tr>\n",
       "  </thead>\n",
       "  <tbody>\n",
       "    <tr>\n",
       "      <th>count</th>\n",
       "      <td>5787.000000</td>\n",
       "      <td>5787.000000</td>\n",
       "      <td>5787.000000</td>\n",
       "      <td>5787.000000</td>\n",
       "      <td>5787.000000</td>\n",
       "      <td>5.787000e+03</td>\n",
       "      <td>5787.000000</td>\n",
       "    </tr>\n",
       "    <tr>\n",
       "      <th>mean</th>\n",
       "      <td>1873.617096</td>\n",
       "      <td>1884.787935</td>\n",
       "      <td>1861.463916</td>\n",
       "      <td>1873.787740</td>\n",
       "      <td>1873.787740</td>\n",
       "      <td>3.297658e+09</td>\n",
       "      <td>20.188251</td>\n",
       "    </tr>\n",
       "    <tr>\n",
       "      <th>std</th>\n",
       "      <td>965.512281</td>\n",
       "      <td>970.466509</td>\n",
       "      <td>960.011824</td>\n",
       "      <td>965.542311</td>\n",
       "      <td>965.542311</td>\n",
       "      <td>1.525812e+09</td>\n",
       "      <td>8.698178</td>\n",
       "    </tr>\n",
       "    <tr>\n",
       "      <th>min</th>\n",
       "      <td>679.280029</td>\n",
       "      <td>695.270020</td>\n",
       "      <td>666.789978</td>\n",
       "      <td>676.530029</td>\n",
       "      <td>676.530029</td>\n",
       "      <td>3.560700e+08</td>\n",
       "      <td>9.140000</td>\n",
       "    </tr>\n",
       "    <tr>\n",
       "      <th>25%</th>\n",
       "      <td>1183.795044</td>\n",
       "      <td>1190.855042</td>\n",
       "      <td>1175.725037</td>\n",
       "      <td>1183.630005</td>\n",
       "      <td>1183.630005</td>\n",
       "      <td>1.974930e+09</td>\n",
       "      <td>13.960000</td>\n",
       "    </tr>\n",
       "    <tr>\n",
       "      <th>50%</th>\n",
       "      <td>1431.770020</td>\n",
       "      <td>1440.160034</td>\n",
       "      <td>1422.339966</td>\n",
       "      <td>1430.829956</td>\n",
       "      <td>1430.829956</td>\n",
       "      <td>3.401300e+09</td>\n",
       "      <td>18.160000</td>\n",
       "    </tr>\n",
       "    <tr>\n",
       "      <th>75%</th>\n",
       "      <td>2365.655029</td>\n",
       "      <td>2372.315063</td>\n",
       "      <td>2353.739990</td>\n",
       "      <td>2364.340088</td>\n",
       "      <td>2364.340088</td>\n",
       "      <td>4.158225e+09</td>\n",
       "      <td>23.950001</td>\n",
       "    </tr>\n",
       "    <tr>\n",
       "      <th>max</th>\n",
       "      <td>4804.509766</td>\n",
       "      <td>4818.620117</td>\n",
       "      <td>4780.040039</td>\n",
       "      <td>4796.560059</td>\n",
       "      <td>4796.560059</td>\n",
       "      <td>1.145623e+10</td>\n",
       "      <td>82.690002</td>\n",
       "    </tr>\n",
       "  </tbody>\n",
       "</table>\n",
       "</div>"
      ],
      "text/plain": [
       "              Open         High          Low        Close    Adj Close  \\\n",
       "count  5787.000000  5787.000000  5787.000000  5787.000000  5787.000000   \n",
       "mean   1873.617096  1884.787935  1861.463916  1873.787740  1873.787740   \n",
       "std     965.512281   970.466509   960.011824   965.542311   965.542311   \n",
       "min     679.280029   695.270020   666.789978   676.530029   676.530029   \n",
       "25%    1183.795044  1190.855042  1175.725037  1183.630005  1183.630005   \n",
       "50%    1431.770020  1440.160034  1422.339966  1430.829956  1430.829956   \n",
       "75%    2365.655029  2372.315063  2353.739990  2364.340088  2364.340088   \n",
       "max    4804.509766  4818.620117  4780.040039  4796.560059  4796.560059   \n",
       "\n",
       "             Volume          vix  \n",
       "count  5.787000e+03  5787.000000  \n",
       "mean   3.297658e+09    20.188251  \n",
       "std    1.525812e+09     8.698178  \n",
       "min    3.560700e+08     9.140000  \n",
       "25%    1.974930e+09    13.960000  \n",
       "50%    3.401300e+09    18.160000  \n",
       "75%    4.158225e+09    23.950001  \n",
       "max    1.145623e+10    82.690002  "
      ]
     },
     "execution_count": 189,
     "metadata": {},
     "output_type": "execute_result"
    }
   ],
   "source": [
    "df.describe()"
   ]
  },
  {
   "cell_type": "code",
   "execution_count": 190,
   "metadata": {},
   "outputs": [
    {
     "name": "stdout",
     "output_type": "stream",
     "text": [
      "5787 5787\n"
     ]
    }
   ],
   "source": [
    "#no difference in adj close vs close\n",
    "print((df['Adj Close'] == df['Close']).sum(), len(df))"
   ]
  },
  {
   "cell_type": "code",
   "execution_count": 191,
   "metadata": {},
   "outputs": [
    {
     "data": {
      "text/plain": [
       "Open         0\n",
       "High         0\n",
       "Low          0\n",
       "Close        0\n",
       "Adj Close    0\n",
       "Volume       0\n",
       "vix          0\n",
       "dtype: int64"
      ]
     },
     "execution_count": 191,
     "metadata": {},
     "output_type": "execute_result"
    }
   ],
   "source": [
    "#check for null values, no DQ issues\n",
    "df.isnull().sum()"
   ]
  },
  {
   "cell_type": "code",
   "execution_count": 192,
   "metadata": {},
   "outputs": [
    {
     "data": {
      "image/png": "[encoded data removed]",
      "text/plain": [
       "<Figure size 1200x600 with 1 Axes>"
      ]
     },
     "metadata": {},
     "output_type": "display_data"
    }
   ],
   "source": [
    "#Plot the Data\n",
    "plt.figure(figsize=(12,6))\n",
    "plt.plot(df.index,df['Close'], linestyle ='-')\n",
    "plt.xlabel('Date')\n",
    "plt.ylabel('Price')\n",
    "plt.title('S&P Index')\n",
    "plt.show()"
   ]
  },
  {
   "cell_type": "markdown",
   "metadata": {},
   "source": [
    "### Feature Engineering"
   ]
  },
  {
   "cell_type": "code",
   "execution_count": 193,
   "metadata": {},
   "outputs": [],
   "source": [
    "#We want to predict the next close price. \n",
    "df['Next_Close'] = df['Close'].shift(-1)\n"
   ]
  },
  {
   "cell_type": "code",
   "execution_count": 194,
   "metadata": {},
   "outputs": [
    {
     "data": {
      "text/plain": [
       "Open              0\n",
       "High              0\n",
       "Low               0\n",
       "Close             0\n",
       "Adj Close         0\n",
       "Volume            0\n",
       "vix               0\n",
       "Next_Close        0\n",
       "sma_3             0\n",
       "sma_5             0\n",
       "sma_7             0\n",
       "sma_20            0\n",
       "ema_9             0\n",
       "ema_12            0\n",
       "ema_26            0\n",
       "std_dev_20        0\n",
       "bb_upper_band     0\n",
       "bb_lower_band     0\n",
       "macd              0\n",
       "macd_signal       0\n",
       "macd_histogram    0\n",
       "rsi               0\n",
       "dtype: int64"
      ]
     },
     "execution_count": 194,
     "metadata": {},
     "output_type": "execute_result"
    }
   ],
   "source": [
    "#We make all features lagged by 1 in order to be able to predict tomorrow's close\n",
    "#We also wouldn't have today's moving average values as we are trading before today's close\n",
    "#should I add VIX? we should test model performance with this feature\n",
    "\n",
    "#Simple Moving Averages from 3,5,7 and 20 days\n",
    "for i in (3,5,7,20):\n",
    "    df[f'sma_{i}'] = df['Close'].rolling(i).mean()\n",
    "\n",
    "#Exponential Moving Averages from 9, 12 and 26 days. These are common values\n",
    "for i in (9,12,26):\n",
    "    df[f'ema_{i}'] = df['Close'].ewm(span=i).mean()\n",
    "\n",
    "#Bollinger Bands, we want to see if the price is outside of the 2 standard deviation range of the 20 day moving average\n",
    "df['std_dev_20'] = df['Close'].rolling(20).std()\n",
    "df['bb_upper_band'] = df['sma_20'] + (df['std_dev_20'] * 2)\n",
    "df['bb_lower_band'] = df['sma_20'] - (df['std_dev_20'] * 2)\n",
    "\n",
    "#implementing macd\n",
    "\n",
    "df['macd'] = df['ema_12'] - df['ema_26']\n",
    "df['macd_signal'] = df['macd'].ewm(span = 9).mean()\n",
    "df['macd_histogram'] = df['macd'] - df['macd_signal']\n",
    "\n",
    "\n",
    "#Relative Strength Index, can show whether the stock is overbought/oversold\n",
    "def calculate_rsi(df):\n",
    "    close_diff = df['Close'].diff(1)\n",
    "    gain = close_diff.where(close_diff > 0, 0)\n",
    "    loss = -close_diff.where(close_diff < 0, 0)\n",
    "\n",
    "    avg_gain = gain.rolling(window=14).mean()\n",
    "    avg_loss = loss.rolling(window=14).mean()\n",
    "\n",
    "    rs = avg_gain / avg_loss\n",
    "    rsi = 100 - (100 / (1 + rs))\n",
    "    return rsi\n",
    "df['rsi'] = calculate_rsi(df)\n",
    "\n",
    "#Due to creating these lagged features, we should drop rows with any null features\n",
    "df.dropna(inplace=True)\n",
    "df.isnull().sum()"
   ]
  },
  {
   "cell_type": "markdown",
   "metadata": {},
   "source": [
    "Feature Analysis"
   ]
  },
  {
   "cell_type": "code",
   "execution_count": 195,
   "metadata": {},
   "outputs": [
    {
     "data": {
      "text/plain": [
       "(18262.0, 18627.0)"
      ]
     },
     "execution_count": 195,
     "metadata": {},
     "output_type": "execute_result"
    },
    {
     "data": {
      "image/png": "[encoded data removed]",
      "text/plain": [
       "<Figure size 640x480 with 1 Axes>"
      ]
     },
     "metadata": {},
     "output_type": "display_data"
    }
   ],
   "source": [
    "#SMA plot\n",
    "start_date = pd.Timestamp('2020-01-01')\n",
    "end_date = pd.Timestamp('2020-12-31')\n",
    "plt.plot(figsize = (12,6))\n",
    "\n",
    "plt.plot(df.index,df['sma_3'], label = 'SMA 3', color = 'red')\n",
    "plt.plot(df.index,df['ema_9'], label = 'EMA 9', color = 'blue')\n",
    "plt.xlim(start_date,end_date)"
   ]
  },
  {
   "cell_type": "code",
   "execution_count": 196,
   "metadata": {},
   "outputs": [
    {
     "data": {
      "text/plain": [
       "Text(0.5, 0.98, 'MACD, Signal Line, and Price')"
      ]
     },
     "execution_count": 196,
     "metadata": {},
     "output_type": "execute_result"
    },
    {
     "data": {
      "image/png": "[encoded data removed]",
      "text/plain": [
       "<Figure size 1200x600 with 2 Axes>"
      ]
     },
     "metadata": {},
     "output_type": "display_data"
    }
   ],
   "source": [
    "# MACD plot\n",
    "start_date = pd.Timestamp('2020-01-01')\n",
    "end_date = pd.Timestamp('2020-12-31')\n",
    "fig, ax1 = plt.subplots(figsize=(12, 6))\n",
    "ax2 = ax1.twinx()\n",
    "\n",
    "ax1.plot(df.index, df['macd'], label='MACD', color='blue')\n",
    "ax1.plot(df.index, df['macd_signal'], label='Signal Line', color='red')\n",
    "ax2.plot(df.index, df['Close'], label='Price', color='orange')\n",
    "ax1.axhline(0, color='black', linestyle='--')\n",
    "ax1.set_xlim(start_date, end_date)\n",
    "ax1.legend()\n",
    "fig.suptitle('MACD, Signal Line, and Price')"
   ]
  },
  {
   "cell_type": "code",
   "execution_count": 197,
   "metadata": {},
   "outputs": [],
   "source": [
    "corr_matrix = df[['Volume', 'sma_3', 'sma_5','sma_7','sma_20','std_dev_20',\n",
    "       'ema_9', 'ema_12', 'ema_26', 'macd', 'macd_signal', 'macd_histogram',\n",
    "       'rsi','vix','bb_lower_band','bb_upper_band','Next_Close']].corr()['Next_Close']\n",
    "\n",
    "sorted_corr = corr_matrix.abs().sort_values(ascending=False)\n"
   ]
  },
  {
   "cell_type": "code",
   "execution_count": 198,
   "metadata": {},
   "outputs": [
    {
     "data": {
      "image/png": "[encoded data removed]",
      "text/plain": [
       "<Figure size 1000x600 with 1 Axes>"
      ]
     },
     "metadata": {},
     "output_type": "display_data"
    }
   ],
   "source": [
    "plt.figure(figsize=(10, 6))\n",
    "sns.barplot(x=sorted_corr.values, y=sorted_corr.index, palette=\"coolwarm_r\")\n",
    "plt.title(f'Correlation with Next Close')\n",
    "plt.xlabel('Correlation Coefficient')\n",
    "plt.ylabel('Features')\n",
    "plt.show()"
   ]
  },
  {
   "cell_type": "markdown",
   "metadata": {},
   "source": [
    "### Time Series Splitting for Cross Validation"
   ]
  },
  {
   "cell_type": "code",
   "execution_count": 199,
   "metadata": {},
   "outputs": [],
   "source": [
    "from sklearn.model_selection import TimeSeriesSplit\n",
    "\n",
    "tss = TimeSeriesSplit(n_splits=10,test_size=1)\n",
    "df = df.sort_index()"
   ]
  },
  {
   "cell_type": "code",
   "execution_count": 200,
   "metadata": {},
   "outputs": [
    {
     "data": {
      "image/png": "[encoded data removed]",
      "text/plain": [
       "<Figure size 1000x1000 with 10 Axes>"
      ]
     },
     "metadata": {},
     "output_type": "display_data"
    }
   ],
   "source": [
    "\n",
    "fig, axs = plt.subplots(10, 1, figsize=(10, 10), sharex=True, gridspec_kw={'hspace': 0.75})\n",
    "\n",
    "fold = 0\n",
    "for train_idx, val_idx in tss.split(df):\n",
    "    train_df = df.iloc[train_idx]\n",
    "    test_df = df.iloc[val_idx]\n",
    "    train_df['Next_Close'].plot(ax=axs[fold],\n",
    "                          label='Training Set',\n",
    "                          title=f'Train/Test Split Fold {fold}')\n",
    "    \n",
    "    axs[fold].scatter(test_df.index, test_df['Next_Close'], marker='o', color='red', label='Test Set')\n",
    "\n",
    "    axs[fold].set_xlim(pd.Timestamp('2022-12-10'), pd.Timestamp('2022-12-30'))\n",
    "    axs[fold].axvline(test_df.index.min(), color='black', ls='--')\n",
    "    date_format = mdates.DateFormatter('%b-%d')\n",
    "    axs[fold].xaxis.set_major_formatter(date_format)\n",
    "\n",
    "    fold += 1\n",
    "plt.show()"
   ]
  },
  {
   "cell_type": "markdown",
   "metadata": {},
   "source": [
    "### Linear Regression"
   ]
  },
  {
   "cell_type": "code",
   "execution_count": 250,
   "metadata": {},
   "outputs": [],
   "source": [
    "from sklearn.model_selection import TimeSeriesSplit\n",
    "tss = TimeSeriesSplit(n_splits=5,test_size=1,gap = 30)\n",
    "df = df.sort_index()"
   ]
  },
  {
   "cell_type": "code",
   "execution_count": 213,
   "metadata": {},
   "outputs": [],
   "source": [
    "preds = []\n",
    "scores = []\n",
    "actuals = []\n",
    "\n",
    "for train_idx, val_idx in tss.split(df):\n",
    "    train_df = df.iloc[train_idx]\n",
    "    test_df = df.iloc[val_idx]\n",
    "\n",
    "    features = ['sma_3', 'sma_5','sma_7','sma_20',\n",
    "       'ema_9', 'ema_12', 'ema_26', 'macd', 'macd_signal', 'macd_histogram',\n",
    "       'rsi','Volume','bb_lower_band','bb_upper_band','std_dev_20']\n",
    "    \n",
    "    target = 'Next_Close'\n",
    "\n",
    "    X_train = train_df[features]\n",
    "    y_train = train_df[target]\n",
    "    y_train = np.log1p(y_train)\n",
    "\n",
    "    X_test = test_df[features]\n",
    "    y_test = test_df[target]\n",
    "    y_test = np.log1p(y_test)\n",
    "\n",
    "    model = LinearRegression()\n",
    "\n",
    "    model.fit(X_train, y_train)\n",
    "\n",
    "    y_pred = model.predict(X_test)\n",
    "    preds.append(y_pred)\n",
    "    actual_dict = [{'Date': date, 'Actual': actual, \"Preds\": pred} for date, actual, pred in zip(test_df.index, y_test, y_pred)]\n",
    "    actuals.extend(actual_dict)\n",
    "    score = np.sqrt(mean_squared_error(y_test, y_pred))\n",
    "    scores.append(score)\n",
    "\n",
    "\n"
   ]
  },
  {
   "cell_type": "code",
   "execution_count": 214,
   "metadata": {},
   "outputs": [
    {
     "name": "stdout",
     "output_type": "stream",
     "text": [
      "          Features  Coefficients\n",
      "4           ema_12  5.254157e-02\n",
      "6             macd  3.339862e-02\n",
      "8   macd_histogram  3.232214e-02\n",
      "5           ema_26  1.914295e-02\n",
      "9              rsi  1.241379e-03\n",
      "7      macd_signal  1.076477e-03\n",
      "0            sma_3  6.270181e-04\n",
      "10          Volume -2.053473e-12\n",
      "1            sma_5 -5.569051e-05\n",
      "2            sma_7 -4.047414e-04\n",
      "3            ema_9 -7.138945e-02\n"
     ]
    }
   ],
   "source": [
    "#important features\n",
    "coefficients = model.coef_\n",
    "coefficients_df = pd.DataFrame({'Features': X_train.columns, 'Coefficients': coefficients})\n",
    "sorted_coefficients = coefficients_df.sort_values(by='Coefficients', ascending=False)\n",
    "print(sorted_coefficients)\n"
   ]
  },
  {
   "cell_type": "code",
   "execution_count": 215,
   "metadata": {},
   "outputs": [],
   "source": [
    "y_test_df = pd.DataFrame(actuals)\n",
    "y_test_df['Actual'] = np.exp(y_test_df['Actual'])\n",
    "y_test_df['Preds'] = np.exp(y_test_df['Preds'])\n",
    "y_test_df['Error'] = abs((y_test_df['Preds'] - y_test_df['Actual']) / y_test_df['Actual']) * 100"
   ]
  },
  {
   "cell_type": "code",
   "execution_count": 216,
   "metadata": {},
   "outputs": [
    {
     "data": {
      "text/plain": [
       "-227.48134153276757"
      ]
     },
     "execution_count": 216,
     "metadata": {},
     "output_type": "execute_result"
    }
   ],
   "source": [
    "#an r2 score between 0.7 and 1.0 is considered good\n",
    "r2_score(y_test_df['Actual'],y_test_df['Preds'])"
   ]
  },
  {
   "cell_type": "code",
   "execution_count": 218,
   "metadata": {},
   "outputs": [
    {
     "data": {
      "text/plain": [
       "358.3263999934711"
      ]
     },
     "execution_count": 218,
     "metadata": {},
     "output_type": "execute_result"
    }
   ],
   "source": [
    "mean_absolute_error(y_test_df['Actual'],y_test_df['Preds'])"
   ]
  },
  {
   "cell_type": "code",
   "execution_count": 219,
   "metadata": {},
   "outputs": [
    {
     "name": "stdout",
     "output_type": "stream",
     "text": [
      "Score across folds 0.0894\n",
      "Fold scores:[0.08009868570484713, 0.1029988013073897, 0.10677313889348206, 0.07843424300250312, 0.07878301827452994]\n"
     ]
    }
   ],
   "source": [
    "print(f'Score across folds {np.mean(scores):0.4f}')\n",
    "print(f'Fold scores:{scores}')"
   ]
  },
  {
   "cell_type": "markdown",
   "metadata": {},
   "source": [
    "### Random Forest Regressor"
   ]
  },
  {
   "cell_type": "code",
   "execution_count": 251,
   "metadata": {},
   "outputs": [],
   "source": [
    "preds = []\n",
    "scores = []\n",
    "actuals = []\n",
    "\n",
    "for train_idx, val_idx in tss.split(df):\n",
    "    train_df = df.iloc[train_idx]\n",
    "    test_df = df.iloc[val_idx]\n",
    "\n",
    "    features = ['sma_3', 'sma_5','sma_7','sma_20',\n",
    "       'ema_9', 'ema_12', 'ema_26', 'macd', 'macd_signal', 'macd_histogram',\n",
    "       'rsi','Volume','bb_lower_band','bb_upper_band','std_dev_20']\n",
    "    \n",
    "    target = 'Next_Close'\n",
    "\n",
    "    X_train = train_df[features]\n",
    "    y_train = train_df[target]\n",
    "\n",
    "    X_test = test_df[features]\n",
    "    y_test = test_df[target]\n",
    "\n",
    "    model = RandomForestRegressor(n_estimators=2000, max_depth=3, n_jobs=16,)\n",
    "\n",
    "    model.fit(X_train, y_train)\n",
    "\n",
    "    y_pred = model.predict(X_test)\n",
    "    preds.append(y_pred)\n",
    "    actual_dict = [{'Date': date, 'Actual': actual, \"Preds\": pred} for date, actual, pred in zip(test_df.index, y_test, y_pred)]\n",
    "    actuals.extend(actual_dict)\n",
    "    score = np.sqrt(mean_squared_error(y_test, y_pred))\n",
    "    scores.append(score)\n"
   ]
  },
  {
   "cell_type": "code",
   "execution_count": 252,
   "metadata": {},
   "outputs": [],
   "source": [
    "y_test_df = pd.DataFrame(actuals)\n",
    "y_test_df['Error'] = abs((y_test_df['Preds'] - y_test_df['Actual']) / y_test_df['Actual']) * 100"
   ]
  },
  {
   "cell_type": "code",
   "execution_count": 253,
   "metadata": {},
   "outputs": [
    {
     "data": {
      "text/plain": [
       "-0.038010438829274795"
      ]
     },
     "execution_count": 253,
     "metadata": {},
     "output_type": "execute_result"
    }
   ],
   "source": [
    "#an r2 score between 0.7 and 1.0 is considered good\n",
    "r2_score(y_test_df['Actual'],y_test_df['Preds'])"
   ]
  },
  {
   "cell_type": "code",
   "execution_count": 254,
   "metadata": {},
   "outputs": [
    {
     "data": {
      "text/plain": [
       "20.622870860774583"
      ]
     },
     "execution_count": 254,
     "metadata": {},
     "output_type": "execute_result"
    }
   ],
   "source": [
    "#On average my model may be off by $11 from the actuals\n",
    "mean_absolute_error(y_test_df['Actual'],y_test_df['Preds'])"
   ]
  },
  {
   "cell_type": "markdown",
   "metadata": {},
   "source": [
    "### XGBOOST Regressor"
   ]
  },
  {
   "cell_type": "code",
   "execution_count": 291,
   "metadata": {},
   "outputs": [
    {
     "name": "stdout",
     "output_type": "stream",
     "text": [
      "[0]\tvalidation_0-rmse:862.46843\tvalidation_1-rmse:1787.24096\n"
     ]
    },
    {
     "name": "stdout",
     "output_type": "stream",
     "text": [
      "[100]\tvalidation_0-rmse:25.12536\tvalidation_1-rmse:24.82227\n",
      "[187]\tvalidation_0-rmse:22.81212\tvalidation_1-rmse:35.38086\n",
      "[0]\tvalidation_0-rmse:862.75038\tvalidation_1-rmse:1771.25782\n",
      "[100]\tvalidation_0-rmse:25.15913\tvalidation_1-rmse:10.40942\n",
      "[179]\tvalidation_0-rmse:23.04618\tvalidation_1-rmse:25.57910\n",
      "[0]\tvalidation_0-rmse:863.05100\tvalidation_1-rmse:1724.67845\n",
      "[79]\tvalidation_0-rmse:26.21349\tvalidation_1-rmse:58.00146\n",
      "[0]\tvalidation_0-rmse:863.33350\tvalidation_1-rmse:1790.34620\n",
      "[100]\tvalidation_0-rmse:25.23089\tvalidation_1-rmse:47.06494\n",
      "[200]\tvalidation_0-rmse:22.78422\tvalidation_1-rmse:27.08032\n",
      "[244]\tvalidation_0-rmse:21.91146\tvalidation_1-rmse:32.02808\n",
      "[0]\tvalidation_0-rmse:863.62742\tvalidation_1-rmse:1779.93897\n",
      "[100]\tvalidation_0-rmse:25.29030\tvalidation_1-rmse:29.75781\n",
      "[200]\tvalidation_0-rmse:22.71969\tvalidation_1-rmse:15.45361\n",
      "[279]\tvalidation_0-rmse:21.30518\tvalidation_1-rmse:7.93286\n"
     ]
    }
   ],
   "source": [
    "preds = []\n",
    "scores = []\n",
    "actuals = []\n",
    "\n",
    "for train_idx, val_idx in tss.split(df):\n",
    "    train_df = df.iloc[train_idx]\n",
    "    test_df = df.iloc[val_idx]\n",
    "\n",
    "    features = ['sma_3', 'sma_5','sma_7','sma_20',\n",
    "       'ema_9', 'ema_12', 'ema_26', 'macd', 'macd_signal', 'macd_histogram',\n",
    "       'rsi','Volume','bb_lower_band','bb_upper_band','std_dev_20']\n",
    "    \n",
    "    target = 'Next_Close'\n",
    "\n",
    "    X_train = train_df[features]\n",
    "    y_train = train_df[target]\n",
    "\n",
    "    X_test = test_df[features]\n",
    "    y_test = test_df[target]\n",
    "\n",
    "    model = xgb.XGBRegressor(booster='gbtree',    \n",
    "                           n_estimators=1000,\n",
    "                           early_stopping_rounds=50,\n",
    "                           objective='reg:squarederror',\n",
    "                           max_depth=3,\n",
    "                           learning_rate=0.1)\n",
    "\n",
    "    model.fit(X_train, y_train,\n",
    "        eval_set=[(X_train, y_train), (X_test, y_test)],\n",
    "        verbose=100)\n",
    "\n",
    "    y_pred = model.predict(X_test)\n",
    "    preds.append(y_pred)\n",
    "    actual_dict = [{'Date': date, 'Actual': actual, \"Preds\": pred} for date, actual, pred in zip(test_df.index, y_test, y_pred)]\n",
    "    actuals.extend(actual_dict)\n",
    "    score = np.sqrt(mean_squared_error(y_test, y_pred))\n",
    "    scores.append(score)\n"
   ]
  },
  {
   "cell_type": "code",
   "execution_count": 292,
   "metadata": {},
   "outputs": [],
   "source": [
    "y_test_df = pd.DataFrame(actuals)\n",
    "y_test_df['Error'] = abs((y_test_df['Preds'] - y_test_df['Actual']) / y_test_df['Actual']) * 100"
   ]
  },
  {
   "cell_type": "code",
   "execution_count": 293,
   "metadata": {},
   "outputs": [
    {
     "data": {
      "text/plain": [
       "0.5792354450896364"
      ]
     },
     "execution_count": 293,
     "metadata": {},
     "output_type": "execute_result"
    }
   ],
   "source": [
    "#an r2 score between 0.7 and 1.0 is considered good\n",
    "r2_score(y_test_df['Actual'],y_test_df['Preds'])"
   ]
  },
  {
   "cell_type": "code",
   "execution_count": 294,
   "metadata": {},
   "outputs": [
    {
     "data": {
      "text/plain": [
       "11.496240234375"
      ]
     },
     "execution_count": 294,
     "metadata": {},
     "output_type": "execute_result"
    }
   ],
   "source": [
    "#On average my model may be off by $11 from the actuals\n",
    "mean_absolute_error(y_test_df['Actual'],y_test_df['Preds'])"
   ]
  },
  {
   "cell_type": "markdown",
   "metadata": {},
   "source": [
    "### Parameter Tuning"
   ]
  },
  {
   "cell_type": "code",
   "execution_count": 241,
   "metadata": {},
   "outputs": [
    {
     "name": "stderr",
     "output_type": "stream",
     "text": [
      "C:\\Users\\faroq\\AppData\\Local\\Temp\\ipykernel_2464\\232416344.py:53: FutureWarning: The frame.append method is deprecated and will be removed from pandas in a future version. Use pandas.concat instead.\n",
      "  df_scores = df_scores.append(data, ignore_index=True)\n",
      "C:\\Users\\faroq\\AppData\\Local\\Temp\\ipykernel_2464\\232416344.py:53: FutureWarning: The frame.append method is deprecated and will be removed from pandas in a future version. Use pandas.concat instead.\n",
      "  df_scores = df_scores.append(data, ignore_index=True)\n",
      "C:\\Users\\faroq\\AppData\\Local\\Temp\\ipykernel_2464\\232416344.py:53: FutureWarning: The frame.append method is deprecated and will be removed from pandas in a future version. Use pandas.concat instead.\n",
      "  df_scores = df_scores.append(data, ignore_index=True)\n"
     ]
    },
    {
     "name": "stdout",
     "output_type": "stream",
     "text": [
      "3 ,  0.1 :  21.798828125\n",
      "3 ,  0.1 :  14.1072998046875\n",
      "3 ,  0.1 :  9.888427734375\n"
     ]
    },
    {
     "name": "stderr",
     "output_type": "stream",
     "text": [
      "C:\\Users\\faroq\\AppData\\Local\\Temp\\ipykernel_2464\\232416344.py:53: FutureWarning: The frame.append method is deprecated and will be removed from pandas in a future version. Use pandas.concat instead.\n",
      "  df_scores = df_scores.append(data, ignore_index=True)\n"
     ]
    },
    {
     "name": "stdout",
     "output_type": "stream",
     "text": [
      "3 ,  0.1 :  13.9613037109375\n"
     ]
    },
    {
     "name": "stderr",
     "output_type": "stream",
     "text": [
      "C:\\Users\\faroq\\AppData\\Local\\Temp\\ipykernel_2464\\232416344.py:53: FutureWarning: The frame.append method is deprecated and will be removed from pandas in a future version. Use pandas.concat instead.\n",
      "  df_scores = df_scores.append(data, ignore_index=True)\n",
      "C:\\Users\\faroq\\AppData\\Local\\Temp\\ipykernel_2464\\232416344.py:53: FutureWarning: The frame.append method is deprecated and will be removed from pandas in a future version. Use pandas.concat instead.\n",
      "  df_scores = df_scores.append(data, ignore_index=True)\n"
     ]
    },
    {
     "name": "stdout",
     "output_type": "stream",
     "text": [
      "3 ,  0.1 :  11.496240234375\n",
      "3 ,  0.1 :  11.708658854166666\n"
     ]
    },
    {
     "name": "stderr",
     "output_type": "stream",
     "text": [
      "C:\\Users\\faroq\\AppData\\Local\\Temp\\ipykernel_2464\\232416344.py:53: FutureWarning: The frame.append method is deprecated and will be removed from pandas in a future version. Use pandas.concat instead.\n",
      "  df_scores = df_scores.append(data, ignore_index=True)\n",
      "C:\\Users\\faroq\\AppData\\Local\\Temp\\ipykernel_2464\\232416344.py:53: FutureWarning: The frame.append method is deprecated and will be removed from pandas in a future version. Use pandas.concat instead.\n",
      "  df_scores = df_scores.append(data, ignore_index=True)\n",
      "C:\\Users\\faroq\\AppData\\Local\\Temp\\ipykernel_2464\\232416344.py:53: FutureWarning: The frame.append method is deprecated and will be removed from pandas in a future version. Use pandas.concat instead.\n",
      "  df_scores = df_scores.append(data, ignore_index=True)\n"
     ]
    },
    {
     "name": "stdout",
     "output_type": "stream",
     "text": [
      "3 ,  0.1 :  10.092389787946429\n",
      "3 ,  0.1 :  9.012176513671875\n",
      "3 ,  0.1 :  12.55295138888889\n"
     ]
    },
    {
     "name": "stderr",
     "output_type": "stream",
     "text": [
      "C:\\Users\\faroq\\AppData\\Local\\Temp\\ipykernel_2464\\232416344.py:53: FutureWarning: The frame.append method is deprecated and will be removed from pandas in a future version. Use pandas.concat instead.\n",
      "  df_scores = df_scores.append(data, ignore_index=True)\n",
      "C:\\Users\\faroq\\AppData\\Local\\Temp\\ipykernel_2464\\232416344.py:53: FutureWarning: The frame.append method is deprecated and will be removed from pandas in a future version. Use pandas.concat instead.\n",
      "  df_scores = df_scores.append(data, ignore_index=True)\n"
     ]
    },
    {
     "name": "stdout",
     "output_type": "stream",
     "text": [
      "3 ,  0.1 :  11.3552001953125\n",
      "3 ,  0.1 :  11.429354580965908\n"
     ]
    },
    {
     "name": "stderr",
     "output_type": "stream",
     "text": [
      "C:\\Users\\faroq\\AppData\\Local\\Temp\\ipykernel_2464\\232416344.py:53: FutureWarning: The frame.append method is deprecated and will be removed from pandas in a future version. Use pandas.concat instead.\n",
      "  df_scores = df_scores.append(data, ignore_index=True)\n",
      "C:\\Users\\faroq\\AppData\\Local\\Temp\\ipykernel_2464\\232416344.py:53: FutureWarning: The frame.append method is deprecated and will be removed from pandas in a future version. Use pandas.concat instead.\n",
      "  df_scores = df_scores.append(data, ignore_index=True)\n"
     ]
    },
    {
     "name": "stdout",
     "output_type": "stream",
     "text": [
      "3 ,  0.1 :  10.495096842447916\n",
      "3 ,  0.1 :  9.79937274639423\n"
     ]
    },
    {
     "name": "stderr",
     "output_type": "stream",
     "text": [
      "C:\\Users\\faroq\\AppData\\Local\\Temp\\ipykernel_2464\\232416344.py:53: FutureWarning: The frame.append method is deprecated and will be removed from pandas in a future version. Use pandas.concat instead.\n",
      "  df_scores = df_scores.append(data, ignore_index=True)\n"
     ]
    },
    {
     "name": "stdout",
     "output_type": "stream",
     "text": [
      "3 ,  0.1 :  10.349051339285714\n"
     ]
    },
    {
     "name": "stderr",
     "output_type": "stream",
     "text": [
      "C:\\Users\\faroq\\AppData\\Local\\Temp\\ipykernel_2464\\232416344.py:53: FutureWarning: The frame.append method is deprecated and will be removed from pandas in a future version. Use pandas.concat instead.\n",
      "  df_scores = df_scores.append(data, ignore_index=True)\n"
     ]
    },
    {
     "name": "stdout",
     "output_type": "stream",
     "text": [
      "3 ,  0.1 :  9.674593098958333\n"
     ]
    },
    {
     "name": "stderr",
     "output_type": "stream",
     "text": [
      "C:\\Users\\faroq\\AppData\\Local\\Temp\\ipykernel_2464\\232416344.py:53: FutureWarning: The frame.append method is deprecated and will be removed from pandas in a future version. Use pandas.concat instead.\n",
      "  df_scores = df_scores.append(data, ignore_index=True)\n"
     ]
    },
    {
     "name": "stdout",
     "output_type": "stream",
     "text": [
      "3 ,  0.01 :  11.05078125\n"
     ]
    },
    {
     "name": "stderr",
     "output_type": "stream",
     "text": [
      "C:\\Users\\faroq\\AppData\\Local\\Temp\\ipykernel_2464\\232416344.py:53: FutureWarning: The frame.append method is deprecated and will be removed from pandas in a future version. Use pandas.concat instead.\n",
      "  df_scores = df_scores.append(data, ignore_index=True)\n"
     ]
    },
    {
     "name": "stdout",
     "output_type": "stream",
     "text": [
      "3 ,  0.01 :  10.769416360294118\n"
     ]
    },
    {
     "name": "stderr",
     "output_type": "stream",
     "text": [
      "C:\\Users\\faroq\\AppData\\Local\\Temp\\ipykernel_2464\\232416344.py:53: FutureWarning: The frame.append method is deprecated and will be removed from pandas in a future version. Use pandas.concat instead.\n",
      "  df_scores = df_scores.append(data, ignore_index=True)\n"
     ]
    },
    {
     "name": "stdout",
     "output_type": "stream",
     "text": [
      "3 ,  0.01 :  10.181749131944445\n"
     ]
    },
    {
     "name": "stderr",
     "output_type": "stream",
     "text": [
      "C:\\Users\\faroq\\AppData\\Local\\Temp\\ipykernel_2464\\232416344.py:53: FutureWarning: The frame.append method is deprecated and will be removed from pandas in a future version. Use pandas.concat instead.\n",
      "  df_scores = df_scores.append(data, ignore_index=True)\n"
     ]
    },
    {
     "name": "stdout",
     "output_type": "stream",
     "text": [
      "3 ,  0.01 :  12.423108552631579\n"
     ]
    },
    {
     "name": "stderr",
     "output_type": "stream",
     "text": [
      "C:\\Users\\faroq\\AppData\\Local\\Temp\\ipykernel_2464\\232416344.py:53: FutureWarning: The frame.append method is deprecated and will be removed from pandas in a future version. Use pandas.concat instead.\n",
      "  df_scores = df_scores.append(data, ignore_index=True)\n"
     ]
    },
    {
     "name": "stdout",
     "output_type": "stream",
     "text": [
      "3 ,  0.01 :  13.42197265625\n"
     ]
    },
    {
     "name": "stderr",
     "output_type": "stream",
     "text": [
      "C:\\Users\\faroq\\AppData\\Local\\Temp\\ipykernel_2464\\232416344.py:53: FutureWarning: The frame.append method is deprecated and will be removed from pandas in a future version. Use pandas.concat instead.\n",
      "  df_scores = df_scores.append(data, ignore_index=True)\n"
     ]
    },
    {
     "name": "stdout",
     "output_type": "stream",
     "text": [
      "3 ,  0.01 :  14.292945498511905\n"
     ]
    },
    {
     "name": "stderr",
     "output_type": "stream",
     "text": [
      "C:\\Users\\faroq\\AppData\\Local\\Temp\\ipykernel_2464\\232416344.py:53: FutureWarning: The frame.append method is deprecated and will be removed from pandas in a future version. Use pandas.concat instead.\n",
      "  df_scores = df_scores.append(data, ignore_index=True)\n"
     ]
    },
    {
     "name": "stdout",
     "output_type": "stream",
     "text": [
      "3 ,  0.01 :  13.917990944602273\n"
     ]
    },
    {
     "name": "stderr",
     "output_type": "stream",
     "text": [
      "C:\\Users\\faroq\\AppData\\Local\\Temp\\ipykernel_2464\\232416344.py:53: FutureWarning: The frame.append method is deprecated and will be removed from pandas in a future version. Use pandas.concat instead.\n",
      "  df_scores = df_scores.append(data, ignore_index=True)\n"
     ]
    },
    {
     "name": "stdout",
     "output_type": "stream",
     "text": [
      "3 ,  0.01 :  13.321182914402174\n"
     ]
    },
    {
     "name": "stderr",
     "output_type": "stream",
     "text": [
      "C:\\Users\\faroq\\AppData\\Local\\Temp\\ipykernel_2464\\232416344.py:53: FutureWarning: The frame.append method is deprecated and will be removed from pandas in a future version. Use pandas.concat instead.\n",
      "  df_scores = df_scores.append(data, ignore_index=True)\n"
     ]
    },
    {
     "name": "stdout",
     "output_type": "stream",
     "text": [
      "3 ,  0.01 :  14.963907877604166\n"
     ]
    },
    {
     "name": "stderr",
     "output_type": "stream",
     "text": [
      "C:\\Users\\faroq\\AppData\\Local\\Temp\\ipykernel_2464\\232416344.py:53: FutureWarning: The frame.append method is deprecated and will be removed from pandas in a future version. Use pandas.concat instead.\n",
      "  df_scores = df_scores.append(data, ignore_index=True)\n"
     ]
    },
    {
     "name": "stdout",
     "output_type": "stream",
     "text": [
      "3 ,  0.01 :  15.670810546875\n"
     ]
    },
    {
     "name": "stderr",
     "output_type": "stream",
     "text": [
      "C:\\Users\\faroq\\AppData\\Local\\Temp\\ipykernel_2464\\232416344.py:53: FutureWarning: The frame.append method is deprecated and will be removed from pandas in a future version. Use pandas.concat instead.\n",
      "  df_scores = df_scores.append(data, ignore_index=True)\n"
     ]
    },
    {
     "name": "stdout",
     "output_type": "stream",
     "text": [
      "3 ,  0.01 :  15.982703575721153\n"
     ]
    },
    {
     "name": "stderr",
     "output_type": "stream",
     "text": [
      "C:\\Users\\faroq\\AppData\\Local\\Temp\\ipykernel_2464\\232416344.py:53: FutureWarning: The frame.append method is deprecated and will be removed from pandas in a future version. Use pandas.concat instead.\n",
      "  df_scores = df_scores.append(data, ignore_index=True)\n"
     ]
    },
    {
     "name": "stdout",
     "output_type": "stream",
     "text": [
      "3 ,  0.01 :  15.653889973958334\n"
     ]
    },
    {
     "name": "stderr",
     "output_type": "stream",
     "text": [
      "C:\\Users\\faroq\\AppData\\Local\\Temp\\ipykernel_2464\\232416344.py:53: FutureWarning: The frame.append method is deprecated and will be removed from pandas in a future version. Use pandas.concat instead.\n",
      "  df_scores = df_scores.append(data, ignore_index=True)\n"
     ]
    },
    {
     "name": "stdout",
     "output_type": "stream",
     "text": [
      "3 ,  0.01 :  15.101658412388392\n"
     ]
    },
    {
     "name": "stderr",
     "output_type": "stream",
     "text": [
      "C:\\Users\\faroq\\AppData\\Local\\Temp\\ipykernel_2464\\232416344.py:53: FutureWarning: The frame.append method is deprecated and will be removed from pandas in a future version. Use pandas.concat instead.\n",
      "  df_scores = df_scores.append(data, ignore_index=True)\n"
     ]
    },
    {
     "name": "stdout",
     "output_type": "stream",
     "text": [
      "3 ,  0.01 :  16.405433391702587\n"
     ]
    },
    {
     "name": "stderr",
     "output_type": "stream",
     "text": [
      "C:\\Users\\faroq\\AppData\\Local\\Temp\\ipykernel_2464\\232416344.py:53: FutureWarning: The frame.append method is deprecated and will be removed from pandas in a future version. Use pandas.concat instead.\n",
      "  df_scores = df_scores.append(data, ignore_index=True)\n",
      "C:\\Users\\faroq\\AppData\\Local\\Temp\\ipykernel_2464\\232416344.py:53: FutureWarning: The frame.append method is deprecated and will be removed from pandas in a future version. Use pandas.concat instead.\n",
      "  df_scores = df_scores.append(data, ignore_index=True)\n",
      "C:\\Users\\faroq\\AppData\\Local\\Temp\\ipykernel_2464\\232416344.py:53: FutureWarning: The frame.append method is deprecated and will be removed from pandas in a future version. Use pandas.concat instead.\n",
      "  df_scores = df_scores.append(data, ignore_index=True)\n"
     ]
    },
    {
     "name": "stdout",
     "output_type": "stream",
     "text": [
      "3 ,  0.01 :  16.6260498046875\n",
      "3 ,  0.2 :  16.527233492943548\n",
      "3 ,  0.2 :  16.056068420410156\n"
     ]
    },
    {
     "name": "stderr",
     "output_type": "stream",
     "text": [
      "C:\\Users\\faroq\\AppData\\Local\\Temp\\ipykernel_2464\\232416344.py:53: FutureWarning: The frame.append method is deprecated and will be removed from pandas in a future version. Use pandas.concat instead.\n",
      "  df_scores = df_scores.append(data, ignore_index=True)\n",
      "C:\\Users\\faroq\\AppData\\Local\\Temp\\ipykernel_2464\\232416344.py:53: FutureWarning: The frame.append method is deprecated and will be removed from pandas in a future version. Use pandas.concat instead.\n",
      "  df_scores = df_scores.append(data, ignore_index=True)\n"
     ]
    },
    {
     "name": "stdout",
     "output_type": "stream",
     "text": [
      "3 ,  0.2 :  15.576933889678031\n",
      "3 ,  0.2 :  15.124418370863971\n"
     ]
    },
    {
     "name": "stderr",
     "output_type": "stream",
     "text": [
      "C:\\Users\\faroq\\AppData\\Local\\Temp\\ipykernel_2464\\232416344.py:53: FutureWarning: The frame.append method is deprecated and will be removed from pandas in a future version. Use pandas.concat instead.\n",
      "  df_scores = df_scores.append(data, ignore_index=True)\n",
      "C:\\Users\\faroq\\AppData\\Local\\Temp\\ipykernel_2464\\232416344.py:53: FutureWarning: The frame.append method is deprecated and will be removed from pandas in a future version. Use pandas.concat instead.\n",
      "  df_scores = df_scores.append(data, ignore_index=True)\n",
      "C:\\Users\\faroq\\AppData\\Local\\Temp\\ipykernel_2464\\232416344.py:53: FutureWarning: The frame.append method is deprecated and will be removed from pandas in a future version. Use pandas.concat instead.\n",
      "  df_scores = df_scores.append(data, ignore_index=True)\n"
     ]
    },
    {
     "name": "stdout",
     "output_type": "stream",
     "text": [
      "3 ,  0.2 :  14.701297433035714\n",
      "3 ,  0.2 :  14.516432020399305\n",
      "3 ,  0.2 :  14.163283889358109\n"
     ]
    },
    {
     "name": "stderr",
     "output_type": "stream",
     "text": [
      "C:\\Users\\faroq\\AppData\\Local\\Temp\\ipykernel_2464\\232416344.py:53: FutureWarning: The frame.append method is deprecated and will be removed from pandas in a future version. Use pandas.concat instead.\n",
      "  df_scores = df_scores.append(data, ignore_index=True)\n",
      "C:\\Users\\faroq\\AppData\\Local\\Temp\\ipykernel_2464\\232416344.py:53: FutureWarning: The frame.append method is deprecated and will be removed from pandas in a future version. Use pandas.concat instead.\n",
      "  df_scores = df_scores.append(data, ignore_index=True)\n"
     ]
    },
    {
     "name": "stdout",
     "output_type": "stream",
     "text": [
      "3 ,  0.2 :  13.79700349506579\n",
      "3 ,  0.2 :  13.45668694911859\n"
     ]
    },
    {
     "name": "stderr",
     "output_type": "stream",
     "text": [
      "C:\\Users\\faroq\\AppData\\Local\\Temp\\ipykernel_2464\\232416344.py:53: FutureWarning: The frame.append method is deprecated and will be removed from pandas in a future version. Use pandas.concat instead.\n",
      "  df_scores = df_scores.append(data, ignore_index=True)\n",
      "C:\\Users\\faroq\\AppData\\Local\\Temp\\ipykernel_2464\\232416344.py:53: FutureWarning: The frame.append method is deprecated and will be removed from pandas in a future version. Use pandas.concat instead.\n",
      "  df_scores = df_scores.append(data, ignore_index=True)\n"
     ]
    },
    {
     "name": "stdout",
     "output_type": "stream",
     "text": [
      "3 ,  0.2 :  13.130059814453125\n",
      "3 ,  0.2 :  12.822884908536585\n"
     ]
    },
    {
     "name": "stderr",
     "output_type": "stream",
     "text": [
      "C:\\Users\\faroq\\AppData\\Local\\Temp\\ipykernel_2464\\232416344.py:53: FutureWarning: The frame.append method is deprecated and will be removed from pandas in a future version. Use pandas.concat instead.\n",
      "  df_scores = df_scores.append(data, ignore_index=True)\n",
      "C:\\Users\\faroq\\AppData\\Local\\Temp\\ipykernel_2464\\232416344.py:53: FutureWarning: The frame.append method is deprecated and will be removed from pandas in a future version. Use pandas.concat instead.\n",
      "  df_scores = df_scores.append(data, ignore_index=True)\n"
     ]
    },
    {
     "name": "stdout",
     "output_type": "stream",
     "text": [
      "3 ,  0.2 :  12.568731398809524\n",
      "3 ,  0.2 :  12.282124364098838\n"
     ]
    },
    {
     "name": "stderr",
     "output_type": "stream",
     "text": [
      "C:\\Users\\faroq\\AppData\\Local\\Temp\\ipykernel_2464\\232416344.py:53: FutureWarning: The frame.append method is deprecated and will be removed from pandas in a future version. Use pandas.concat instead.\n",
      "  df_scores = df_scores.append(data, ignore_index=True)\n",
      "C:\\Users\\faroq\\AppData\\Local\\Temp\\ipykernel_2464\\232416344.py:53: FutureWarning: The frame.append method is deprecated and will be removed from pandas in a future version. Use pandas.concat instead.\n",
      "  df_scores = df_scores.append(data, ignore_index=True)\n"
     ]
    },
    {
     "name": "stdout",
     "output_type": "stream",
     "text": [
      "3 ,  0.2 :  12.004810680042613\n",
      "3 ,  0.2 :  11.927311197916667\n"
     ]
    },
    {
     "name": "stderr",
     "output_type": "stream",
     "text": [
      "C:\\Users\\faroq\\AppData\\Local\\Temp\\ipykernel_2464\\232416344.py:53: FutureWarning: The frame.append method is deprecated and will be removed from pandas in a future version. Use pandas.concat instead.\n",
      "  df_scores = df_scores.append(data, ignore_index=True)\n",
      "C:\\Users\\faroq\\AppData\\Local\\Temp\\ipykernel_2464\\232416344.py:53: FutureWarning: The frame.append method is deprecated and will be removed from pandas in a future version. Use pandas.concat instead.\n",
      "  df_scores = df_scores.append(data, ignore_index=True)\n"
     ]
    },
    {
     "name": "stdout",
     "output_type": "stream",
     "text": [
      "4 ,  0.1 :  11.96008831521739\n",
      "4 ,  0.1 :  12.045571185172872\n"
     ]
    },
    {
     "name": "stderr",
     "output_type": "stream",
     "text": [
      "C:\\Users\\faroq\\AppData\\Local\\Temp\\ipykernel_2464\\232416344.py:53: FutureWarning: The frame.append method is deprecated and will be removed from pandas in a future version. Use pandas.concat instead.\n",
      "  df_scores = df_scores.append(data, ignore_index=True)\n",
      "C:\\Users\\faroq\\AppData\\Local\\Temp\\ipykernel_2464\\232416344.py:53: FutureWarning: The frame.append method is deprecated and will be removed from pandas in a future version. Use pandas.concat instead.\n",
      "  df_scores = df_scores.append(data, ignore_index=True)\n"
     ]
    },
    {
     "name": "stdout",
     "output_type": "stream",
     "text": [
      "4 ,  0.1 :  11.803914388020834\n",
      "4 ,  0.1 :  12.341577646683673\n"
     ]
    },
    {
     "name": "stderr",
     "output_type": "stream",
     "text": [
      "C:\\Users\\faroq\\AppData\\Local\\Temp\\ipykernel_2464\\232416344.py:53: FutureWarning: The frame.append method is deprecated and will be removed from pandas in a future version. Use pandas.concat instead.\n",
      "  df_scores = df_scores.append(data, ignore_index=True)\n",
      "C:\\Users\\faroq\\AppData\\Local\\Temp\\ipykernel_2464\\232416344.py:53: FutureWarning: The frame.append method is deprecated and will be removed from pandas in a future version. Use pandas.concat instead.\n",
      "  df_scores = df_scores.append(data, ignore_index=True)\n"
     ]
    },
    {
     "name": "stdout",
     "output_type": "stream",
     "text": [
      "4 ,  0.1 :  12.20458984375\n",
      "4 ,  0.1 :  12.405895756740197\n"
     ]
    },
    {
     "name": "stderr",
     "output_type": "stream",
     "text": [
      "C:\\Users\\faroq\\AppData\\Local\\Temp\\ipykernel_2464\\232416344.py:53: FutureWarning: The frame.append method is deprecated and will be removed from pandas in a future version. Use pandas.concat instead.\n",
      "  df_scores = df_scores.append(data, ignore_index=True)\n",
      "C:\\Users\\faroq\\AppData\\Local\\Temp\\ipykernel_2464\\232416344.py:53: FutureWarning: The frame.append method is deprecated and will be removed from pandas in a future version. Use pandas.concat instead.\n",
      "  df_scores = df_scores.append(data, ignore_index=True)\n"
     ]
    },
    {
     "name": "stdout",
     "output_type": "stream",
     "text": [
      "4 ,  0.1 :  12.185373159555288\n",
      "4 ,  0.1 :  11.95950029481132\n"
     ]
    },
    {
     "name": "stderr",
     "output_type": "stream",
     "text": [
      "C:\\Users\\faroq\\AppData\\Local\\Temp\\ipykernel_2464\\232416344.py:53: FutureWarning: The frame.append method is deprecated and will be removed from pandas in a future version. Use pandas.concat instead.\n",
      "  df_scores = df_scores.append(data, ignore_index=True)\n"
     ]
    },
    {
     "name": "stdout",
     "output_type": "stream",
     "text": [
      "4 ,  0.1 :  12.066984953703704\n"
     ]
    },
    {
     "name": "stderr",
     "output_type": "stream",
     "text": [
      "C:\\Users\\faroq\\AppData\\Local\\Temp\\ipykernel_2464\\232416344.py:53: FutureWarning: The frame.append method is deprecated and will be removed from pandas in a future version. Use pandas.concat instead.\n",
      "  df_scores = df_scores.append(data, ignore_index=True)\n",
      "C:\\Users\\faroq\\AppData\\Local\\Temp\\ipykernel_2464\\232416344.py:53: FutureWarning: The frame.append method is deprecated and will be removed from pandas in a future version. Use pandas.concat instead.\n",
      "  df_scores = df_scores.append(data, ignore_index=True)\n"
     ]
    },
    {
     "name": "stdout",
     "output_type": "stream",
     "text": [
      "4 ,  0.1 :  11.849866832386363\n",
      "4 ,  0.1 :  11.645224434988839\n"
     ]
    },
    {
     "name": "stderr",
     "output_type": "stream",
     "text": [
      "C:\\Users\\faroq\\AppData\\Local\\Temp\\ipykernel_2464\\232416344.py:53: FutureWarning: The frame.append method is deprecated and will be removed from pandas in a future version. Use pandas.concat instead.\n",
      "  df_scores = df_scores.append(data, ignore_index=True)\n",
      "C:\\Users\\faroq\\AppData\\Local\\Temp\\ipykernel_2464\\232416344.py:53: FutureWarning: The frame.append method is deprecated and will be removed from pandas in a future version. Use pandas.concat instead.\n",
      "  df_scores = df_scores.append(data, ignore_index=True)\n"
     ]
    },
    {
     "name": "stdout",
     "output_type": "stream",
     "text": [
      "4 ,  0.1 :  11.445757949561404\n",
      "4 ,  0.1 :  11.2784423828125\n"
     ]
    },
    {
     "name": "stderr",
     "output_type": "stream",
     "text": [
      "C:\\Users\\faroq\\AppData\\Local\\Temp\\ipykernel_2464\\232416344.py:53: FutureWarning: The frame.append method is deprecated and will be removed from pandas in a future version. Use pandas.concat instead.\n",
      "  df_scores = df_scores.append(data, ignore_index=True)\n",
      "C:\\Users\\faroq\\AppData\\Local\\Temp\\ipykernel_2464\\232416344.py:53: FutureWarning: The frame.append method is deprecated and will be removed from pandas in a future version. Use pandas.concat instead.\n",
      "  df_scores = df_scores.append(data, ignore_index=True)\n"
     ]
    },
    {
     "name": "stdout",
     "output_type": "stream",
     "text": [
      "4 ,  0.1 :  11.336090605137711\n",
      "4 ,  0.1 :  11.154532877604167\n"
     ]
    },
    {
     "name": "stderr",
     "output_type": "stream",
     "text": [
      "C:\\Users\\faroq\\AppData\\Local\\Temp\\ipykernel_2464\\232416344.py:53: FutureWarning: The frame.append method is deprecated and will be removed from pandas in a future version. Use pandas.concat instead.\n",
      "  df_scores = df_scores.append(data, ignore_index=True)\n"
     ]
    },
    {
     "name": "stdout",
     "output_type": "stream",
     "text": [
      "4 ,  0.01 :  11.472516169313524\n"
     ]
    },
    {
     "name": "stderr",
     "output_type": "stream",
     "text": [
      "C:\\Users\\faroq\\AppData\\Local\\Temp\\ipykernel_2464\\232416344.py:53: FutureWarning: The frame.append method is deprecated and will be removed from pandas in a future version. Use pandas.concat instead.\n",
      "  df_scores = df_scores.append(data, ignore_index=True)\n"
     ]
    },
    {
     "name": "stdout",
     "output_type": "stream",
     "text": [
      "4 ,  0.01 :  11.473853326612904\n"
     ]
    },
    {
     "name": "stderr",
     "output_type": "stream",
     "text": [
      "C:\\Users\\faroq\\AppData\\Local\\Temp\\ipykernel_2464\\232416344.py:53: FutureWarning: The frame.append method is deprecated and will be removed from pandas in a future version. Use pandas.concat instead.\n",
      "  df_scores = df_scores.append(data, ignore_index=True)\n"
     ]
    },
    {
     "name": "stdout",
     "output_type": "stream",
     "text": [
      "4 ,  0.01 :  11.293243892609127\n"
     ]
    },
    {
     "name": "stderr",
     "output_type": "stream",
     "text": [
      "C:\\Users\\faroq\\AppData\\Local\\Temp\\ipykernel_2464\\232416344.py:53: FutureWarning: The frame.append method is deprecated and will be removed from pandas in a future version. Use pandas.concat instead.\n",
      "  df_scores = df_scores.append(data, ignore_index=True)\n"
     ]
    },
    {
     "name": "stdout",
     "output_type": "stream",
     "text": [
      "4 ,  0.01 :  12.047920227050781\n"
     ]
    },
    {
     "name": "stderr",
     "output_type": "stream",
     "text": [
      "C:\\Users\\faroq\\AppData\\Local\\Temp\\ipykernel_2464\\232416344.py:53: FutureWarning: The frame.append method is deprecated and will be removed from pandas in a future version. Use pandas.concat instead.\n",
      "  df_scores = df_scores.append(data, ignore_index=True)\n"
     ]
    },
    {
     "name": "stdout",
     "output_type": "stream",
     "text": [
      "4 ,  0.01 :  12.202982271634616\n"
     ]
    },
    {
     "name": "stderr",
     "output_type": "stream",
     "text": [
      "C:\\Users\\faroq\\AppData\\Local\\Temp\\ipykernel_2464\\232416344.py:53: FutureWarning: The frame.append method is deprecated and will be removed from pandas in a future version. Use pandas.concat instead.\n",
      "  df_scores = df_scores.append(data, ignore_index=True)\n"
     ]
    },
    {
     "name": "stdout",
     "output_type": "stream",
     "text": [
      "4 ,  0.01 :  12.268236564867424\n"
     ]
    },
    {
     "name": "stderr",
     "output_type": "stream",
     "text": [
      "C:\\Users\\faroq\\AppData\\Local\\Temp\\ipykernel_2464\\232416344.py:53: FutureWarning: The frame.append method is deprecated and will be removed from pandas in a future version. Use pandas.concat instead.\n",
      "  df_scores = df_scores.append(data, ignore_index=True)\n"
     ]
    },
    {
     "name": "stdout",
     "output_type": "stream",
     "text": [
      "4 ,  0.01 :  12.171124358675373\n"
     ]
    },
    {
     "name": "stderr",
     "output_type": "stream",
     "text": [
      "C:\\Users\\faroq\\AppData\\Local\\Temp\\ipykernel_2464\\232416344.py:53: FutureWarning: The frame.append method is deprecated and will be removed from pandas in a future version. Use pandas.concat instead.\n",
      "  df_scores = df_scores.append(data, ignore_index=True)\n"
     ]
    },
    {
     "name": "stdout",
     "output_type": "stream",
     "text": [
      "4 ,  0.01 :  11.994564280790442\n"
     ]
    },
    {
     "name": "stderr",
     "output_type": "stream",
     "text": [
      "C:\\Users\\faroq\\AppData\\Local\\Temp\\ipykernel_2464\\232416344.py:53: FutureWarning: The frame.append method is deprecated and will be removed from pandas in a future version. Use pandas.concat instead.\n",
      "  df_scores = df_scores.append(data, ignore_index=True)\n"
     ]
    },
    {
     "name": "stdout",
     "output_type": "stream",
     "text": [
      "4 ,  0.01 :  12.426863960597826\n"
     ]
    },
    {
     "name": "stderr",
     "output_type": "stream",
     "text": [
      "C:\\Users\\faroq\\AppData\\Local\\Temp\\ipykernel_2464\\232416344.py:53: FutureWarning: The frame.append method is deprecated and will be removed from pandas in a future version. Use pandas.concat instead.\n",
      "  df_scores = df_scores.append(data, ignore_index=True)\n"
     ]
    },
    {
     "name": "stdout",
     "output_type": "stream",
     "text": [
      "4 ,  0.01 :  12.672370256696428\n"
     ]
    },
    {
     "name": "stderr",
     "output_type": "stream",
     "text": [
      "C:\\Users\\faroq\\AppData\\Local\\Temp\\ipykernel_2464\\232416344.py:53: FutureWarning: The frame.append method is deprecated and will be removed from pandas in a future version. Use pandas.concat instead.\n",
      "  df_scores = df_scores.append(data, ignore_index=True)\n"
     ]
    },
    {
     "name": "stdout",
     "output_type": "stream",
     "text": [
      "4 ,  0.01 :  12.697643871038732\n"
     ]
    },
    {
     "name": "stderr",
     "output_type": "stream",
     "text": [
      "C:\\Users\\faroq\\AppData\\Local\\Temp\\ipykernel_2464\\232416344.py:53: FutureWarning: The frame.append method is deprecated and will be removed from pandas in a future version. Use pandas.concat instead.\n",
      "  df_scores = df_scores.append(data, ignore_index=True)\n"
     ]
    },
    {
     "name": "stdout",
     "output_type": "stream",
     "text": [
      "4 ,  0.01 :  12.645677354600695\n"
     ]
    },
    {
     "name": "stderr",
     "output_type": "stream",
     "text": [
      "C:\\Users\\faroq\\AppData\\Local\\Temp\\ipykernel_2464\\232416344.py:53: FutureWarning: The frame.append method is deprecated and will be removed from pandas in a future version. Use pandas.concat instead.\n",
      "  df_scores = df_scores.append(data, ignore_index=True)\n"
     ]
    },
    {
     "name": "stdout",
     "output_type": "stream",
     "text": [
      "4 ,  0.01 :  12.473328472816782\n"
     ]
    },
    {
     "name": "stderr",
     "output_type": "stream",
     "text": [
      "C:\\Users\\faroq\\AppData\\Local\\Temp\\ipykernel_2464\\232416344.py:53: FutureWarning: The frame.append method is deprecated and will be removed from pandas in a future version. Use pandas.concat instead.\n",
      "  df_scores = df_scores.append(data, ignore_index=True)\n"
     ]
    },
    {
     "name": "stdout",
     "output_type": "stream",
     "text": [
      "4 ,  0.01 :  13.054506044130068\n"
     ]
    },
    {
     "name": "stderr",
     "output_type": "stream",
     "text": [
      "C:\\Users\\faroq\\AppData\\Local\\Temp\\ipykernel_2464\\232416344.py:53: FutureWarning: The frame.append method is deprecated and will be removed from pandas in a future version. Use pandas.concat instead.\n",
      "  df_scores = df_scores.append(data, ignore_index=True)\n",
      "C:\\Users\\faroq\\AppData\\Local\\Temp\\ipykernel_2464\\232416344.py:53: FutureWarning: The frame.append method is deprecated and will be removed from pandas in a future version. Use pandas.concat instead.\n",
      "  df_scores = df_scores.append(data, ignore_index=True)\n"
     ]
    },
    {
     "name": "stdout",
     "output_type": "stream",
     "text": [
      "4 ,  0.01 :  13.106656901041667\n",
      "4 ,  0.2 :  12.969704075863486\n"
     ]
    },
    {
     "name": "stderr",
     "output_type": "stream",
     "text": [
      "C:\\Users\\faroq\\AppData\\Local\\Temp\\ipykernel_2464\\232416344.py:53: FutureWarning: The frame.append method is deprecated and will be removed from pandas in a future version. Use pandas.concat instead.\n",
      "  df_scores = df_scores.append(data, ignore_index=True)\n",
      "C:\\Users\\faroq\\AppData\\Local\\Temp\\ipykernel_2464\\232416344.py:53: FutureWarning: The frame.append method is deprecated and will be removed from pandas in a future version. Use pandas.concat instead.\n",
      "  df_scores = df_scores.append(data, ignore_index=True)\n",
      "C:\\Users\\faroq\\AppData\\Local\\Temp\\ipykernel_2464\\232416344.py:53: FutureWarning: The frame.append method is deprecated and will be removed from pandas in a future version. Use pandas.concat instead.\n",
      "  df_scores = df_scores.append(data, ignore_index=True)\n"
     ]
    },
    {
     "name": "stdout",
     "output_type": "stream",
     "text": [
      "4 ,  0.2 :  12.8013868455763\n",
      "4 ,  0.2 :  12.676485501802885\n",
      "4 ,  0.2 :  12.999462272547468\n"
     ]
    },
    {
     "name": "stderr",
     "output_type": "stream",
     "text": [
      "C:\\Users\\faroq\\AppData\\Local\\Temp\\ipykernel_2464\\232416344.py:53: FutureWarning: The frame.append method is deprecated and will be removed from pandas in a future version. Use pandas.concat instead.\n",
      "  df_scores = df_scores.append(data, ignore_index=True)\n",
      "C:\\Users\\faroq\\AppData\\Local\\Temp\\ipykernel_2464\\232416344.py:53: FutureWarning: The frame.append method is deprecated and will be removed from pandas in a future version. Use pandas.concat instead.\n",
      "  df_scores = df_scores.append(data, ignore_index=True)\n",
      "C:\\Users\\faroq\\AppData\\Local\\Temp\\ipykernel_2464\\232416344.py:53: FutureWarning: The frame.append method is deprecated and will be removed from pandas in a future version. Use pandas.concat instead.\n",
      "  df_scores = df_scores.append(data, ignore_index=True)\n"
     ]
    },
    {
     "name": "stdout",
     "output_type": "stream",
     "text": [
      "4 ,  0.2 :  12.955020141601562\n",
      "4 ,  0.2 :  13.010422694830247\n",
      "4 ,  0.2 :  12.869322241806403\n"
     ]
    },
    {
     "name": "stderr",
     "output_type": "stream",
     "text": [
      "C:\\Users\\faroq\\AppData\\Local\\Temp\\ipykernel_2464\\232416344.py:53: FutureWarning: The frame.append method is deprecated and will be removed from pandas in a future version. Use pandas.concat instead.\n",
      "  df_scores = df_scores.append(data, ignore_index=True)\n",
      "C:\\Users\\faroq\\AppData\\Local\\Temp\\ipykernel_2464\\232416344.py:53: FutureWarning: The frame.append method is deprecated and will be removed from pandas in a future version. Use pandas.concat instead.\n",
      "  df_scores = df_scores.append(data, ignore_index=True)\n"
     ]
    },
    {
     "name": "stdout",
     "output_type": "stream",
     "text": [
      "4 ,  0.2 :  12.752620834902109\n",
      "4 ,  0.2 :  12.748648507254464\n"
     ]
    },
    {
     "name": "stderr",
     "output_type": "stream",
     "text": [
      "C:\\Users\\faroq\\AppData\\Local\\Temp\\ipykernel_2464\\232416344.py:53: FutureWarning: The frame.append method is deprecated and will be removed from pandas in a future version. Use pandas.concat instead.\n",
      "  df_scores = df_scores.append(data, ignore_index=True)\n",
      "C:\\Users\\faroq\\AppData\\Local\\Temp\\ipykernel_2464\\232416344.py:53: FutureWarning: The frame.append method is deprecated and will be removed from pandas in a future version. Use pandas.concat instead.\n",
      "  df_scores = df_scores.append(data, ignore_index=True)\n"
     ]
    },
    {
     "name": "stdout",
     "output_type": "stream",
     "text": [
      "4 ,  0.2 :  12.858191636029412\n",
      "4 ,  0.2 :  12.719419967296512\n"
     ]
    },
    {
     "name": "stderr",
     "output_type": "stream",
     "text": [
      "C:\\Users\\faroq\\AppData\\Local\\Temp\\ipykernel_2464\\232416344.py:53: FutureWarning: The frame.append method is deprecated and will be removed from pandas in a future version. Use pandas.concat instead.\n",
      "  df_scores = df_scores.append(data, ignore_index=True)\n",
      "C:\\Users\\faroq\\AppData\\Local\\Temp\\ipykernel_2464\\232416344.py:53: FutureWarning: The frame.append method is deprecated and will be removed from pandas in a future version. Use pandas.concat instead.\n",
      "  df_scores = df_scores.append(data, ignore_index=True)\n",
      "C:\\Users\\faroq\\AppData\\Local\\Temp\\ipykernel_2464\\232416344.py:53: FutureWarning: The frame.append method is deprecated and will be removed from pandas in a future version. Use pandas.concat instead.\n",
      "  df_scores = df_scores.append(data, ignore_index=True)\n"
     ]
    },
    {
     "name": "stdout",
     "output_type": "stream",
     "text": [
      "4 ,  0.2 :  12.59954763829023\n",
      "4 ,  0.2 :  12.492345636541193\n",
      "4 ,  0.2 :  12.872950864641854\n"
     ]
    },
    {
     "name": "stderr",
     "output_type": "stream",
     "text": [
      "C:\\Users\\faroq\\AppData\\Local\\Temp\\ipykernel_2464\\232416344.py:53: FutureWarning: The frame.append method is deprecated and will be removed from pandas in a future version. Use pandas.concat instead.\n",
      "  df_scores = df_scores.append(data, ignore_index=True)\n",
      "C:\\Users\\faroq\\AppData\\Local\\Temp\\ipykernel_2464\\232416344.py:53: FutureWarning: The frame.append method is deprecated and will be removed from pandas in a future version. Use pandas.concat instead.\n",
      "  df_scores = df_scores.append(data, ignore_index=True)\n"
     ]
    },
    {
     "name": "stdout",
     "output_type": "stream",
     "text": [
      "4 ,  0.2 :  12.75381130642361\n",
      "5 ,  0.1 :  12.98630129635989\n"
     ]
    },
    {
     "name": "stderr",
     "output_type": "stream",
     "text": [
      "C:\\Users\\faroq\\AppData\\Local\\Temp\\ipykernel_2464\\232416344.py:53: FutureWarning: The frame.append method is deprecated and will be removed from pandas in a future version. Use pandas.concat instead.\n",
      "  df_scores = df_scores.append(data, ignore_index=True)\n",
      "C:\\Users\\faroq\\AppData\\Local\\Temp\\ipykernel_2464\\232416344.py:53: FutureWarning: The frame.append method is deprecated and will be removed from pandas in a future version. Use pandas.concat instead.\n",
      "  df_scores = df_scores.append(data, ignore_index=True)\n"
     ]
    },
    {
     "name": "stdout",
     "output_type": "stream",
     "text": [
      "5 ,  0.1 :  12.946872877038043\n",
      "5 ,  0.1 :  12.824226625504032\n"
     ]
    },
    {
     "name": "stderr",
     "output_type": "stream",
     "text": [
      "C:\\Users\\faroq\\AppData\\Local\\Temp\\ipykernel_2464\\232416344.py:53: FutureWarning: The frame.append method is deprecated and will be removed from pandas in a future version. Use pandas.concat instead.\n",
      "  df_scores = df_scores.append(data, ignore_index=True)\n"
     ]
    },
    {
     "name": "stdout",
     "output_type": "stream",
     "text": [
      "5 ,  0.1 :  13.17963555518617\n"
     ]
    },
    {
     "name": "stderr",
     "output_type": "stream",
     "text": [
      "C:\\Users\\faroq\\AppData\\Local\\Temp\\ipykernel_2464\\232416344.py:53: FutureWarning: The frame.append method is deprecated and will be removed from pandas in a future version. Use pandas.concat instead.\n",
      "  df_scores = df_scores.append(data, ignore_index=True)\n"
     ]
    },
    {
     "name": "stdout",
     "output_type": "stream",
     "text": [
      "5 ,  0.1 :  13.087225020559211\n"
     ]
    },
    {
     "name": "stderr",
     "output_type": "stream",
     "text": [
      "C:\\Users\\faroq\\AppData\\Local\\Temp\\ipykernel_2464\\232416344.py:53: FutureWarning: The frame.append method is deprecated and will be removed from pandas in a future version. Use pandas.concat instead.\n",
      "  df_scores = df_scores.append(data, ignore_index=True)\n",
      "C:\\Users\\faroq\\AppData\\Local\\Temp\\ipykernel_2464\\232416344.py:53: FutureWarning: The frame.append method is deprecated and will be removed from pandas in a future version. Use pandas.concat instead.\n",
      "  df_scores = df_scores.append(data, ignore_index=True)\n"
     ]
    },
    {
     "name": "stdout",
     "output_type": "stream",
     "text": [
      "5 ,  0.1 :  13.34716796875\n",
      "5 ,  0.1 :  13.521668109697165\n"
     ]
    },
    {
     "name": "stderr",
     "output_type": "stream",
     "text": [
      "C:\\Users\\faroq\\AppData\\Local\\Temp\\ipykernel_2464\\232416344.py:53: FutureWarning: The frame.append method is deprecated and will be removed from pandas in a future version. Use pandas.concat instead.\n",
      "  df_scores = df_scores.append(data, ignore_index=True)\n"
     ]
    },
    {
     "name": "stdout",
     "output_type": "stream",
     "text": [
      "5 ,  0.1 :  13.411496532206632\n"
     ]
    },
    {
     "name": "stderr",
     "output_type": "stream",
     "text": [
      "C:\\Users\\faroq\\AppData\\Local\\Temp\\ipykernel_2464\\232416344.py:53: FutureWarning: The frame.append method is deprecated and will be removed from pandas in a future version. Use pandas.concat instead.\n",
      "  df_scores = df_scores.append(data, ignore_index=True)\n"
     ]
    },
    {
     "name": "stdout",
     "output_type": "stream",
     "text": [
      "5 ,  0.1 :  13.731003886521465\n"
     ]
    },
    {
     "name": "stderr",
     "output_type": "stream",
     "text": [
      "C:\\Users\\faroq\\AppData\\Local\\Temp\\ipykernel_2464\\232416344.py:53: FutureWarning: The frame.append method is deprecated and will be removed from pandas in a future version. Use pandas.concat instead.\n",
      "  df_scores = df_scores.append(data, ignore_index=True)\n"
     ]
    },
    {
     "name": "stdout",
     "output_type": "stream",
     "text": [
      "5 ,  0.1 :  13.59616943359375\n"
     ]
    },
    {
     "name": "stderr",
     "output_type": "stream",
     "text": [
      "C:\\Users\\faroq\\AppData\\Local\\Temp\\ipykernel_2464\\232416344.py:53: FutureWarning: The frame.append method is deprecated and will be removed from pandas in a future version. Use pandas.concat instead.\n",
      "  df_scores = df_scores.append(data, ignore_index=True)\n",
      "C:\\Users\\faroq\\AppData\\Local\\Temp\\ipykernel_2464\\232416344.py:53: FutureWarning: The frame.append method is deprecated and will be removed from pandas in a future version. Use pandas.concat instead.\n",
      "  df_scores = df_scores.append(data, ignore_index=True)\n"
     ]
    },
    {
     "name": "stdout",
     "output_type": "stream",
     "text": [
      "5 ,  0.1 :  13.461556311881187\n",
      "5 ,  0.1 :  13.417379940257353\n"
     ]
    },
    {
     "name": "stderr",
     "output_type": "stream",
     "text": [
      "C:\\Users\\faroq\\AppData\\Local\\Temp\\ipykernel_2464\\232416344.py:53: FutureWarning: The frame.append method is deprecated and will be removed from pandas in a future version. Use pandas.concat instead.\n",
      "  df_scores = df_scores.append(data, ignore_index=True)\n"
     ]
    },
    {
     "name": "stdout",
     "output_type": "stream",
     "text": [
      "5 ,  0.1 :  13.316612465867719\n"
     ]
    },
    {
     "name": "stderr",
     "output_type": "stream",
     "text": [
      "C:\\Users\\faroq\\AppData\\Local\\Temp\\ipykernel_2464\\232416344.py:53: FutureWarning: The frame.append method is deprecated and will be removed from pandas in a future version. Use pandas.concat instead.\n",
      "  df_scores = df_scores.append(data, ignore_index=True)\n"
     ]
    },
    {
     "name": "stdout",
     "output_type": "stream",
     "text": [
      "5 ,  0.1 :  13.65575937124399\n"
     ]
    },
    {
     "name": "stderr",
     "output_type": "stream",
     "text": [
      "C:\\Users\\faroq\\AppData\\Local\\Temp\\ipykernel_2464\\232416344.py:53: FutureWarning: The frame.append method is deprecated and will be removed from pandas in a future version. Use pandas.concat instead.\n",
      "  df_scores = df_scores.append(data, ignore_index=True)\n"
     ]
    },
    {
     "name": "stdout",
     "output_type": "stream",
     "text": [
      "5 ,  0.1 :  13.525909133184523\n"
     ]
    },
    {
     "name": "stderr",
     "output_type": "stream",
     "text": [
      "C:\\Users\\faroq\\AppData\\Local\\Temp\\ipykernel_2464\\232416344.py:53: FutureWarning: The frame.append method is deprecated and will be removed from pandas in a future version. Use pandas.concat instead.\n",
      "  df_scores = df_scores.append(data, ignore_index=True)\n"
     ]
    },
    {
     "name": "stdout",
     "output_type": "stream",
     "text": [
      "5 ,  0.01 :  13.749981574292454\n"
     ]
    },
    {
     "name": "stderr",
     "output_type": "stream",
     "text": [
      "C:\\Users\\faroq\\AppData\\Local\\Temp\\ipykernel_2464\\232416344.py:53: FutureWarning: The frame.append method is deprecated and will be removed from pandas in a future version. Use pandas.concat instead.\n",
      "  df_scores = df_scores.append(data, ignore_index=True)\n"
     ]
    },
    {
     "name": "stdout",
     "output_type": "stream",
     "text": [
      "5 ,  0.01 :  13.868914737879672\n"
     ]
    },
    {
     "name": "stderr",
     "output_type": "stream",
     "text": [
      "C:\\Users\\faroq\\AppData\\Local\\Temp\\ipykernel_2464\\232416344.py:53: FutureWarning: The frame.append method is deprecated and will be removed from pandas in a future version. Use pandas.concat instead.\n",
      "  df_scores = df_scores.append(data, ignore_index=True)\n"
     ]
    },
    {
     "name": "stdout",
     "output_type": "stream",
     "text": [
      "5 ,  0.01 :  13.741868760850695\n"
     ]
    },
    {
     "name": "stderr",
     "output_type": "stream",
     "text": [
      "C:\\Users\\faroq\\AppData\\Local\\Temp\\ipykernel_2464\\232416344.py:53: FutureWarning: The frame.append method is deprecated and will be removed from pandas in a future version. Use pandas.concat instead.\n",
      "  df_scores = df_scores.append(data, ignore_index=True)\n"
     ]
    },
    {
     "name": "stdout",
     "output_type": "stream",
     "text": [
      "5 ,  0.01 :  14.179633744266056\n"
     ]
    },
    {
     "name": "stderr",
     "output_type": "stream",
     "text": [
      "C:\\Users\\faroq\\AppData\\Local\\Temp\\ipykernel_2464\\232416344.py:53: FutureWarning: The frame.append method is deprecated and will be removed from pandas in a future version. Use pandas.concat instead.\n",
      "  df_scores = df_scores.append(data, ignore_index=True)\n"
     ]
    },
    {
     "name": "stdout",
     "output_type": "stream",
     "text": [
      "5 ,  0.01 :  14.276915394176136\n"
     ]
    },
    {
     "name": "stderr",
     "output_type": "stream",
     "text": [
      "C:\\Users\\faroq\\AppData\\Local\\Temp\\ipykernel_2464\\232416344.py:53: FutureWarning: The frame.append method is deprecated and will be removed from pandas in a future version. Use pandas.concat instead.\n",
      "  df_scores = df_scores.append(data, ignore_index=True)\n"
     ]
    },
    {
     "name": "stdout",
     "output_type": "stream",
     "text": [
      "5 ,  0.01 :  14.515787760416666\n"
     ]
    },
    {
     "name": "stderr",
     "output_type": "stream",
     "text": [
      "C:\\Users\\faroq\\AppData\\Local\\Temp\\ipykernel_2464\\232416344.py:53: FutureWarning: The frame.append method is deprecated and will be removed from pandas in a future version. Use pandas.concat instead.\n",
      "  df_scores = df_scores.append(data, ignore_index=True)\n"
     ]
    },
    {
     "name": "stdout",
     "output_type": "stream",
     "text": [
      "5 ,  0.01 :  14.615587506975446\n"
     ]
    },
    {
     "name": "stderr",
     "output_type": "stream",
     "text": [
      "C:\\Users\\faroq\\AppData\\Local\\Temp\\ipykernel_2464\\232416344.py:53: FutureWarning: The frame.append method is deprecated and will be removed from pandas in a future version. Use pandas.concat instead.\n",
      "  df_scores = df_scores.append(data, ignore_index=True)\n"
     ]
    },
    {
     "name": "stdout",
     "output_type": "stream",
     "text": [
      "5 ,  0.01 :  14.48727011891593\n"
     ]
    },
    {
     "name": "stderr",
     "output_type": "stream",
     "text": [
      "C:\\Users\\faroq\\AppData\\Local\\Temp\\ipykernel_2464\\232416344.py:53: FutureWarning: The frame.append method is deprecated and will be removed from pandas in a future version. Use pandas.concat instead.\n",
      "  df_scores = df_scores.append(data, ignore_index=True)\n"
     ]
    },
    {
     "name": "stdout",
     "output_type": "stream",
     "text": [
      "5 ,  0.01 :  14.899069267406798\n"
     ]
    },
    {
     "name": "stderr",
     "output_type": "stream",
     "text": [
      "C:\\Users\\faroq\\AppData\\Local\\Temp\\ipykernel_2464\\232416344.py:53: FutureWarning: The frame.append method is deprecated and will be removed from pandas in a future version. Use pandas.concat instead.\n",
      "  df_scores = df_scores.append(data, ignore_index=True)\n"
     ]
    },
    {
     "name": "stdout",
     "output_type": "stream",
     "text": [
      "5 ,  0.01 :  15.104959239130435\n"
     ]
    },
    {
     "name": "stderr",
     "output_type": "stream",
     "text": [
      "C:\\Users\\faroq\\AppData\\Local\\Temp\\ipykernel_2464\\232416344.py:53: FutureWarning: The frame.append method is deprecated and will be removed from pandas in a future version. Use pandas.concat instead.\n",
      "  df_scores = df_scores.append(data, ignore_index=True)\n"
     ]
    },
    {
     "name": "stdout",
     "output_type": "stream",
     "text": [
      "5 ,  0.01 :  15.220250622979526\n"
     ]
    },
    {
     "name": "stderr",
     "output_type": "stream",
     "text": [
      "C:\\Users\\faroq\\AppData\\Local\\Temp\\ipykernel_2464\\232416344.py:53: FutureWarning: The frame.append method is deprecated and will be removed from pandas in a future version. Use pandas.concat instead.\n",
      "  df_scores = df_scores.append(data, ignore_index=True)\n"
     ]
    },
    {
     "name": "stdout",
     "output_type": "stream",
     "text": [
      "5 ,  0.01 :  15.131017962072649\n"
     ]
    },
    {
     "name": "stderr",
     "output_type": "stream",
     "text": [
      "C:\\Users\\faroq\\AppData\\Local\\Temp\\ipykernel_2464\\232416344.py:53: FutureWarning: The frame.append method is deprecated and will be removed from pandas in a future version. Use pandas.concat instead.\n",
      "  df_scores = df_scores.append(data, ignore_index=True)\n"
     ]
    },
    {
     "name": "stdout",
     "output_type": "stream",
     "text": [
      "5 ,  0.01 :  15.003885560116526\n"
     ]
    },
    {
     "name": "stderr",
     "output_type": "stream",
     "text": [
      "C:\\Users\\faroq\\AppData\\Local\\Temp\\ipykernel_2464\\232416344.py:53: FutureWarning: The frame.append method is deprecated and will be removed from pandas in a future version. Use pandas.concat instead.\n",
      "  df_scores = df_scores.append(data, ignore_index=True)\n"
     ]
    },
    {
     "name": "stdout",
     "output_type": "stream",
     "text": [
      "5 ,  0.01 :  15.5728872603729\n"
     ]
    },
    {
     "name": "stderr",
     "output_type": "stream",
     "text": [
      "C:\\Users\\faroq\\AppData\\Local\\Temp\\ipykernel_2464\\232416344.py:53: FutureWarning: The frame.append method is deprecated and will be removed from pandas in a future version. Use pandas.concat instead.\n",
      "  df_scores = df_scores.append(data, ignore_index=True)\n"
     ]
    },
    {
     "name": "stdout",
     "output_type": "stream",
     "text": [
      "5 ,  0.01 :  15.633750406901042\n"
     ]
    },
    {
     "name": "stderr",
     "output_type": "stream",
     "text": [
      "C:\\Users\\faroq\\AppData\\Local\\Temp\\ipykernel_2464\\232416344.py:53: FutureWarning: The frame.append method is deprecated and will be removed from pandas in a future version. Use pandas.concat instead.\n",
      "  df_scores = df_scores.append(data, ignore_index=True)\n",
      "C:\\Users\\faroq\\AppData\\Local\\Temp\\ipykernel_2464\\232416344.py:53: FutureWarning: The frame.append method is deprecated and will be removed from pandas in a future version. Use pandas.concat instead.\n",
      "  df_scores = df_scores.append(data, ignore_index=True)\n"
     ]
    },
    {
     "name": "stdout",
     "output_type": "stream",
     "text": [
      "5 ,  0.2 :  15.846459759168388\n",
      "5 ,  0.2 :  15.836119604892419\n"
     ]
    },
    {
     "name": "stderr",
     "output_type": "stream",
     "text": [
      "C:\\Users\\faroq\\AppData\\Local\\Temp\\ipykernel_2464\\232416344.py:53: FutureWarning: The frame.append method is deprecated and will be removed from pandas in a future version. Use pandas.concat instead.\n",
      "  df_scores = df_scores.append(data, ignore_index=True)\n"
     ]
    },
    {
     "name": "stdout",
     "output_type": "stream",
     "text": [
      "5 ,  0.2 :  15.723468067200203\n"
     ]
    },
    {
     "name": "stderr",
     "output_type": "stream",
     "text": [
      "C:\\Users\\faroq\\AppData\\Local\\Temp\\ipykernel_2464\\232416344.py:53: FutureWarning: The frame.append method is deprecated and will be removed from pandas in a future version. Use pandas.concat instead.\n",
      "  df_scores = df_scores.append(data, ignore_index=True)\n"
     ]
    },
    {
     "name": "stdout",
     "output_type": "stream",
     "text": [
      "5 ,  0.2 :  15.892538747479838\n"
     ]
    },
    {
     "name": "stderr",
     "output_type": "stream",
     "text": [
      "C:\\Users\\faroq\\AppData\\Local\\Temp\\ipykernel_2464\\232416344.py:53: FutureWarning: The frame.append method is deprecated and will be removed from pandas in a future version. Use pandas.concat instead.\n",
      "  df_scores = df_scores.append(data, ignore_index=True)\n",
      "C:\\Users\\faroq\\AppData\\Local\\Temp\\ipykernel_2464\\232416344.py:53: FutureWarning: The frame.append method is deprecated and will be removed from pandas in a future version. Use pandas.concat instead.\n",
      "  df_scores = df_scores.append(data, ignore_index=True)\n"
     ]
    },
    {
     "name": "stdout",
     "output_type": "stream",
     "text": [
      "5 ,  0.2 :  15.9272578125\n",
      "5 ,  0.2 :  15.992321196056547\n"
     ]
    },
    {
     "name": "stderr",
     "output_type": "stream",
     "text": [
      "C:\\Users\\faroq\\AppData\\Local\\Temp\\ipykernel_2464\\232416344.py:53: FutureWarning: The frame.append method is deprecated and will be removed from pandas in a future version. Use pandas.concat instead.\n",
      "  df_scores = df_scores.append(data, ignore_index=True)\n",
      "C:\\Users\\faroq\\AppData\\Local\\Temp\\ipykernel_2464\\232416344.py:53: FutureWarning: The frame.append method is deprecated and will be removed from pandas in a future version. Use pandas.concat instead.\n",
      "  df_scores = df_scores.append(data, ignore_index=True)\n"
     ]
    },
    {
     "name": "stdout",
     "output_type": "stream",
     "text": [
      "5 ,  0.2 :  15.908533772145669\n",
      "5 ,  0.2 :  15.81344985961914\n"
     ]
    },
    {
     "name": "stderr",
     "output_type": "stream",
     "text": [
      "C:\\Users\\faroq\\AppData\\Local\\Temp\\ipykernel_2464\\232416344.py:53: FutureWarning: The frame.append method is deprecated and will be removed from pandas in a future version. Use pandas.concat instead.\n",
      "  df_scores = df_scores.append(data, ignore_index=True)\n",
      "C:\\Users\\faroq\\AppData\\Local\\Temp\\ipykernel_2464\\232416344.py:53: FutureWarning: The frame.append method is deprecated and will be removed from pandas in a future version. Use pandas.concat instead.\n",
      "  df_scores = df_scores.append(data, ignore_index=True)\n"
     ]
    },
    {
     "name": "stdout",
     "output_type": "stream",
     "text": [
      "5 ,  0.2 :  15.954446008963178\n",
      "5 ,  0.2 :  16.188837139423075\n"
     ]
    },
    {
     "name": "stderr",
     "output_type": "stream",
     "text": [
      "C:\\Users\\faroq\\AppData\\Local\\Temp\\ipykernel_2464\\232416344.py:53: FutureWarning: The frame.append method is deprecated and will be removed from pandas in a future version. Use pandas.concat instead.\n",
      "  df_scores = df_scores.append(data, ignore_index=True)\n",
      "C:\\Users\\faroq\\AppData\\Local\\Temp\\ipykernel_2464\\232416344.py:53: FutureWarning: The frame.append method is deprecated and will be removed from pandas in a future version. Use pandas.concat instead.\n",
      "  df_scores = df_scores.append(data, ignore_index=True)\n"
     ]
    },
    {
     "name": "stdout",
     "output_type": "stream",
     "text": [
      "5 ,  0.2 :  16.161490636927482\n",
      "5 ,  0.2 :  16.03988924893466\n"
     ]
    },
    {
     "name": "stderr",
     "output_type": "stream",
     "text": [
      "C:\\Users\\faroq\\AppData\\Local\\Temp\\ipykernel_2464\\232416344.py:53: FutureWarning: The frame.append method is deprecated and will be removed from pandas in a future version. Use pandas.concat instead.\n",
      "  df_scores = df_scores.append(data, ignore_index=True)\n"
     ]
    },
    {
     "name": "stdout",
     "output_type": "stream",
     "text": [
      "5 ,  0.2 :  15.920020999765038\n",
      "5 ,  0.2 :  16.154218531366606\n",
      "5 ,  0.2 :  16.03568431712963\n"
     ]
    },
    {
     "name": "stderr",
     "output_type": "stream",
     "text": [
      "C:\\Users\\faroq\\AppData\\Local\\Temp\\ipykernel_2464\\232416344.py:53: FutureWarning: The frame.append method is deprecated and will be removed from pandas in a future version. Use pandas.concat instead.\n",
      "  df_scores = df_scores.append(data, ignore_index=True)\n",
      "C:\\Users\\faroq\\AppData\\Local\\Temp\\ipykernel_2464\\232416344.py:53: FutureWarning: The frame.append method is deprecated and will be removed from pandas in a future version. Use pandas.concat instead.\n",
      "  df_scores = df_scores.append(data, ignore_index=True)\n"
     ]
    }
   ],
   "source": [
    "scores = []\n",
    "preds = []\n",
    "actuals = []\n",
    "df_scores = pd.DataFrame(columns = ['max_depth', 'learning_rate','min_child_weight', 'score'])\n",
    "\n",
    "for i in (3,4,5):\n",
    "    for j in (0.1,0.01,0.2):\n",
    "        for k in (1, 5, 15):\n",
    "\n",
    "                for train_idx, val_idx in tss.split(df):\n",
    "                    train_df = df.iloc[train_idx]\n",
    "                    test_df = df.iloc[val_idx]\n",
    "\n",
    "                    score = []\n",
    "                    \n",
    "                    features = ['sma_3', 'sma_5','sma_7','sma_20',\n",
    "                    'ema_9', 'ema_12', 'ema_26', 'macd', 'macd_signal', 'macd_histogram',\n",
    "                    'rsi','Volume','bb_lower_band','bb_upper_band','std_dev_20']\n",
    "                                    \n",
    "                    target = 'Next_Close'\n",
    "\n",
    "                    X_train = train_df[features]\n",
    "                    y_train = train_df[target]\n",
    "\n",
    "                    X_test = test_df[features]\n",
    "                    y_test = test_df[target]\n",
    "\n",
    "                    model = xgb.XGBRegressor(booster='gbtree',    \n",
    "                                        n_estimators=1000,\n",
    "                                        early_stopping_rounds=50,\n",
    "                                        objective='reg:squarederror',\n",
    "                                        max_depth=i,\n",
    "                                        learning_rate=j,\n",
    "                                        min_child_weight = k)\n",
    "\n",
    "                    model.fit(X_train, y_train,\n",
    "                        eval_set=[(X_train, y_train), (X_test, y_test)],\n",
    "                        verbose=0)\n",
    "\n",
    "                    y_pred = model.predict(X_test)\n",
    "                    preds.append(y_pred)\n",
    "                    # actual_dict = [{'Date': date, 'Actual': actual, \"Preds\": pred} for date, actual, pred in zip(test_df.index, y_test, y_pred)]\n",
    "                    # actuals.extend(actual_dict)\n",
    "                    score = np.sqrt(mean_squared_error(y_test, y_pred))\n",
    "                    scores.append(score)\n",
    "                    data = {\n",
    "                        'max_depth': i,\n",
    "                        'learning_rate': j,\n",
    "                        'min_child_weight': k,\n",
    "                        'score': np.mean(scores)\n",
    "                    }\n",
    "\n",
    "                    df_scores = df_scores.append(data, ignore_index=True)\n",
    "\n",
    "                    print(i, \", \", j, \": \",np.mean(scores))\n"
   ]
  },
  {
   "cell_type": "code",
   "execution_count": 242,
   "metadata": {},
   "outputs": [
    {
     "data": {
      "text/html": [
       "<div>\n",
       "<style scoped>\n",
       "    .dataframe tbody tr th:only-of-type {\n",
       "        vertical-align: middle;\n",
       "    }\n",
       "\n",
       "    .dataframe tbody tr th {\n",
       "        vertical-align: top;\n",
       "    }\n",
       "\n",
       "    .dataframe thead th {\n",
       "        text-align: right;\n",
       "    }\n",
       "</style>\n",
       "<table border=\"1\" class=\"dataframe\">\n",
       "  <thead>\n",
       "    <tr style=\"text-align: right;\">\n",
       "      <th></th>\n",
       "      <th>max_depth</th>\n",
       "      <th>learning_rate</th>\n",
       "      <th>min_child_weight</th>\n",
       "      <th>score</th>\n",
       "    </tr>\n",
       "  </thead>\n",
       "  <tbody>\n",
       "    <tr>\n",
       "      <th>7</th>\n",
       "      <td>3.0</td>\n",
       "      <td>0.10</td>\n",
       "      <td>5.0</td>\n",
       "      <td>9.012177</td>\n",
       "    </tr>\n",
       "    <tr>\n",
       "      <th>14</th>\n",
       "      <td>3.0</td>\n",
       "      <td>0.10</td>\n",
       "      <td>15.0</td>\n",
       "      <td>9.674593</td>\n",
       "    </tr>\n",
       "    <tr>\n",
       "      <th>12</th>\n",
       "      <td>3.0</td>\n",
       "      <td>0.10</td>\n",
       "      <td>15.0</td>\n",
       "      <td>9.799373</td>\n",
       "    </tr>\n",
       "    <tr>\n",
       "      <th>2</th>\n",
       "      <td>3.0</td>\n",
       "      <td>0.10</td>\n",
       "      <td>1.0</td>\n",
       "      <td>9.888428</td>\n",
       "    </tr>\n",
       "    <tr>\n",
       "      <th>6</th>\n",
       "      <td>3.0</td>\n",
       "      <td>0.10</td>\n",
       "      <td>5.0</td>\n",
       "      <td>10.092390</td>\n",
       "    </tr>\n",
       "    <tr>\n",
       "      <th>17</th>\n",
       "      <td>3.0</td>\n",
       "      <td>0.01</td>\n",
       "      <td>1.0</td>\n",
       "      <td>10.181749</td>\n",
       "    </tr>\n",
       "    <tr>\n",
       "      <th>13</th>\n",
       "      <td>3.0</td>\n",
       "      <td>0.10</td>\n",
       "      <td>15.0</td>\n",
       "      <td>10.349051</td>\n",
       "    </tr>\n",
       "    <tr>\n",
       "      <th>11</th>\n",
       "      <td>3.0</td>\n",
       "      <td>0.10</td>\n",
       "      <td>15.0</td>\n",
       "      <td>10.495097</td>\n",
       "    </tr>\n",
       "    <tr>\n",
       "      <th>16</th>\n",
       "      <td>3.0</td>\n",
       "      <td>0.01</td>\n",
       "      <td>1.0</td>\n",
       "      <td>10.769416</td>\n",
       "    </tr>\n",
       "    <tr>\n",
       "      <th>15</th>\n",
       "      <td>3.0</td>\n",
       "      <td>0.01</td>\n",
       "      <td>1.0</td>\n",
       "      <td>11.050781</td>\n",
       "    </tr>\n",
       "  </tbody>\n",
       "</table>\n",
       "</div>"
      ],
      "text/plain": [
       "    max_depth  learning_rate  min_child_weight      score\n",
       "7         3.0           0.10               5.0   9.012177\n",
       "14        3.0           0.10              15.0   9.674593\n",
       "12        3.0           0.10              15.0   9.799373\n",
       "2         3.0           0.10               1.0   9.888428\n",
       "6         3.0           0.10               5.0  10.092390\n",
       "17        3.0           0.01               1.0  10.181749\n",
       "13        3.0           0.10              15.0  10.349051\n",
       "11        3.0           0.10              15.0  10.495097\n",
       "16        3.0           0.01               1.0  10.769416\n",
       "15        3.0           0.01               1.0  11.050781"
      ]
     },
     "execution_count": 242,
     "metadata": {},
     "output_type": "execute_result"
    }
   ],
   "source": [
    "#Best score is max_depth = 3, learning_rate = 0.1, min_child_weight = 5\n",
    "df_scores.sort_values(by='score').head(10)\n"
   ]
  },
  {
   "cell_type": "code",
   "execution_count": 297,
   "metadata": {},
   "outputs": [
    {
     "data": {
      "image/png": "[encoded data removed]",
      "text/plain": [
       "<Figure size 640x480 with 1 Axes>"
      ]
     },
     "metadata": {},
     "output_type": "display_data"
    }
   ],
   "source": [
    "#important features\n",
    "fi = pd.DataFrame(data=model.feature_importances_,\n",
    "             index=model.feature_names_in_,\n",
    "             columns=['importance'])\n",
    "fi.sort_values('importance').plot(kind='barh', title='Feature Importance')\n",
    "plt.show()"
   ]
  },
  {
   "cell_type": "markdown",
   "metadata": {},
   "source": [
    "### Final Eval"
   ]
  },
  {
   "cell_type": "code",
   "execution_count": 304,
   "metadata": {},
   "outputs": [],
   "source": [
    "train_df = df.loc[df.index <= '01-01-2020']\n",
    "test_df = df.loc[df.index > '01-01-2020']\n",
    "from sklearn.model_selection import TimeSeriesSplit\n",
    "tss = TimeSeriesSplit(n_splits=len(test_df),test_size=1)"
   ]
  },
  {
   "cell_type": "code",
   "execution_count": 305,
   "metadata": {},
   "outputs": [
    {
     "name": "stdout",
     "output_type": "stream",
     "text": [
      "[0]\tvalidation_0-rmse:529.96597\tvalidation_1-rmse:1525.91104\n",
      "[118]\tvalidation_0-rmse:18.44132\tvalidation_1-rmse:58.76709\n",
      "[0]\tvalidation_0-rmse:530.33525\tvalidation_1-rmse:1536.01701\n",
      "[117]\tvalidation_0-rmse:18.49792\tvalidation_1-rmse:64.46216\n",
      "[0]\tvalidation_0-rmse:530.68828\tvalidation_1-rmse:1527.33207\n",
      "[177]\tvalidation_0-rmse:17.81689\tvalidation_1-rmse:46.20605\n",
      "[0]\tvalidation_0-rmse:531.08163\tvalidation_1-rmse:1542.76951\n",
      "[168]\tvalidation_0-rmse:17.74008\tvalidation_1-rmse:52.43726\n",
      "[0]\tvalidation_0-rmse:531.45933\tvalidation_1-rmse:1563.97434\n",
      "[269]\tvalidation_0-rmse:16.83082\tvalidation_1-rmse:67.55542\n",
      "[0]\tvalidation_0-rmse:531.84767\tvalidation_1-rmse:1553.25899\n",
      "[218]\tvalidation_0-rmse:17.40458\tvalidation_1-rmse:38.78516\n",
      "[0]\tvalidation_0-rmse:532.22996\tvalidation_1-rmse:1575.57839\n",
      "[153]\tvalidation_0-rmse:17.87302\tvalidation_1-rmse:63.56665\n",
      "[0]\tvalidation_0-rmse:532.62395\tvalidation_1-rmse:1571.06811\n",
      "[373]\tvalidation_0-rmse:16.09945\tvalidation_1-rmse:36.88086\n",
      "[0]\tvalidation_0-rmse:533.01019\tvalidation_1-rmse:1576.75268\n",
      "[593]\tvalidation_0-rmse:14.90034\tvalidation_1-rmse:36.60425\n",
      "[0]\tvalidation_0-rmse:533.41890\tvalidation_1-rmse:1603.81787\n",
      "[354]\tvalidation_0-rmse:16.39992\tvalidation_1-rmse:65.24634\n",
      "[0]\tvalidation_0-rmse:533.81192\tvalidation_1-rmse:1616.14905\n",
      "[284]\tvalidation_0-rmse:16.80322\tvalidation_1-rmse:71.63794\n",
      "[0]\tvalidation_0-rmse:534.24154\tvalidation_1-rmse:1606.84598\n",
      "[170]\tvalidation_0-rmse:17.79723\tvalidation_1-rmse:58.77295\n",
      "[0]\tvalidation_0-rmse:534.65049\tvalidation_1-rmse:1607.32425\n",
      "[537]\tvalidation_0-rmse:15.13896\tvalidation_1-rmse:47.16651\n",
      "[0]\tvalidation_0-rmse:535.05350\tvalidation_1-rmse:1610.64785\n",
      "[271]\tvalidation_0-rmse:16.97603\tvalidation_1-rmse:46.10962\n",
      "[0]\tvalidation_0-rmse:535.46120\tvalidation_1-rmse:1580.07911\n",
      "[307]\tvalidation_0-rmse:16.62087\tvalidation_1-rmse:1.12598\n",
      "[0]\tvalidation_0-rmse:535.85569\tvalidation_1-rmse:1527.77804\n",
      "[95]\tvalidation_0-rmse:18.68933\tvalidation_1-rmse:36.02173\n",
      "[0]\tvalidation_0-rmse:536.22013\tvalidation_1-rmse:1559.94078\n",
      "[120]\tvalidation_0-rmse:18.29211\tvalidation_1-rmse:19.00244\n",
      "[0]\tvalidation_0-rmse:536.60103\tvalidation_1-rmse:1556.63989\n",
      "[127]\tvalidation_0-rmse:18.28524\tvalidation_1-rmse:6.90820\n",
      "[0]\tvalidation_0-rmse:536.98128\tvalidation_1-rmse:1563.28980\n",
      "[263]\tvalidation_0-rmse:17.12898\tvalidation_1-rmse:0.91919\n",
      "[0]\tvalidation_0-rmse:537.36493\tvalidation_1-rmse:1504.73096\n",
      "[89]\tvalidation_0-rmse:18.85101\tvalidation_1-rmse:57.62549\n",
      "[0]\tvalidation_0-rmse:537.71784\tvalidation_1-rmse:1527.69344\n",
      "[99]\tvalidation_0-rmse:18.74648\tvalidation_1-rmse:16.59204\n",
      "[0]\tvalidation_0-rmse:538.08401\tvalidation_1-rmse:1575.90894\n",
      "[214]\tvalidation_0-rmse:17.59669\tvalidation_1-rmse:16.70312\n",
      "[0]\tvalidation_0-rmse:538.47358\tvalidation_1-rmse:1612.53543\n",
      "[448]\tvalidation_0-rmse:15.76480\tvalidation_1-rmse:55.75879\n",
      "[0]\tvalidation_0-rmse:538.88385\tvalidation_1-rmse:1624.23120\n",
      "[392]\tvalidation_0-rmse:16.15973\tvalidation_1-rmse:46.00000\n",
      "[0]\tvalidation_0-rmse:539.29801\tvalidation_1-rmse:1605.65135\n",
      "[424]\tvalidation_0-rmse:15.96685\tvalidation_1-rmse:31.48975\n",
      "[0]\tvalidation_0-rmse:539.70047\tvalidation_1-rmse:1629.59765\n",
      "[161]\tvalidation_0-rmse:18.02603\tvalidation_1-rmse:63.38037\n",
      "[0]\tvalidation_0-rmse:540.11665\tvalidation_1-rmse:1633.58922\n",
      "[484]\tvalidation_0-rmse:15.61935\tvalidation_1-rmse:59.28784\n",
      "[0]\tvalidation_0-rmse:540.53550\tvalidation_1-rmse:1655.93093\n",
      "[376]\tvalidation_0-rmse:16.33570\tvalidation_1-rmse:81.68775\n",
      "[0]\tvalidation_0-rmse:540.96257\tvalidation_1-rmse:1649.85522\n",
      "[134]\tvalidation_0-rmse:18.32638\tvalidation_1-rmse:73.22681\n",
      "[0]\tvalidation_0-rmse:541.38859\tvalidation_1-rmse:1655.56833\n",
      "[424]\tvalidation_0-rmse:16.09943\tvalidation_1-rmse:61.59155\n",
      "[0]\tvalidation_0-rmse:541.81709\tvalidation_1-rmse:1645.19444\n",
      "[420]\tvalidation_0-rmse:16.09805\tvalidation_1-rmse:40.16406\n",
      "[0]\tvalidation_0-rmse:542.24246\tvalidation_1-rmse:1660.55202\n",
      "[199]\tvalidation_0-rmse:17.81253\tvalidation_1-rmse:65.18384\n",
      "[0]\tvalidation_0-rmse:542.67091\tvalidation_1-rmse:1647.11035\n",
      "[188]\tvalidation_0-rmse:17.85689\tvalidation_1-rmse:50.81275\n",
      "[0]\tvalidation_0-rmse:543.09429\tvalidation_1-rmse:1611.12624\n",
      "[245]\tvalidation_0-rmse:17.42284\tvalidation_1-rmse:1.51562\n",
      "[0]\tvalidation_0-rmse:543.48840\tvalidation_1-rmse:1498.77500\n",
      "[81]\tvalidation_0-rmse:19.02414\tvalidation_1-rmse:107.91797\n",
      "[0]\tvalidation_0-rmse:543.83091\tvalidation_1-rmse:1400.66234\n",
      "[74]\tvalidation_0-rmse:19.19817\tvalidation_1-rmse:184.53394\n",
      "[0]\tvalidation_0-rmse:544.13994\tvalidation_1-rmse:1388.46250\n",
      "[74]\tvalidation_0-rmse:19.31215\tvalidation_1-rmse:127.76489\n",
      "[0]\tvalidation_0-rmse:544.42812\tvalidation_1-rmse:1250.45557\n",
      "[70]\tvalidation_0-rmse:19.37019\tvalidation_1-rmse:154.43042\n",
      "[0]\tvalidation_0-rmse:544.66272\tvalidation_1-rmse:1225.62306\n",
      "[70]\tvalidation_0-rmse:19.47210\tvalidation_1-rmse:115.34717\n",
      "[0]\tvalidation_0-rmse:544.88191\tvalidation_1-rmse:1361.33863\n",
      "[89]\tvalidation_0-rmse:19.12287\tvalidation_1-rmse:165.09766\n",
      "[0]\tvalidation_0-rmse:545.15809\tvalidation_1-rmse:1274.12293\n",
      "[78]\tvalidation_0-rmse:19.35102\tvalidation_1-rmse:24.72290\n",
      "[0]\tvalidation_0-rmse:545.39804\tvalidation_1-rmse:1400.55712\n",
      "[197]\tvalidation_0-rmse:17.82382\tvalidation_1-rmse:136.56616\n",
      "[0]\tvalidation_0-rmse:545.69241\tvalidation_1-rmse:1294.05530\n",
      "[89]\tvalidation_0-rmse:19.22963\tvalidation_1-rmse:17.51416\n",
      "[0]\tvalidation_0-rmse:545.94142\tvalidation_1-rmse:1242.16676\n",
      "[126]\tvalidation_0-rmse:18.77132\tvalidation_1-rmse:13.81567\n",
      "[0]\tvalidation_0-rmse:546.15343\tvalidation_1-rmse:1013.64173\n",
      "[66]\tvalidation_0-rmse:19.80322\tvalidation_1-rmse:226.33960\n",
      "[0]\tvalidation_0-rmse:546.30962\tvalidation_1-rmse:1151.55894\n",
      "[86]\tvalidation_0-rmse:19.47990\tvalidation_1-rmse:41.45239\n",
      "[0]\tvalidation_0-rmse:546.49968\tvalidation_1-rmse:1010.44579\n",
      "[70]\tvalidation_0-rmse:19.79329\tvalidation_1-rmse:69.27490\n",
      "[0]\tvalidation_0-rmse:546.63325\tvalidation_1-rmse:783.35317\n",
      "[62]\tvalidation_0-rmse:19.96690\tvalidation_1-rmse:239.56323\n",
      "[0]\tvalidation_0-rmse:546.69744\tvalidation_1-rmse:1013.56299\n",
      "[81]\tvalidation_0-rmse:19.60903\tvalidation_1-rmse:161.40088\n",
      "[0]\tvalidation_0-rmse:546.82477\tvalidation_1-rmse:688.40248\n",
      "[60]\tvalidation_0-rmse:20.25610\tvalidation_1-rmse:200.53540\n",
      "[0]\tvalidation_0-rmse:546.87778\tvalidation_1-rmse:832.42699\n",
      "[80]\tvalidation_0-rmse:19.76154\tvalidation_1-rmse:146.37940\n",
      "[0]\tvalidation_0-rmse:546.95335\tvalidation_1-rmse:701.14380\n",
      "[67]\tvalidation_0-rmse:20.12875\tvalidation_1-rmse:38.42090\n",
      "[0]\tvalidation_0-rmse:546.99589\tvalidation_1-rmse:712.35170\n",
      "[87]\tvalidation_0-rmse:19.59832\tvalidation_1-rmse:31.37988\n",
      "[0]\tvalidation_0-rmse:547.02825\tvalidation_1-rmse:606.65759\n",
      "[65]\tvalidation_0-rmse:20.10151\tvalidation_1-rmse:48.24902\n",
      "[0]\tvalidation_0-rmse:547.06460\tvalidation_1-rmse:540.13013\n",
      "[62]\tvalidation_0-rmse:20.18612\tvalidation_1-rmse:128.99829\n",
      "[0]\tvalidation_0-rmse:547.04280\tvalidation_1-rmse:781.60732\n",
      "[84]\tvalidation_0-rmse:19.76479\tvalidation_1-rmse:251.79639\n",
      "[0]\tvalidation_0-rmse:547.09692\tvalidation_1-rmse:809.69886\n",
      "[260]\tvalidation_0-rmse:17.89391\tvalidation_1-rmse:130.76270\n",
      "[0]\tvalidation_0-rmse:547.15621\tvalidation_1-rmse:963.83190\n",
      "[137]\tvalidation_0-rmse:19.14636\tvalidation_1-rmse:213.02954\n",
      "[0]\tvalidation_0-rmse:547.29208\tvalidation_1-rmse:843.57543\n",
      "[92]\tvalidation_0-rmse:19.91002\tvalidation_1-rmse:49.23438\n",
      "[0]\tvalidation_0-rmse:547.37039\tvalidation_1-rmse:928.65686\n",
      "[474]\tvalidation_0-rmse:16.38873\tvalidation_1-rmse:74.56372\n",
      "[0]\tvalidation_0-rmse:547.47103\tvalidation_1-rmse:886.36131\n",
      "[118]\tvalidation_0-rmse:19.52584\tvalidation_1-rmse:7.87573\n",
      "[0]\tvalidation_0-rmse:547.56144\tvalidation_1-rmse:772.06104\n",
      "[68]\tvalidation_0-rmse:20.40934\tvalidation_1-rmse:110.96753\n",
      "[0]\tvalidation_0-rmse:547.61918\tvalidation_1-rmse:828.29735\n",
      "[77]\tvalidation_0-rmse:20.09588\tvalidation_1-rmse:24.23877\n",
      "[0]\tvalidation_0-rmse:547.65526\tvalidation_1-rmse:785.91455\n",
      "[118]\tvalidation_0-rmse:19.43233\tvalidation_1-rmse:10.10156\n",
      "[0]\tvalidation_0-rmse:547.72148\tvalidation_1-rmse:960.83424\n",
      "[91]\tvalidation_0-rmse:19.75703\tvalidation_1-rmse:182.48633\n",
      "[0]\tvalidation_0-rmse:547.87990\tvalidation_1-rmse:961.25819\n",
      "[162]\tvalidation_0-rmse:18.85472\tvalidation_1-rmse:76.30689\n",
      "[0]\tvalidation_0-rmse:547.99098\tvalidation_1-rmse:1051.53982\n",
      "[92]\tvalidation_0-rmse:19.78362\tvalidation_1-rmse:175.38306\n",
      "[0]\tvalidation_0-rmse:548.08168\tvalidation_1-rmse:1086.21999\n",
      "[398]\tvalidation_0-rmse:16.95656\tvalidation_1-rmse:65.53809\n",
      "[0]\tvalidation_0-rmse:548.23341\tvalidation_1-rmse:1057.73632\n",
      "[255]\tvalidation_0-rmse:18.04380\tvalidation_1-rmse:1.53467\n",
      "[0]\tvalidation_0-rmse:548.37949\tvalidation_1-rmse:1141.94018\n",
      "[132]\tvalidation_0-rmse:19.46115\tvalidation_1-rmse:60.86719\n",
      "[0]\tvalidation_0-rmse:548.55031\tvalidation_1-rmse:1078.86648\n",
      "[112]\tvalidation_0-rmse:19.77037\tvalidation_1-rmse:24.24976\n",
      "[0]\tvalidation_0-rmse:548.70227\tvalidation_1-rmse:1094.80541\n",
      "[192]\tvalidation_0-rmse:18.57659\tvalidation_1-rmse:33.56128\n",
      "[0]\tvalidation_0-rmse:548.88381\tvalidation_1-rmse:1172.27050\n",
      "[339]\tvalidation_0-rmse:17.63340\tvalidation_1-rmse:72.30176\n",
      "[0]\tvalidation_0-rmse:549.06759\tvalidation_1-rmse:1087.53529\n",
      "[90]\tvalidation_0-rmse:20.36936\tvalidation_1-rmse:8.12402\n",
      "[0]\tvalidation_0-rmse:549.23298\tvalidation_1-rmse:1000.71668\n",
      "[71]\tvalidation_0-rmse:20.87704\tvalidation_1-rmse:99.00391\n",
      "[0]\tvalidation_0-rmse:549.36650\tvalidation_1-rmse:1094.52427\n",
      "[88]\tvalidation_0-rmse:20.47601\tvalidation_1-rmse:10.62402\n",
      "[0]\tvalidation_0-rmse:549.52250\tvalidation_1-rmse:1092.72023\n",
      "[104]\tvalidation_0-rmse:19.98893\tvalidation_1-rmse:42.39185\n",
      "[0]\tvalidation_0-rmse:549.69784\tvalidation_1-rmse:1135.96396\n",
      "[111]\tvalidation_0-rmse:19.86484\tvalidation_1-rmse:76.98657\n",
      "[0]\tvalidation_0-rmse:549.87009\tvalidation_1-rmse:1142.87953\n",
      "[105]\tvalidation_0-rmse:19.97698\tvalidation_1-rmse:70.91016\n",
      "[0]\tvalidation_0-rmse:550.05175\tvalidation_1-rmse:1127.59412\n",
      "[588]\tvalidation_0-rmse:16.08874\tvalidation_1-rmse:12.90381\n",
      "[0]\tvalidation_0-rmse:550.22944\tvalidation_1-rmse:1203.48094\n",
      "[184]\tvalidation_0-rmse:18.83967\tvalidation_1-rmse:62.49438\n",
      "[0]\tvalidation_0-rmse:550.43508\tvalidation_1-rmse:1176.12733\n",
      "[95]\tvalidation_0-rmse:20.24910\tvalidation_1-rmse:65.81470\n",
      "[0]\tvalidation_0-rmse:550.63036\tvalidation_1-rmse:1094.13647\n",
      "[77]\tvalidation_0-rmse:20.56654\tvalidation_1-rmse:47.26440\n",
      "[0]\tvalidation_0-rmse:550.79686\tvalidation_1-rmse:1105.94569\n",
      "[79]\tvalidation_0-rmse:20.61875\tvalidation_1-rmse:49.74634\n",
      "[0]\tvalidation_0-rmse:550.96772\tvalidation_1-rmse:1131.41416\n",
      "[106]\tvalidation_0-rmse:19.92422\tvalidation_1-rmse:16.42603\n",
      "[0]\tvalidation_0-rmse:551.15633\tvalidation_1-rmse:1111.15075\n",
      "[94]\tvalidation_0-rmse:20.12147\tvalidation_1-rmse:33.16040\n",
      "[0]\tvalidation_0-rmse:551.32533\tvalidation_1-rmse:1143.68992\n",
      "[96]\tvalidation_0-rmse:20.10985\tvalidation_1-rmse:68.21069\n",
      "[0]\tvalidation_0-rmse:551.50799\tvalidation_1-rmse:1192.04992\n",
      "[131]\tvalidation_0-rmse:19.51634\tvalidation_1-rmse:72.71191\n",
      "[0]\tvalidation_0-rmse:551.71177\tvalidation_1-rmse:1192.18775\n",
      "[111]\tvalidation_0-rmse:19.89950\tvalidation_1-rmse:69.30591\n",
      "[0]\tvalidation_0-rmse:551.86324\tvalidation_1-rmse:1128.50720\n",
      "[83]\tvalidation_0-rmse:20.48063\tvalidation_1-rmse:25.52051\n",
      "[0]\tvalidation_0-rmse:552.04159\tvalidation_1-rmse:1078.16076\n",
      "[75]\tvalidation_0-rmse:20.69029\tvalidation_1-rmse:75.30420\n",
      "[0]\tvalidation_0-rmse:552.20190\tvalidation_1-rmse:1110.51953\n",
      "[84]\tvalidation_0-rmse:20.51540\tvalidation_1-rmse:25.83691\n",
      "[0]\tvalidation_0-rmse:552.37212\tvalidation_1-rmse:1154.42432\n",
      "[110]\tvalidation_0-rmse:20.18518\tvalidation_1-rmse:45.32837\n",
      "[0]\tvalidation_0-rmse:552.54764\tvalidation_1-rmse:1243.58971\n",
      "[115]\tvalidation_0-rmse:19.95057\tvalidation_1-rmse:128.32861\n",
      "[0]\tvalidation_0-rmse:552.75567\tvalidation_1-rmse:1183.48072\n",
      "[231]\tvalidation_0-rmse:18.80380\tvalidation_1-rmse:19.65967\n",
      "[0]\tvalidation_0-rmse:552.97448\tvalidation_1-rmse:1231.93593\n",
      "[183]\tvalidation_0-rmse:19.18149\tvalidation_1-rmse:76.33520\n",
      "[0]\tvalidation_0-rmse:553.19049\tvalidation_1-rmse:1208.55177\n",
      "[164]\tvalidation_0-rmse:19.43121\tvalidation_1-rmse:21.83081\n",
      "[0]\tvalidation_0-rmse:553.39449\tvalidation_1-rmse:1215.22045\n",
      "[406]\tvalidation_0-rmse:17.37675\tvalidation_1-rmse:0.56836\n",
      "[0]\tvalidation_0-rmse:553.60157\tvalidation_1-rmse:1251.26416\n",
      "[213]\tvalidation_0-rmse:18.76622\tvalidation_1-rmse:13.51001\n",
      "[0]\tvalidation_0-rmse:553.81895\tvalidation_1-rmse:1296.25282\n",
      "[233]\tvalidation_0-rmse:18.53400\tvalidation_1-rmse:43.05957\n",
      "[0]\tvalidation_0-rmse:554.06327\tvalidation_1-rmse:1289.53601\n",
      "[299]\tvalidation_0-rmse:17.99624\tvalidation_1-rmse:7.73999\n",
      "[0]\tvalidation_0-rmse:554.29837\tvalidation_1-rmse:1303.80736\n",
      "[362]\tvalidation_0-rmse:17.62500\tvalidation_1-rmse:19.76123\n",
      "[0]\tvalidation_0-rmse:554.53714\tvalidation_1-rmse:1312.91284\n",
      "[97]\tvalidation_0-rmse:20.28261\tvalidation_1-rmse:94.57910\n",
      "[0]\tvalidation_0-rmse:554.78651\tvalidation_1-rmse:1339.66530\n",
      "[455]\tvalidation_0-rmse:16.88488\tvalidation_1-rmse:38.78809\n",
      "[0]\tvalidation_0-rmse:555.04220\tvalidation_1-rmse:1381.37929\n",
      "[176]\tvalidation_0-rmse:19.15629\tvalidation_1-rmse:82.93823\n",
      "[0]\tvalidation_0-rmse:555.31765\tvalidation_1-rmse:1370.49927\n",
      "[206]\tvalidation_0-rmse:18.83711\tvalidation_1-rmse:0.84766\n",
      "[0]\tvalidation_0-rmse:555.58539\tvalidation_1-rmse:1449.72230\n",
      "[227]\tvalidation_0-rmse:18.57482\tvalidation_1-rmse:34.63550\n",
      "[0]\tvalidation_0-rmse:555.89144\tvalidation_1-rmse:1487.79325\n",
      "[286]\tvalidation_0-rmse:17.92176\tvalidation_1-rmse:7.88770\n",
      "[0]\tvalidation_0-rmse:556.21778\tvalidation_1-rmse:1464.17306\n",
      "[145]\tvalidation_0-rmse:19.48518\tvalidation_1-rmse:2.60083\n",
      "[0]\tvalidation_0-rmse:556.52387\tvalidation_1-rmse:1444.74388\n",
      "[116]\tvalidation_0-rmse:19.95012\tvalidation_1-rmse:28.40820\n",
      "[0]\tvalidation_0-rmse:556.82126\tvalidation_1-rmse:1256.31579\n",
      "[71]\tvalidation_0-rmse:21.02988\tvalidation_1-rmse:169.44629\n",
      "[0]\tvalidation_0-rmse:557.04197\tvalidation_1-rmse:1295.28062\n",
      "[74]\tvalidation_0-rmse:21.10026\tvalidation_1-rmse:99.03076\n",
      "[0]\tvalidation_0-rmse:557.28854\tvalidation_1-rmse:1320.24572\n",
      "[109]\tvalidation_0-rmse:20.42105\tvalidation_1-rmse:39.73853\n",
      "[0]\tvalidation_0-rmse:557.52699\tvalidation_1-rmse:1376.96827\n",
      "[432]\tvalidation_0-rmse:16.98228\tvalidation_1-rmse:59.05029\n",
      "[0]\tvalidation_0-rmse:557.79783\tvalidation_1-rmse:1365.35961\n",
      "[383]\tvalidation_0-rmse:17.37583\tvalidation_1-rmse:14.41748\n",
      "[0]\tvalidation_0-rmse:558.06625\tvalidation_1-rmse:1366.87806\n",
      "[95]\tvalidation_0-rmse:20.58659\tvalidation_1-rmse:34.69043\n",
      "[0]\tvalidation_0-rmse:558.32986\tvalidation_1-rmse:1351.05348\n",
      "[89]\tvalidation_0-rmse:20.91465\tvalidation_1-rmse:37.31421\n",
      "[0]\tvalidation_0-rmse:558.59027\tvalidation_1-rmse:1370.84349\n",
      "[103]\tvalidation_0-rmse:20.64216\tvalidation_1-rmse:32.16870\n",
      "[0]\tvalidation_0-rmse:558.85564\tvalidation_1-rmse:1383.89039\n",
      "[134]\tvalidation_0-rmse:19.93972\tvalidation_1-rmse:7.15283\n",
      "[0]\tvalidation_0-rmse:559.15282\tvalidation_1-rmse:1302.57629\n",
      "[79]\tvalidation_0-rmse:21.10951\tvalidation_1-rmse:75.24780\n",
      "[0]\tvalidation_0-rmse:559.38957\tvalidation_1-rmse:1335.68250\n",
      "[85]\tvalidation_0-rmse:20.78494\tvalidation_1-rmse:38.92603\n",
      "[0]\tvalidation_0-rmse:559.64196\tvalidation_1-rmse:1260.62698\n",
      "[79]\tvalidation_0-rmse:21.09713\tvalidation_1-rmse:61.46289\n",
      "[0]\tvalidation_0-rmse:559.86427\tvalidation_1-rmse:1304.51246\n",
      "[94]\tvalidation_0-rmse:20.76652\tvalidation_1-rmse:12.89087\n",
      "[0]\tvalidation_0-rmse:560.09952\tvalidation_1-rmse:1351.23171\n",
      "[353]\tvalidation_0-rmse:17.54074\tvalidation_1-rmse:22.33691\n",
      "[0]\tvalidation_0-rmse:560.35656\tvalidation_1-rmse:1366.45998\n",
      "[109]\tvalidation_0-rmse:20.11398\tvalidation_1-rmse:50.11914\n",
      "[0]\tvalidation_0-rmse:560.62253\tvalidation_1-rmse:1380.26574\n",
      "[125]\tvalidation_0-rmse:19.96274\tvalidation_1-rmse:48.99707\n",
      "[0]\tvalidation_0-rmse:560.89155\tvalidation_1-rmse:1429.61949\n",
      "[126]\tvalidation_0-rmse:19.84741\tvalidation_1-rmse:58.17871\n",
      "[0]\tvalidation_0-rmse:561.18487\tvalidation_1-rmse:1394.89063\n",
      "[110]\tvalidation_0-rmse:20.20340\tvalidation_1-rmse:13.85449\n",
      "[0]\tvalidation_0-rmse:561.43385\tvalidation_1-rmse:1419.13539\n",
      "[133]\tvalidation_0-rmse:19.69326\tvalidation_1-rmse:21.89209\n",
      "[0]\tvalidation_0-rmse:561.71998\tvalidation_1-rmse:1399.85316\n",
      "[131]\tvalidation_0-rmse:19.80955\tvalidation_1-rmse:11.46558\n",
      "[0]\tvalidation_0-rmse:562.00000\tvalidation_1-rmse:1432.46510\n",
      "[131]\tvalidation_0-rmse:19.82069\tvalidation_1-rmse:39.59229\n",
      "[0]\tvalidation_0-rmse:562.28900\tvalidation_1-rmse:1402.26050\n",
      "[99]\tvalidation_0-rmse:20.45561\tvalidation_1-rmse:9.32812\n",
      "[0]\tvalidation_0-rmse:562.56982\tvalidation_1-rmse:1444.19787\n",
      "[113]\tvalidation_0-rmse:20.12468\tvalidation_1-rmse:49.49390\n",
      "[0]\tvalidation_0-rmse:562.89132\tvalidation_1-rmse:1472.84071\n",
      "[193]\tvalidation_0-rmse:18.97174\tvalidation_1-rmse:51.84668\n",
      "[0]\tvalidation_0-rmse:563.20087\tvalidation_1-rmse:1461.44851\n",
      "[307]\tvalidation_0-rmse:17.97033\tvalidation_1-rmse:27.61060\n",
      "[0]\tvalidation_0-rmse:563.50732\tvalidation_1-rmse:1470.21248\n",
      "[475]\tvalidation_0-rmse:16.78918\tvalidation_1-rmse:26.20654\n",
      "[0]\tvalidation_0-rmse:563.81599\tvalidation_1-rmse:1496.94180\n",
      "[521]\tvalidation_0-rmse:16.63669\tvalidation_1-rmse:44.14185\n",
      "[0]\tvalidation_0-rmse:564.13570\tvalidation_1-rmse:1502.01257\n",
      "[135]\tvalidation_0-rmse:20.02509\tvalidation_1-rmse:6.20142\n",
      "[0]\tvalidation_0-rmse:564.46028\tvalidation_1-rmse:1520.31937\n",
      "[158]\tvalidation_0-rmse:19.65344\tvalidation_1-rmse:29.81421\n",
      "[0]\tvalidation_0-rmse:564.78968\tvalidation_1-rmse:1479.53101\n",
      "[96]\tvalidation_0-rmse:20.64730\tvalidation_1-rmse:23.90674\n",
      "[0]\tvalidation_0-rmse:565.10094\tvalidation_1-rmse:1459.09690\n",
      "[86]\tvalidation_0-rmse:20.96513\tvalidation_1-rmse:37.73096\n",
      "[0]\tvalidation_0-rmse:565.40226\tvalidation_1-rmse:1482.47378\n",
      "[98]\tvalidation_0-rmse:20.77014\tvalidation_1-rmse:18.16968\n",
      "[0]\tvalidation_0-rmse:565.71377\tvalidation_1-rmse:1461.10746\n",
      "[227]\tvalidation_0-rmse:18.74664\tvalidation_1-rmse:7.20044\n",
      "[0]\tvalidation_0-rmse:566.01951\tvalidation_1-rmse:1500.71874\n",
      "[316]\tvalidation_0-rmse:18.15869\tvalidation_1-rmse:17.67334\n",
      "[0]\tvalidation_0-rmse:566.34045\tvalidation_1-rmse:1490.20762\n",
      "[125]\tvalidation_0-rmse:20.30221\tvalidation_1-rmse:10.72949\n",
      "[0]\tvalidation_0-rmse:566.64850\tvalidation_1-rmse:1513.67318\n",
      "[114]\tvalidation_0-rmse:20.29493\tvalidation_1-rmse:24.82959\n",
      "[0]\tvalidation_0-rmse:566.97464\tvalidation_1-rmse:1535.67762\n",
      "[114]\tvalidation_0-rmse:20.28945\tvalidation_1-rmse:76.45337\n",
      "[0]\tvalidation_0-rmse:567.30462\tvalidation_1-rmse:1548.21631\n",
      "[139]\tvalidation_0-rmse:19.79128\tvalidation_1-rmse:45.37280\n",
      "[0]\tvalidation_0-rmse:567.65276\tvalidation_1-rmse:1569.04398\n",
      "[388]\tvalidation_0-rmse:17.43573\tvalidation_1-rmse:0.14258\n",
      "[0]\tvalidation_0-rmse:567.99348\tvalidation_1-rmse:1589.98365\n",
      "[520]\tvalidation_0-rmse:16.59833\tvalidation_1-rmse:3.89624\n",
      "[0]\tvalidation_0-rmse:568.36491\tvalidation_1-rmse:1591.65024\n",
      "[129]\tvalidation_0-rmse:20.11613\tvalidation_1-rmse:43.62769\n",
      "[0]\tvalidation_0-rmse:568.72714\tvalidation_1-rmse:1600.37527\n",
      "[304]\tvalidation_0-rmse:18.09213\tvalidation_1-rmse:33.67895\n",
      "[0]\tvalidation_0-rmse:569.09216\tvalidation_1-rmse:1573.13564\n",
      "[231]\tvalidation_0-rmse:18.80952\tvalidation_1-rmse:12.57495\n",
      "[0]\tvalidation_0-rmse:569.43307\tvalidation_1-rmse:1619.35520\n",
      "[137]\tvalidation_0-rmse:19.73224\tvalidation_1-rmse:76.44019\n",
      "[0]\tvalidation_0-rmse:569.81855\tvalidation_1-rmse:1611.95975\n",
      "[575]\tvalidation_0-rmse:16.28279\tvalidation_1-rmse:4.19946\n",
      "[0]\tvalidation_0-rmse:570.17910\tvalidation_1-rmse:1610.91697\n",
      "[208]\tvalidation_0-rmse:18.99929\tvalidation_1-rmse:2.95532\n",
      "[0]\tvalidation_0-rmse:570.54534\tvalidation_1-rmse:1619.59493\n",
      "[222]\tvalidation_0-rmse:18.81575\tvalidation_1-rmse:6.63354\n",
      "[0]\tvalidation_0-rmse:570.93012\tvalidation_1-rmse:1620.44546\n",
      "[260]\tvalidation_0-rmse:18.45890\tvalidation_1-rmse:15.64966\n",
      "[0]\tvalidation_0-rmse:571.30381\tvalidation_1-rmse:1604.99034\n",
      "[157]\tvalidation_0-rmse:19.72634\tvalidation_1-rmse:64.35596\n",
      "[0]\tvalidation_0-rmse:571.67115\tvalidation_1-rmse:1615.14489\n",
      "[237]\tvalidation_0-rmse:18.91558\tvalidation_1-rmse:75.79541\n",
      "[0]\tvalidation_0-rmse:572.04614\tvalidation_1-rmse:1626.27880\n",
      "[144]\tvalidation_0-rmse:19.83381\tvalidation_1-rmse:95.92383\n",
      "[0]\tvalidation_0-rmse:572.42084\tvalidation_1-rmse:1657.99133\n",
      "[356]\tvalidation_0-rmse:17.77263\tvalidation_1-rmse:82.58765\n",
      "[0]\tvalidation_0-rmse:572.81637\tvalidation_1-rmse:1669.87193\n",
      "[405]\tvalidation_0-rmse:17.62297\tvalidation_1-rmse:85.12476\n",
      "[0]\tvalidation_0-rmse:573.21813\tvalidation_1-rmse:1704.44639\n",
      "[303]\tvalidation_0-rmse:18.26183\tvalidation_1-rmse:72.44653\n",
      "[0]\tvalidation_0-rmse:573.63501\tvalidation_1-rmse:1709.70604\n",
      "[372]\tvalidation_0-rmse:17.74668\tvalidation_1-rmse:86.38623\n",
      "[0]\tvalidation_0-rmse:574.05480\tvalidation_1-rmse:1732.55101\n",
      "[136]\tvalidation_0-rmse:20.06421\tvalidation_1-rmse:160.19800\n",
      "[0]\tvalidation_0-rmse:574.52003\tvalidation_1-rmse:1727.73978\n",
      "[261]\tvalidation_0-rmse:18.79159\tvalidation_1-rmse:97.75806\n",
      "[0]\tvalidation_0-rmse:574.94820\tvalidation_1-rmse:1751.87621\n",
      "[157]\tvalidation_0-rmse:19.98316\tvalidation_1-rmse:85.36548\n",
      "[0]\tvalidation_0-rmse:575.38925\tvalidation_1-rmse:1805.47965\n",
      "[547]\tvalidation_0-rmse:16.67199\tvalidation_1-rmse:76.07178\n",
      "[0]\tvalidation_0-rmse:575.85581\tvalidation_1-rmse:1679.05383\n",
      "[117]\tvalidation_0-rmse:20.46286\tvalidation_1-rmse:39.24438\n",
      "[0]\tvalidation_0-rmse:576.25715\tvalidation_1-rmse:1650.39382\n",
      "[107]\tvalidation_0-rmse:20.81752\tvalidation_1-rmse:29.71313\n",
      "[0]\tvalidation_0-rmse:576.63984\tvalidation_1-rmse:1554.74709\n",
      "[83]\tvalidation_0-rmse:21.11297\tvalidation_1-rmse:149.43384\n",
      "[0]\tvalidation_0-rmse:576.97717\tvalidation_1-rmse:1621.38644\n",
      "[94]\tvalidation_0-rmse:21.08458\tvalidation_1-rmse:43.30225\n",
      "[0]\tvalidation_0-rmse:577.34949\tvalidation_1-rmse:1561.09281\n",
      "[84]\tvalidation_0-rmse:21.29652\tvalidation_1-rmse:132.49609\n",
      "[0]\tvalidation_0-rmse:577.68965\tvalidation_1-rmse:1562.41520\n",
      "[154]\tvalidation_0-rmse:20.15119\tvalidation_1-rmse:17.30664\n",
      "[0]\tvalidation_0-rmse:578.03129\tvalidation_1-rmse:1604.52111\n",
      "[283]\tvalidation_0-rmse:18.63101\tvalidation_1-rmse:34.80444\n",
      "[0]\tvalidation_0-rmse:578.39273\tvalidation_1-rmse:1621.67175\n",
      "[284]\tvalidation_0-rmse:18.71701\tvalidation_1-rmse:15.74072\n",
      "[0]\tvalidation_0-rmse:578.76298\tvalidation_1-rmse:1605.46364\n",
      "[91]\tvalidation_0-rmse:21.31391\tvalidation_1-rmse:60.72778\n",
      "[0]\tvalidation_0-rmse:579.12128\tvalidation_1-rmse:1576.48319\n",
      "[87]\tvalidation_0-rmse:21.13024\tvalidation_1-rmse:41.26099\n",
      "[0]\tvalidation_0-rmse:579.47087\tvalidation_1-rmse:1538.46458\n",
      "[82]\tvalidation_0-rmse:21.16905\tvalidation_1-rmse:79.51953\n",
      "[0]\tvalidation_0-rmse:579.79675\tvalidation_1-rmse:1499.68905\n",
      "[80]\tvalidation_0-rmse:21.29311\tvalidation_1-rmse:9.05151\n",
      "[0]\tvalidation_0-rmse:580.10568\tvalidation_1-rmse:1533.76538\n",
      "[110]\tvalidation_0-rmse:20.59648\tvalidation_1-rmse:111.85205\n",
      "[0]\tvalidation_0-rmse:580.42873\tvalidation_1-rmse:1454.64652\n",
      "[82]\tvalidation_0-rmse:21.18687\tvalidation_1-rmse:12.88770\n",
      "[0]\tvalidation_0-rmse:580.71693\tvalidation_1-rmse:1463.86449\n",
      "[86]\tvalidation_0-rmse:21.00145\tvalidation_1-rmse:4.32178\n",
      "[0]\tvalidation_0-rmse:581.01485\tvalidation_1-rmse:1515.34328\n",
      "[150]\tvalidation_0-rmse:19.81935\tvalidation_1-rmse:63.98853\n",
      "[0]\tvalidation_0-rmse:581.32954\tvalidation_1-rmse:1568.05859\n",
      "[138]\tvalidation_0-rmse:20.03277\tvalidation_1-rmse:107.44019\n",
      "[0]\tvalidation_0-rmse:581.66927\tvalidation_1-rmse:1551.42491\n",
      "[152]\tvalidation_0-rmse:19.82385\tvalidation_1-rmse:11.18579\n",
      "[0]\tvalidation_0-rmse:582.00498\tvalidation_1-rmse:1578.50927\n",
      "[230]\tvalidation_0-rmse:18.94065\tvalidation_1-rmse:10.48950\n",
      "[0]\tvalidation_0-rmse:582.35074\tvalidation_1-rmse:1595.83920\n",
      "[113]\tvalidation_0-rmse:20.61393\tvalidation_1-rmse:93.76074\n",
      "[0]\tvalidation_0-rmse:582.70935\tvalidation_1-rmse:1563.00368\n",
      "[101]\tvalidation_0-rmse:20.89763\tvalidation_1-rmse:17.07324\n",
      "[0]\tvalidation_0-rmse:583.04657\tvalidation_1-rmse:1622.70615\n",
      "[117]\tvalidation_0-rmse:20.68284\tvalidation_1-rmse:74.87403\n",
      "[0]\tvalidation_0-rmse:583.44217\tvalidation_1-rmse:1574.57740\n",
      "[98]\tvalidation_0-rmse:21.01513\tvalidation_1-rmse:34.71387\n",
      "[0]\tvalidation_0-rmse:583.75336\tvalidation_1-rmse:1632.57167\n",
      "[117]\tvalidation_0-rmse:20.75000\tvalidation_1-rmse:63.69409\n",
      "[0]\tvalidation_0-rmse:584.12441\tvalidation_1-rmse:1659.46241\n",
      "[122]\tvalidation_0-rmse:20.69790\tvalidation_1-rmse:25.21753\n",
      "[0]\tvalidation_0-rmse:584.47285\tvalidation_1-rmse:1689.25168\n",
      "[141]\tvalidation_0-rmse:20.29987\tvalidation_1-rmse:49.98023\n",
      "[0]\tvalidation_0-rmse:584.87047\tvalidation_1-rmse:1745.79745\n",
      "[212]\tvalidation_0-rmse:19.48577\tvalidation_1-rmse:65.93213\n",
      "[0]\tvalidation_0-rmse:585.30179\tvalidation_1-rmse:1722.94290\n",
      "[384]\tvalidation_0-rmse:18.03809\tvalidation_1-rmse:13.53906\n",
      "[0]\tvalidation_0-rmse:585.77326\tvalidation_1-rmse:1699.12183\n",
      "[151]\tvalidation_0-rmse:20.33306\tvalidation_1-rmse:16.57178\n",
      "[0]\tvalidation_0-rmse:586.17592\tvalidation_1-rmse:1695.15331\n",
      "[139]\tvalidation_0-rmse:20.32535\tvalidation_1-rmse:14.84790\n",
      "[0]\tvalidation_0-rmse:586.57392\tvalidation_1-rmse:1693.15866\n",
      "[131]\tvalidation_0-rmse:20.64021\tvalidation_1-rmse:12.48779\n",
      "[0]\tvalidation_0-rmse:586.97200\tvalidation_1-rmse:1635.73508\n",
      "[108]\tvalidation_0-rmse:20.98676\tvalidation_1-rmse:22.48193\n",
      "[0]\tvalidation_0-rmse:587.30765\tvalidation_1-rmse:1651.43021\n",
      "[228]\tvalidation_0-rmse:19.63056\tvalidation_1-rmse:2.76587\n",
      "[0]\tvalidation_0-rmse:587.68331\tvalidation_1-rmse:1643.36111\n",
      "[97]\tvalidation_0-rmse:21.29399\tvalidation_1-rmse:23.19971\n",
      "[0]\tvalidation_0-rmse:588.08704\tvalidation_1-rmse:1662.70653\n",
      "[114]\tvalidation_0-rmse:20.85073\tvalidation_1-rmse:11.08740\n",
      "[0]\tvalidation_0-rmse:588.46124\tvalidation_1-rmse:1674.04630\n",
      "[137]\tvalidation_0-rmse:20.27751\tvalidation_1-rmse:8.37500\n",
      "[0]\tvalidation_0-rmse:588.84917\tvalidation_1-rmse:1609.12057\n",
      "[88]\tvalidation_0-rmse:21.12792\tvalidation_1-rmse:68.57788\n",
      "[0]\tvalidation_0-rmse:589.20215\tvalidation_1-rmse:1598.36049\n",
      "[86]\tvalidation_0-rmse:21.18422\tvalidation_1-rmse:70.01221\n",
      "[0]\tvalidation_0-rmse:589.55095\tvalidation_1-rmse:1478.20449\n",
      "[76]\tvalidation_0-rmse:21.40542\tvalidation_1-rmse:171.17407\n",
      "[0]\tvalidation_0-rmse:589.84551\tvalidation_1-rmse:1516.89139\n",
      "[86]\tvalidation_0-rmse:21.24468\tvalidation_1-rmse:21.24902\n",
      "[0]\tvalidation_0-rmse:590.15079\tvalidation_1-rmse:1476.31856\n",
      "[129]\tvalidation_0-rmse:20.41707\tvalidation_1-rmse:13.43628\n",
      "[0]\tvalidation_0-rmse:590.45130\tvalidation_1-rmse:1516.22269\n",
      "[157]\tvalidation_0-rmse:20.05441\tvalidation_1-rmse:33.68335\n",
      "[0]\tvalidation_0-rmse:590.76236\tvalidation_1-rmse:1574.70458\n",
      "[122]\tvalidation_0-rmse:20.63420\tvalidation_1-rmse:86.97778\n",
      "[0]\tvalidation_0-rmse:591.08641\tvalidation_1-rmse:1648.52760\n",
      "[446]\tvalidation_0-rmse:17.24752\tvalidation_1-rmse:93.72729\n",
      "[0]\tvalidation_0-rmse:591.43921\tvalidation_1-rmse:1715.03163\n",
      "[164]\tvalidation_0-rmse:19.94811\tvalidation_1-rmse:130.22876\n",
      "[0]\tvalidation_0-rmse:591.84685\tvalidation_1-rmse:1709.56091\n",
      "[350]\tvalidation_0-rmse:18.04979\tvalidation_1-rmse:48.74243\n",
      "[0]\tvalidation_0-rmse:592.24793\tvalidation_1-rmse:1750.07193\n",
      "[398]\tvalidation_0-rmse:17.74459\tvalidation_1-rmse:61.52710\n",
      "[0]\tvalidation_0-rmse:592.65956\tvalidation_1-rmse:1744.53683\n",
      "[397]\tvalidation_0-rmse:17.86790\tvalidation_1-rmse:9.93384\n",
      "[0]\tvalidation_0-rmse:593.09112\tvalidation_1-rmse:1773.18936\n",
      "[257]\tvalidation_0-rmse:19.00535\tvalidation_1-rmse:75.44995\n",
      "[0]\tvalidation_0-rmse:593.52062\tvalidation_1-rmse:1736.95279\n",
      "[112]\tvalidation_0-rmse:21.17158\tvalidation_1-rmse:73.90552\n",
      "[0]\tvalidation_0-rmse:593.91994\tvalidation_1-rmse:1782.42139\n",
      "[450]\tvalidation_0-rmse:17.59158\tvalidation_1-rmse:34.52930\n",
      "[0]\tvalidation_0-rmse:594.34872\tvalidation_1-rmse:1823.55470\n",
      "[501]\tvalidation_0-rmse:17.27964\tvalidation_1-rmse:65.08985\n",
      "[0]\tvalidation_0-rmse:594.80914\tvalidation_1-rmse:1805.55296\n",
      "[128]\tvalidation_0-rmse:21.03201\tvalidation_1-rmse:102.67798\n",
      "[0]\tvalidation_0-rmse:595.25898\tvalidation_1-rmse:1763.21921\n",
      "[135]\tvalidation_0-rmse:20.90102\tvalidation_1-rmse:13.60156\n",
      "[0]\tvalidation_0-rmse:595.69015\tvalidation_1-rmse:1776.57156\n",
      "[231]\tvalidation_0-rmse:19.69864\tvalidation_1-rmse:12.72705\n",
      "[0]\tvalidation_0-rmse:596.10973\tvalidation_1-rmse:1751.64516\n",
      "[185]\tvalidation_0-rmse:20.18759\tvalidation_1-rmse:9.18677\n",
      "[0]\tvalidation_0-rmse:596.58250\tvalidation_1-rmse:1771.15612\n",
      "[231]\tvalidation_0-rmse:19.35282\tvalidation_1-rmse:29.88989\n",
      "[0]\tvalidation_0-rmse:596.99513\tvalidation_1-rmse:1828.39670\n",
      "[440]\tvalidation_0-rmse:17.85411\tvalidation_1-rmse:62.18310\n",
      "[0]\tvalidation_0-rmse:597.45421\tvalidation_1-rmse:1822.02538\n",
      "[173]\tvalidation_0-rmse:20.09381\tvalidation_1-rmse:52.67969\n",
      "[0]\tvalidation_0-rmse:597.90402\tvalidation_1-rmse:1830.04433\n",
      "[235]\tvalidation_0-rmse:19.32380\tvalidation_1-rmse:93.82349\n",
      "[0]\tvalidation_0-rmse:598.36556\tvalidation_1-rmse:1812.71095\n",
      "[282]\tvalidation_0-rmse:18.77296\tvalidation_1-rmse:62.68237\n",
      "[0]\tvalidation_0-rmse:598.81283\tvalidation_1-rmse:1852.95069\n",
      "[202]\tvalidation_0-rmse:19.75094\tvalidation_1-rmse:62.62744\n",
      "[0]\tvalidation_0-rmse:599.28470\tvalidation_1-rmse:1861.24011\n",
      "[192]\tvalidation_0-rmse:19.81875\tvalidation_1-rmse:85.91040\n",
      "[0]\tvalidation_0-rmse:599.75758\tvalidation_1-rmse:1855.92154\n",
      "[317]\tvalidation_0-rmse:18.55253\tvalidation_1-rmse:52.61621\n",
      "[0]\tvalidation_0-rmse:600.21659\tvalidation_1-rmse:1890.07348\n",
      "[863]\tvalidation_0-rmse:15.18386\tvalidation_1-rmse:43.54834\n",
      "[0]\tvalidation_0-rmse:600.71827\tvalidation_1-rmse:1882.26586\n",
      "[944]\tvalidation_0-rmse:15.13202\tvalidation_1-rmse:14.56494\n",
      "[0]\tvalidation_0-rmse:601.18726\tvalidation_1-rmse:1891.89475\n",
      "[174]\tvalidation_0-rmse:20.13888\tvalidation_1-rmse:79.84448\n",
      "[0]\tvalidation_0-rmse:601.67753\tvalidation_1-rmse:1861.82155\n",
      "[366]\tvalidation_0-rmse:18.29410\tvalidation_1-rmse:61.53735\n",
      "[0]\tvalidation_0-rmse:602.14804\tvalidation_1-rmse:1856.48633\n",
      "[274]\tvalidation_0-rmse:19.12193\tvalidation_1-rmse:5.48340\n",
      "[0]\tvalidation_0-rmse:602.62497\tvalidation_1-rmse:1851.23135\n",
      "[333]\tvalidation_0-rmse:18.41760\tvalidation_1-rmse:17.67920\n",
      "[0]\tvalidation_0-rmse:603.09080\tvalidation_1-rmse:1834.64111\n",
      "[124]\tvalidation_0-rmse:20.93669\tvalidation_1-rmse:22.84839\n",
      "[0]\tvalidation_0-rmse:603.53731\tvalidation_1-rmse:1878.82151\n",
      "[323]\tvalidation_0-rmse:18.57932\tvalidation_1-rmse:33.67944\n",
      "[0]\tvalidation_0-rmse:604.01595\tvalidation_1-rmse:1887.03650\n",
      "[120]\tvalidation_0-rmse:21.07461\tvalidation_1-rmse:68.48364\n",
      "[0]\tvalidation_0-rmse:604.50689\tvalidation_1-rmse:1907.70811\n",
      "[793]\tvalidation_0-rmse:15.83073\tvalidation_1-rmse:67.79346\n",
      "[0]\tvalidation_0-rmse:605.00167\tvalidation_1-rmse:1894.00158\n",
      "[348]\tvalidation_0-rmse:18.44802\tvalidation_1-rmse:25.99683\n",
      "[0]\tvalidation_0-rmse:605.46758\tvalidation_1-rmse:1878.73654\n",
      "[101]\tvalidation_0-rmse:21.50931\tvalidation_1-rmse:108.48096\n",
      "[0]\tvalidation_0-rmse:605.94621\tvalidation_1-rmse:1870.43838\n",
      "[420]\tvalidation_0-rmse:18.06284\tvalidation_1-rmse:3.28833\n",
      "[0]\tvalidation_0-rmse:606.41978\tvalidation_1-rmse:1872.59225\n",
      "[437]\tvalidation_0-rmse:17.99275\tvalidation_1-rmse:0.75049\n",
      "[0]\tvalidation_0-rmse:606.89432\tvalidation_1-rmse:1885.02003\n",
      "[246]\tvalidation_0-rmse:19.42289\tvalidation_1-rmse:25.09692\n",
      "[0]\tvalidation_0-rmse:607.37276\tvalidation_1-rmse:1916.69507\n",
      "[226]\tvalidation_0-rmse:19.77270\tvalidation_1-rmse:60.18628\n",
      "[0]\tvalidation_0-rmse:607.86695\tvalidation_1-rmse:1907.66336\n",
      "[212]\tvalidation_0-rmse:19.84195\tvalidation_1-rmse:33.09961\n",
      "[0]\tvalidation_0-rmse:608.35609\tvalidation_1-rmse:1912.12794\n",
      "[215]\tvalidation_0-rmse:19.67126\tvalidation_1-rmse:31.88477\n",
      "[0]\tvalidation_0-rmse:608.85008\tvalidation_1-rmse:1935.51686\n",
      "[443]\tvalidation_0-rmse:17.78947\tvalidation_1-rmse:43.18335\n",
      "[0]\tvalidation_0-rmse:609.35542\tvalidation_1-rmse:1879.46069\n",
      "[114]\tvalidation_0-rmse:21.09829\tvalidation_1-rmse:19.10376\n",
      "[0]\tvalidation_0-rmse:609.82996\tvalidation_1-rmse:1905.04764\n",
      "[232]\tvalidation_0-rmse:19.56186\tvalidation_1-rmse:12.40015\n",
      "[0]\tvalidation_0-rmse:610.31467\tvalidation_1-rmse:1925.65710\n",
      "[129]\tvalidation_0-rmse:20.81019\tvalidation_1-rmse:67.35596\n",
      "[0]\tvalidation_0-rmse:610.81361\tvalidation_1-rmse:1980.67337\n",
      "[274]\tvalidation_0-rmse:19.04484\tvalidation_1-rmse:83.63892\n",
      "[0]\tvalidation_0-rmse:611.34294\tvalidation_1-rmse:2000.87868\n",
      "[250]\tvalidation_0-rmse:19.24302\tvalidation_1-rmse:100.56812\n",
      "[0]\tvalidation_0-rmse:611.88349\tvalidation_1-rmse:1975.12196\n",
      "[157]\tvalidation_0-rmse:20.46736\tvalidation_1-rmse:85.29687\n",
      "[0]\tvalidation_0-rmse:612.40872\tvalidation_1-rmse:1976.03555\n",
      "[160]\tvalidation_0-rmse:20.49485\tvalidation_1-rmse:88.95557\n",
      "[0]\tvalidation_0-rmse:612.93269\tvalidation_1-rmse:1984.00662\n",
      "[330]\tvalidation_0-rmse:18.49661\tvalidation_1-rmse:46.13208\n",
      "[0]\tvalidation_0-rmse:613.48454\tvalidation_1-rmse:1968.98584\n",
      "[305]\tvalidation_0-rmse:18.76063\tvalidation_1-rmse:48.20776\n",
      "[0]\tvalidation_0-rmse:613.97666\tvalidation_1-rmse:1940.99362\n",
      "[208]\tvalidation_0-rmse:20.01210\tvalidation_1-rmse:3.85059\n",
      "[0]\tvalidation_0-rmse:614.48167\tvalidation_1-rmse:1970.99512\n",
      "[184]\tvalidation_0-rmse:20.41264\tvalidation_1-rmse:36.29199\n",
      "[0]\tvalidation_0-rmse:615.02360\tvalidation_1-rmse:2023.27062\n",
      "[322]\tvalidation_0-rmse:18.81073\tvalidation_1-rmse:76.79541\n",
      "[0]\tvalidation_0-rmse:615.57227\tvalidation_1-rmse:2023.77346\n",
      "[315]\tvalidation_0-rmse:19.08143\tvalidation_1-rmse:90.28003\n",
      "[0]\tvalidation_0-rmse:616.12131\tvalidation_1-rmse:2011.46719\n",
      "[547]\tvalidation_0-rmse:17.50877\tvalidation_1-rmse:58.01636\n",
      "[0]\tvalidation_0-rmse:616.65521\tvalidation_1-rmse:2024.65553\n",
      "[673]\tvalidation_0-rmse:16.73305\tvalidation_1-rmse:54.97974\n",
      "[0]\tvalidation_0-rmse:617.20041\tvalidation_1-rmse:2018.21679\n",
      "[106]\tvalidation_0-rmse:21.68093\tvalidation_1-rmse:107.27075\n",
      "[0]\tvalidation_0-rmse:617.74566\tvalidation_1-rmse:1918.66249\n",
      "[96]\tvalidation_0-rmse:21.85699\tvalidation_1-rmse:53.55225\n",
      "[0]\tvalidation_0-rmse:618.22969\tvalidation_1-rmse:1954.59203\n",
      "[115]\tvalidation_0-rmse:21.48423\tvalidation_1-rmse:35.78369\n",
      "[0]\tvalidation_0-rmse:618.73832\tvalidation_1-rmse:1880.80275\n",
      "[87]\tvalidation_0-rmse:22.08498\tvalidation_1-rmse:45.24341\n",
      "[0]\tvalidation_0-rmse:619.20429\tvalidation_1-rmse:1939.80212\n",
      "[98]\tvalidation_0-rmse:21.69776\tvalidation_1-rmse:38.90674\n",
      "[0]\tvalidation_0-rmse:619.70178\tvalidation_1-rmse:1991.59653\n",
      "[163]\tvalidation_0-rmse:20.58689\tvalidation_1-rmse:38.20825\n",
      "[0]\tvalidation_0-rmse:620.22603\tvalidation_1-rmse:1994.89524\n",
      "[209]\tvalidation_0-rmse:19.93254\tvalidation_1-rmse:31.67603\n",
      "[0]\tvalidation_0-rmse:620.75100\tvalidation_1-rmse:2035.78762\n",
      "[334]\tvalidation_0-rmse:18.66086\tvalidation_1-rmse:65.71314\n",
      "[0]\tvalidation_0-rmse:621.29977\tvalidation_1-rmse:2050.15914\n",
      "[292]\tvalidation_0-rmse:18.85192\tvalidation_1-rmse:63.40527\n",
      "[0]\tvalidation_0-rmse:621.85609\tvalidation_1-rmse:2078.20511\n",
      "[702]\tvalidation_0-rmse:16.28085\tvalidation_1-rmse:60.22095\n",
      "[0]\tvalidation_0-rmse:622.42737\tvalidation_1-rmse:2073.11674\n",
      "[197]\tvalidation_0-rmse:19.85992\tvalidation_1-rmse:77.17041\n",
      "[0]\tvalidation_0-rmse:622.99749\tvalidation_1-rmse:2071.07231\n",
      "[445]\tvalidation_0-rmse:17.74955\tvalidation_1-rmse:65.64892\n",
      "[0]\tvalidation_0-rmse:623.56500\tvalidation_1-rmse:2076.84569\n",
      "[419]\tvalidation_0-rmse:18.03787\tvalidation_1-rmse:35.92261\n",
      "[0]\tvalidation_0-rmse:624.11573\tvalidation_1-rmse:2091.69656\n",
      "[299]\tvalidation_0-rmse:19.03463\tvalidation_1-rmse:83.45337\n",
      "[0]\tvalidation_0-rmse:624.69651\tvalidation_1-rmse:2091.60357\n",
      "[203]\tvalidation_0-rmse:20.08409\tvalidation_1-rmse:73.90747\n",
      "[0]\tvalidation_0-rmse:625.26677\tvalidation_1-rmse:2086.69727\n",
      "[205]\tvalidation_0-rmse:19.94951\tvalidation_1-rmse:70.20776\n",
      "[0]\tvalidation_0-rmse:625.84154\tvalidation_1-rmse:2068.58744\n",
      "[443]\tvalidation_0-rmse:17.93750\tvalidation_1-rmse:16.23730\n",
      "[0]\tvalidation_0-rmse:626.40379\tvalidation_1-rmse:2060.58936\n",
      "[232]\tvalidation_0-rmse:19.83336\tvalidation_1-rmse:13.39331\n",
      "[0]\tvalidation_0-rmse:626.96327\tvalidation_1-rmse:2029.65342\n",
      "[120]\tvalidation_0-rmse:21.56965\tvalidation_1-rmse:12.74976\n",
      "[0]\tvalidation_0-rmse:627.49736\tvalidation_1-rmse:2033.71864\n",
      "[145]\tvalidation_0-rmse:21.19039\tvalidation_1-rmse:36.49780\n",
      "[0]\tvalidation_0-rmse:628.03999\tvalidation_1-rmse:2077.07222\n",
      "[154]\tvalidation_0-rmse:20.95155\tvalidation_1-rmse:74.33447\n",
      "[0]\tvalidation_0-rmse:628.60619\tvalidation_1-rmse:1980.25074\n",
      "[92]\tvalidation_0-rmse:22.05197\tvalidation_1-rmse:38.31885\n",
      "[0]\tvalidation_0-rmse:629.11765\tvalidation_1-rmse:1961.36948\n",
      "[113]\tvalidation_0-rmse:21.58541\tvalidation_1-rmse:18.10962\n",
      "[0]\tvalidation_0-rmse:629.61953\tvalidation_1-rmse:2051.51371\n",
      "[195]\tvalidation_0-rmse:20.43760\tvalidation_1-rmse:33.97583\n",
      "[0]\tvalidation_0-rmse:630.16540\tvalidation_1-rmse:2019.24899\n",
      "[105]\tvalidation_0-rmse:21.51629\tvalidation_1-rmse:24.01465\n",
      "[0]\tvalidation_0-rmse:630.69866\tvalidation_1-rmse:1967.98279\n",
      "[90]\tvalidation_0-rmse:21.96498\tvalidation_1-rmse:51.70728\n",
      "[0]\tvalidation_0-rmse:631.20350\tvalidation_1-rmse:1916.08559\n",
      "[83]\tvalidation_0-rmse:22.11210\tvalidation_1-rmse:110.24414\n",
      "[0]\tvalidation_0-rmse:631.67901\tvalidation_1-rmse:1988.93238\n",
      "[95]\tvalidation_0-rmse:21.70913\tvalidation_1-rmse:67.48682\n",
      "[0]\tvalidation_0-rmse:632.19302\tvalidation_1-rmse:1967.66429\n",
      "[95]\tvalidation_0-rmse:21.92251\tvalidation_1-rmse:27.88867\n",
      "[0]\tvalidation_0-rmse:632.68837\tvalidation_1-rmse:2023.93824\n",
      "[122]\tvalidation_0-rmse:21.34429\tvalidation_1-rmse:47.72192\n",
      "[0]\tvalidation_0-rmse:633.21719\tvalidation_1-rmse:2046.75536\n",
      "[130]\tvalidation_0-rmse:21.04523\tvalidation_1-rmse:40.23877\n",
      "[0]\tvalidation_0-rmse:633.75750\tvalidation_1-rmse:2086.55913\n",
      "[180]\tvalidation_0-rmse:20.24569\tvalidation_1-rmse:75.67358\n",
      "[0]\tvalidation_0-rmse:634.32229\tvalidation_1-rmse:2089.84126\n",
      "[188]\tvalidation_0-rmse:20.17778\tvalidation_1-rmse:61.54834\n",
      "[0]\tvalidation_0-rmse:634.88685\tvalidation_1-rmse:2114.70944\n",
      "[305]\tvalidation_0-rmse:19.26331\tvalidation_1-rmse:54.24023\n",
      "[0]\tvalidation_0-rmse:635.46525\tvalidation_1-rmse:2107.73409\n",
      "[253]\tvalidation_0-rmse:19.72791\tvalidation_1-rmse:51.29712\n",
      "[0]\tvalidation_0-rmse:636.05717\tvalidation_1-rmse:2118.40093\n",
      "[255]\tvalidation_0-rmse:19.84198\tvalidation_1-rmse:46.14014\n",
      "[0]\tvalidation_0-rmse:636.62276\tvalidation_1-rmse:2059.03023\n",
      "[146]\tvalidation_0-rmse:21.15079\tvalidation_1-rmse:10.36768\n",
      "[0]\tvalidation_0-rmse:637.16531\tvalidation_1-rmse:2055.94382\n",
      "[144]\tvalidation_0-rmse:21.24735\tvalidation_1-rmse:10.12817\n",
      "[0]\tvalidation_0-rmse:637.71191\tvalidation_1-rmse:2082.73294\n",
      "[113]\tvalidation_0-rmse:21.89590\tvalidation_1-rmse:79.62598\n",
      "[0]\tvalidation_0-rmse:638.27953\tvalidation_1-rmse:2051.94578\n",
      "[149]\tvalidation_0-rmse:21.22882\tvalidation_1-rmse:2.06567\n",
      "[0]\tvalidation_0-rmse:638.81956\tvalidation_1-rmse:2029.87340\n",
      "[99]\tvalidation_0-rmse:22.22314\tvalidation_1-rmse:34.11767\n",
      "[0]\tvalidation_0-rmse:639.33911\tvalidation_1-rmse:2049.48506\n",
      "[125]\tvalidation_0-rmse:21.67731\tvalidation_1-rmse:2.51880\n",
      "[0]\tvalidation_0-rmse:639.87505\tvalidation_1-rmse:2113.81669\n",
      "[242]\tvalidation_0-rmse:20.18390\tvalidation_1-rmse:55.03906\n",
      "[0]\tvalidation_0-rmse:640.44714\tvalidation_1-rmse:2109.64156\n",
      "[152]\tvalidation_0-rmse:21.18349\tvalidation_1-rmse:54.64966\n",
      "[0]\tvalidation_0-rmse:641.01108\tvalidation_1-rmse:2096.35934\n",
      "[254]\tvalidation_0-rmse:19.99197\tvalidation_1-rmse:26.33008\n",
      "[0]\tvalidation_0-rmse:641.57430\tvalidation_1-rmse:2109.96588\n",
      "[385]\tvalidation_0-rmse:18.68804\tvalidation_1-rmse:26.57983\n",
      "[0]\tvalidation_0-rmse:642.13838\tvalidation_1-rmse:2156.22042\n",
      "[455]\tvalidation_0-rmse:18.15187\tvalidation_1-rmse:74.14892\n",
      "[0]\tvalidation_0-rmse:642.73776\tvalidation_1-rmse:2213.52129\n",
      "[696]\tvalidation_0-rmse:16.81249\tvalidation_1-rmse:109.22607\n",
      "[0]\tvalidation_0-rmse:643.36281\tvalidation_1-rmse:2208.76900\n",
      "[196]\tvalidation_0-rmse:20.53406\tvalidation_1-rmse:98.47192\n",
      "[0]\tvalidation_0-rmse:643.98675\tvalidation_1-rmse:2213.99243\n",
      "[599]\tvalidation_0-rmse:17.44292\tvalidation_1-rmse:62.34937\n",
      "[0]\tvalidation_0-rmse:644.61331\tvalidation_1-rmse:2230.42866\n",
      "[709]\tvalidation_0-rmse:16.87656\tvalidation_1-rmse:49.47632\n",
      "[0]\tvalidation_0-rmse:645.25033\tvalidation_1-rmse:2261.26856\n",
      "[273]\tvalidation_0-rmse:19.45582\tvalidation_1-rmse:90.73779\n",
      "[0]\tvalidation_0-rmse:645.90319\tvalidation_1-rmse:2259.64942\n",
      "[422]\tvalidation_0-rmse:18.26369\tvalidation_1-rmse:60.78711\n",
      "[0]\tvalidation_0-rmse:646.55439\tvalidation_1-rmse:2272.58300\n",
      "[300]\tvalidation_0-rmse:19.47555\tvalidation_1-rmse:54.13794\n",
      "[0]\tvalidation_0-rmse:647.21823\tvalidation_1-rmse:2254.84135\n",
      "[271]\tvalidation_0-rmse:19.80189\tvalidation_1-rmse:37.23608\n",
      "[0]\tvalidation_0-rmse:647.85258\tvalidation_1-rmse:2299.70976\n",
      "[492]\tvalidation_0-rmse:17.95550\tvalidation_1-rmse:67.21582\n",
      "[0]\tvalidation_0-rmse:648.52906\tvalidation_1-rmse:2313.91800\n",
      "[355]\tvalidation_0-rmse:19.06282\tvalidation_1-rmse:106.62402\n",
      "[0]\tvalidation_0-rmse:649.21119\tvalidation_1-rmse:2290.87134\n",
      "[271]\tvalidation_0-rmse:19.79254\tvalidation_1-rmse:108.05347\n",
      "[0]\tvalidation_0-rmse:649.87832\tvalidation_1-rmse:2261.72799\n",
      "[317]\tvalidation_0-rmse:19.42968\tvalidation_1-rmse:10.71680\n",
      "[0]\tvalidation_0-rmse:650.53355\tvalidation_1-rmse:2299.41427\n",
      "[118]\tvalidation_0-rmse:22.03380\tvalidation_1-rmse:162.98926\n",
      "[0]\tvalidation_0-rmse:651.20534\tvalidation_1-rmse:2260.15232\n",
      "[380]\tvalidation_0-rmse:18.99520\tvalidation_1-rmse:12.21289\n",
      "[0]\tvalidation_0-rmse:651.85047\tvalidation_1-rmse:2304.55180\n",
      "[366]\tvalidation_0-rmse:19.12972\tvalidation_1-rmse:78.14844\n",
      "[0]\tvalidation_0-rmse:652.52145\tvalidation_1-rmse:2311.17622\n",
      "[254]\tvalidation_0-rmse:20.18586\tvalidation_1-rmse:61.94824\n",
      "[0]\tvalidation_0-rmse:653.19849\tvalidation_1-rmse:2309.43705\n",
      "[350]\tvalidation_0-rmse:19.37806\tvalidation_1-rmse:49.16895\n",
      "[0]\tvalidation_0-rmse:653.84694\tvalidation_1-rmse:2305.01464\n",
      "[316]\tvalidation_0-rmse:19.38971\tvalidation_1-rmse:37.85938\n",
      "[0]\tvalidation_0-rmse:654.51847\tvalidation_1-rmse:2332.48537\n",
      "[471]\tvalidation_0-rmse:18.38849\tvalidation_1-rmse:62.63037\n",
      "[0]\tvalidation_0-rmse:655.20305\tvalidation_1-rmse:2301.34884\n",
      "[124]\tvalidation_0-rmse:21.74466\tvalidation_1-rmse:67.58105\n",
      "[0]\tvalidation_0-rmse:655.86267\tvalidation_1-rmse:2312.00973\n",
      "[233]\tvalidation_0-rmse:20.33247\tvalidation_1-rmse:68.86377\n",
      "[0]\tvalidation_0-rmse:656.53950\tvalidation_1-rmse:2283.16940\n",
      "[129]\tvalidation_0-rmse:21.68858\tvalidation_1-rmse:33.29736\n",
      "[0]\tvalidation_0-rmse:657.19201\tvalidation_1-rmse:2285.28171\n",
      "[200]\tvalidation_0-rmse:20.79457\tvalidation_1-rmse:8.89307\n",
      "[0]\tvalidation_0-rmse:657.84554\tvalidation_1-rmse:2318.49779\n",
      "[802]\tvalidation_0-rmse:16.50752\tvalidation_1-rmse:4.51074\n",
      "[0]\tvalidation_0-rmse:658.51688\tvalidation_1-rmse:2348.64653\n",
      "[514]\tvalidation_0-rmse:17.98594\tvalidation_1-rmse:60.03613\n",
      "[0]\tvalidation_0-rmse:659.20977\tvalidation_1-rmse:2303.63430\n",
      "[275]\tvalidation_0-rmse:19.71395\tvalidation_1-rmse:16.41943\n",
      "[0]\tvalidation_0-rmse:659.86991\tvalidation_1-rmse:2266.47833\n",
      "[104]\tvalidation_0-rmse:21.98430\tvalidation_1-rmse:21.02002\n",
      "[0]\tvalidation_0-rmse:660.50744\tvalidation_1-rmse:2176.61078\n",
      "[84]\tvalidation_0-rmse:22.31817\tvalidation_1-rmse:93.03174\n",
      "[0]\tvalidation_0-rmse:661.09811\tvalidation_1-rmse:2225.33301\n",
      "[96]\tvalidation_0-rmse:22.29695\tvalidation_1-rmse:24.51856\n",
      "[0]\tvalidation_0-rmse:661.71020\tvalidation_1-rmse:2286.07032\n",
      "[120]\tvalidation_0-rmse:21.76941\tvalidation_1-rmse:131.18603\n",
      "[0]\tvalidation_0-rmse:662.35787\tvalidation_1-rmse:2274.70756\n",
      "[227]\tvalidation_0-rmse:20.39048\tvalidation_1-rmse:14.33838\n",
      "[0]\tvalidation_0-rmse:662.99781\tvalidation_1-rmse:2238.43506\n",
      "[124]\tvalidation_0-rmse:21.76700\tvalidation_1-rmse:15.59326\n",
      "[0]\tvalidation_0-rmse:663.62422\tvalidation_1-rmse:2225.52005\n",
      "[118]\tvalidation_0-rmse:21.88496\tvalidation_1-rmse:28.82007\n",
      "[0]\tvalidation_0-rmse:664.22884\tvalidation_1-rmse:2268.18826\n",
      "[207]\tvalidation_0-rmse:20.72405\tvalidation_1-rmse:5.22168\n",
      "[0]\tvalidation_0-rmse:664.86464\tvalidation_1-rmse:2264.10910\n",
      "[129]\tvalidation_0-rmse:21.83194\tvalidation_1-rmse:7.91699\n",
      "[0]\tvalidation_0-rmse:665.52188\tvalidation_1-rmse:2304.53347\n",
      "[453]\tvalidation_0-rmse:18.45691\tvalidation_1-rmse:0.36475\n",
      "[0]\tvalidation_0-rmse:666.15668\tvalidation_1-rmse:2294.80620\n",
      "[166]\tvalidation_0-rmse:21.38742\tvalidation_1-rmse:5.84570\n",
      "[0]\tvalidation_0-rmse:666.80188\tvalidation_1-rmse:2298.21877\n",
      "[312]\tvalidation_0-rmse:19.59458\tvalidation_1-rmse:1.12891\n",
      "[0]\tvalidation_0-rmse:667.44968\tvalidation_1-rmse:2302.27637\n",
      "[794]\tvalidation_0-rmse:16.63725\tvalidation_1-rmse:7.93066\n",
      "[0]\tvalidation_0-rmse:668.10448\tvalidation_1-rmse:2304.58011\n",
      "[160]\tvalidation_0-rmse:21.54443\tvalidation_1-rmse:50.20459\n",
      "[0]\tvalidation_0-rmse:668.76999\tvalidation_1-rmse:2301.63670\n",
      "[176]\tvalidation_0-rmse:21.20000\tvalidation_1-rmse:41.36475\n",
      "[0]\tvalidation_0-rmse:669.42177\tvalidation_1-rmse:2302.80981\n",
      "[253]\tvalidation_0-rmse:20.29585\tvalidation_1-rmse:24.27100\n",
      "[0]\tvalidation_0-rmse:670.08809\tvalidation_1-rmse:2290.82714\n",
      "[591]\tvalidation_0-rmse:17.88066\tvalidation_1-rmse:3.02197\n",
      "[0]\tvalidation_0-rmse:670.69145\tvalidation_1-rmse:2318.01704\n",
      "[185]\tvalidation_0-rmse:20.87601\tvalidation_1-rmse:42.08740\n",
      "[0]\tvalidation_0-rmse:671.36678\tvalidation_1-rmse:2313.76198\n",
      "[221]\tvalidation_0-rmse:20.58844\tvalidation_1-rmse:31.95312\n",
      "[0]\tvalidation_0-rmse:671.97856\tvalidation_1-rmse:2313.59126\n",
      "[738]\tvalidation_0-rmse:16.89536\tvalidation_1-rmse:0.33545\n",
      "[0]\tvalidation_0-rmse:672.63699\tvalidation_1-rmse:2304.99707\n",
      "[512]\tvalidation_0-rmse:18.07035\tvalidation_1-rmse:18.01172\n",
      "[0]\tvalidation_0-rmse:673.29779\tvalidation_1-rmse:2323.76860\n",
      "[317]\tvalidation_0-rmse:19.52626\tvalidation_1-rmse:39.10400\n",
      "[0]\tvalidation_0-rmse:673.94642\tvalidation_1-rmse:2331.03368\n",
      "[252]\tvalidation_0-rmse:20.20282\tvalidation_1-rmse:50.40088\n",
      "[0]\tvalidation_0-rmse:674.61432\tvalidation_1-rmse:2337.86494\n",
      "[196]\tvalidation_0-rmse:20.95826\tvalidation_1-rmse:44.68555\n",
      "[0]\tvalidation_0-rmse:675.28300\tvalidation_1-rmse:2328.40579\n",
      "[560]\tvalidation_0-rmse:17.97303\tvalidation_1-rmse:6.44287\n",
      "[0]\tvalidation_0-rmse:675.94085\tvalidation_1-rmse:2304.58695\n",
      "[167]\tvalidation_0-rmse:21.22760\tvalidation_1-rmse:11.38232\n",
      "[0]\tvalidation_0-rmse:676.59756\tvalidation_1-rmse:2301.90432\n",
      "[289]\tvalidation_0-rmse:20.02430\tvalidation_1-rmse:5.47412\n",
      "[0]\tvalidation_0-rmse:677.23544\tvalidation_1-rmse:2245.86130\n",
      "[95]\tvalidation_0-rmse:22.59816\tvalidation_1-rmse:34.68994\n",
      "[0]\tvalidation_0-rmse:677.84667\tvalidation_1-rmse:2303.37937\n",
      "[104]\tvalidation_0-rmse:22.40762\tvalidation_1-rmse:89.26953\n",
      "[0]\tvalidation_0-rmse:678.49676\tvalidation_1-rmse:2324.20363\n",
      "[505]\tvalidation_0-rmse:18.26676\tvalidation_1-rmse:2.24756\n",
      "[0]\tvalidation_0-rmse:679.15396\tvalidation_1-rmse:2318.73295\n",
      "[247]\tvalidation_0-rmse:20.51823\tvalidation_1-rmse:4.52734\n",
      "[0]\tvalidation_0-rmse:679.80526\tvalidation_1-rmse:2342.48757\n",
      "[443]\tvalidation_0-rmse:18.47331\tvalidation_1-rmse:24.11963\n",
      "[0]\tvalidation_0-rmse:680.46804\tvalidation_1-rmse:2355.76315\n",
      "[276]\tvalidation_0-rmse:20.29677\tvalidation_1-rmse:38.93066\n",
      "[0]\tvalidation_0-rmse:681.13935\tvalidation_1-rmse:2364.75274\n",
      "[139]\tvalidation_0-rmse:22.05778\tvalidation_1-rmse:100.77734\n",
      "[0]\tvalidation_0-rmse:681.80780\tvalidation_1-rmse:2365.05317\n",
      "[287]\tvalidation_0-rmse:20.07894\tvalidation_1-rmse:54.86182\n",
      "[0]\tvalidation_0-rmse:682.48104\tvalidation_1-rmse:2369.81539\n",
      "[347]\tvalidation_0-rmse:19.51194\tvalidation_1-rmse:48.26855\n",
      "[0]\tvalidation_0-rmse:683.16096\tvalidation_1-rmse:2391.36331\n",
      "[257]\tvalidation_0-rmse:20.37876\tvalidation_1-rmse:70.63037\n",
      "[0]\tvalidation_0-rmse:683.81676\tvalidation_1-rmse:2417.70118\n",
      "[253]\tvalidation_0-rmse:20.38580\tvalidation_1-rmse:91.76611\n",
      "[0]\tvalidation_0-rmse:684.52583\tvalidation_1-rmse:2407.98391\n",
      "[170]\tvalidation_0-rmse:21.26736\tvalidation_1-rmse:85.67725\n",
      "[0]\tvalidation_0-rmse:685.22702\tvalidation_1-rmse:2421.65233\n",
      "[120]\tvalidation_0-rmse:21.72283\tvalidation_1-rmse:124.95947\n",
      "[0]\tvalidation_0-rmse:685.93833\tvalidation_1-rmse:2383.43649\n",
      "[161]\tvalidation_0-rmse:21.49454\tvalidation_1-rmse:60.59277\n",
      "[0]\tvalidation_0-rmse:686.62019\tvalidation_1-rmse:2431.29585\n",
      "[232]\tvalidation_0-rmse:20.46663\tvalidation_1-rmse:102.43017\n",
      "[0]\tvalidation_0-rmse:687.33596\tvalidation_1-rmse:2450.38303\n",
      "[259]\tvalidation_0-rmse:20.20087\tvalidation_1-rmse:96.32617\n",
      "[0]\tvalidation_0-rmse:688.04896\tvalidation_1-rmse:2433.67459\n",
      "[968]\tvalidation_0-rmse:15.91865\tvalidation_1-rmse:32.84473\n",
      "[0]\tvalidation_0-rmse:688.75596\tvalidation_1-rmse:2437.81542\n",
      "[198]\tvalidation_0-rmse:21.21627\tvalidation_1-rmse:63.39453\n",
      "[0]\tvalidation_0-rmse:689.46923\tvalidation_1-rmse:2422.85152\n",
      "[167]\tvalidation_0-rmse:21.73107\tvalidation_1-rmse:71.00635\n",
      "[0]\tvalidation_0-rmse:690.16969\tvalidation_1-rmse:2389.06687\n",
      "[172]\tvalidation_0-rmse:21.48776\tvalidation_1-rmse:32.35059\n",
      "[0]\tvalidation_0-rmse:690.85080\tvalidation_1-rmse:2319.50393\n",
      "[94]\tvalidation_0-rmse:23.03727\tvalidation_1-rmse:41.11377\n",
      "[0]\tvalidation_0-rmse:691.52419\tvalidation_1-rmse:2383.24852\n",
      "[118]\tvalidation_0-rmse:22.36682\tvalidation_1-rmse:60.15185\n",
      "[0]\tvalidation_0-rmse:692.19712\tvalidation_1-rmse:2417.98387\n",
      "[571]\tvalidation_0-rmse:18.11464\tvalidation_1-rmse:40.73828\n",
      "[0]\tvalidation_0-rmse:692.89363\tvalidation_1-rmse:2425.88087\n",
      "[277]\tvalidation_0-rmse:20.40410\tvalidation_1-rmse:59.23828\n",
      "[0]\tvalidation_0-rmse:693.59520\tvalidation_1-rmse:2469.31590\n",
      "[413]\tvalidation_0-rmse:19.15391\tvalidation_1-rmse:50.88037\n",
      "[0]\tvalidation_0-rmse:694.32077\tvalidation_1-rmse:2478.88866\n",
      "[410]\tvalidation_0-rmse:19.19603\tvalidation_1-rmse:104.28711\n",
      "[0]\tvalidation_0-rmse:695.05005\tvalidation_1-rmse:2457.11691\n",
      "[154]\tvalidation_0-rmse:21.85054\tvalidation_1-rmse:61.49365\n",
      "[0]\tvalidation_0-rmse:695.76539\tvalidation_1-rmse:2455.37064\n",
      "[208]\tvalidation_0-rmse:21.24945\tvalidation_1-rmse:50.26465\n",
      "[0]\tvalidation_0-rmse:696.47686\tvalidation_1-rmse:2472.94046\n",
      "[491]\tvalidation_0-rmse:18.73815\tvalidation_1-rmse:48.82226\n",
      "[0]\tvalidation_0-rmse:697.19567\tvalidation_1-rmse:2448.10866\n",
      "[119]\tvalidation_0-rmse:22.32828\tvalidation_1-rmse:54.68213\n",
      "[0]\tvalidation_0-rmse:697.90519\tvalidation_1-rmse:2439.11910\n",
      "[127]\tvalidation_0-rmse:22.18362\tvalidation_1-rmse:44.30273\n",
      "[0]\tvalidation_0-rmse:698.60903\tvalidation_1-rmse:2474.22170\n",
      "[338]\tvalidation_0-rmse:19.54015\tvalidation_1-rmse:64.81397\n",
      "[0]\tvalidation_0-rmse:699.32347\tvalidation_1-rmse:2453.04179\n",
      "[136]\tvalidation_0-rmse:21.91944\tvalidation_1-rmse:44.52393\n",
      "[0]\tvalidation_0-rmse:700.03225\tvalidation_1-rmse:2478.59083\n",
      "[640]\tvalidation_0-rmse:17.49698\tvalidation_1-rmse:19.57080\n",
      "[0]\tvalidation_0-rmse:700.75532\tvalidation_1-rmse:2485.09084\n",
      "[253]\tvalidation_0-rmse:20.41863\tvalidation_1-rmse:53.31934\n",
      "[0]\tvalidation_0-rmse:701.48248\tvalidation_1-rmse:2480.01925\n",
      "[575]\tvalidation_0-rmse:17.74438\tvalidation_1-rmse:16.99316\n",
      "[0]\tvalidation_0-rmse:702.39993\tvalidation_1-rmse:2478.90823\n",
      "[411]\tvalidation_0-rmse:18.73549\tvalidation_1-rmse:19.80078\n",
      "[0]\tvalidation_0-rmse:703.12397\tvalidation_1-rmse:2483.64702\n",
      "[127]\tvalidation_0-rmse:21.81845\tvalidation_1-rmse:69.21680\n",
      "[0]\tvalidation_0-rmse:703.84987\tvalidation_1-rmse:2501.15503\n",
      "[336]\tvalidation_0-rmse:19.51432\tvalidation_1-rmse:36.36719\n",
      "[0]\tvalidation_0-rmse:704.58715\tvalidation_1-rmse:2507.43484\n",
      "[490]\tvalidation_0-rmse:18.46706\tvalidation_1-rmse:32.74609\n",
      "[0]\tvalidation_0-rmse:705.32694\tvalidation_1-rmse:2518.22904\n",
      "[311]\tvalidation_0-rmse:20.03709\tvalidation_1-rmse:37.32080\n",
      "[0]\tvalidation_0-rmse:706.07159\tvalidation_1-rmse:2485.70845\n",
      "[282]\tvalidation_0-rmse:20.23311\tvalidation_1-rmse:1.69775\n",
      "[0]\tvalidation_0-rmse:706.79832\tvalidation_1-rmse:2437.03324\n",
      "[111]\tvalidation_0-rmse:22.59124\tvalidation_1-rmse:13.61621\n",
      "[0]\tvalidation_0-rmse:707.48749\tvalidation_1-rmse:2441.72808\n",
      "[106]\tvalidation_0-rmse:22.72911\tvalidation_1-rmse:16.17676\n",
      "[0]\tvalidation_0-rmse:708.18464\tvalidation_1-rmse:2476.74898\n",
      "[145]\tvalidation_0-rmse:21.99647\tvalidation_1-rmse:41.07080\n",
      "[0]\tvalidation_0-rmse:708.90145\tvalidation_1-rmse:2513.71190\n",
      "[285]\tvalidation_0-rmse:20.16523\tvalidation_1-rmse:45.60449\n",
      "[0]\tvalidation_0-rmse:709.63674\tvalidation_1-rmse:2519.50442\n",
      "[459]\tvalidation_0-rmse:18.60684\tvalidation_1-rmse:21.50732\n",
      "[0]\tvalidation_0-rmse:710.38025\tvalidation_1-rmse:2528.56639\n",
      "[218]\tvalidation_0-rmse:21.05442\tvalidation_1-rmse:84.56494\n",
      "[0]\tvalidation_0-rmse:711.12352\tvalidation_1-rmse:2501.43509\n",
      "[324]\tvalidation_0-rmse:19.81484\tvalidation_1-rmse:10.70654\n",
      "[0]\tvalidation_0-rmse:711.85203\tvalidation_1-rmse:2539.90334\n",
      "[447]\tvalidation_0-rmse:18.79112\tvalidation_1-rmse:50.16260\n",
      "[0]\tvalidation_0-rmse:712.58306\tvalidation_1-rmse:2562.92870\n",
      "[397]\tvalidation_0-rmse:19.21669\tvalidation_1-rmse:61.07861\n",
      "[0]\tvalidation_0-rmse:713.33836\tvalidation_1-rmse:2555.86668\n",
      "[212]\tvalidation_0-rmse:21.00279\tvalidation_1-rmse:63.94971\n",
      "[0]\tvalidation_0-rmse:714.09331\tvalidation_1-rmse:2556.33693\n",
      "[246]\tvalidation_0-rmse:20.57254\tvalidation_1-rmse:88.41308\n",
      "[0]\tvalidation_0-rmse:714.81782\tvalidation_1-rmse:2568.27559\n",
      "[248]\tvalidation_0-rmse:20.63229\tvalidation_1-rmse:87.94092\n",
      "[0]\tvalidation_0-rmse:715.57602\tvalidation_1-rmse:2565.81956\n",
      "[140]\tvalidation_0-rmse:21.89638\tvalidation_1-rmse:88.73828\n",
      "[0]\tvalidation_0-rmse:716.33544\tvalidation_1-rmse:2549.48730\n",
      "[379]\tvalidation_0-rmse:19.29535\tvalidation_1-rmse:29.81445\n",
      "[0]\tvalidation_0-rmse:717.08130\tvalidation_1-rmse:2542.62138\n",
      "[130]\tvalidation_0-rmse:21.95647\tvalidation_1-rmse:60.29590\n",
      "[0]\tvalidation_0-rmse:717.82385\tvalidation_1-rmse:2520.89746\n",
      "[139]\tvalidation_0-rmse:21.83679\tvalidation_1-rmse:30.22363\n",
      "[0]\tvalidation_0-rmse:718.55067\tvalidation_1-rmse:2485.29495\n",
      "[109]\tvalidation_0-rmse:22.26711\tvalidation_1-rmse:14.00146\n",
      "[0]\tvalidation_0-rmse:719.36489\tvalidation_1-rmse:2490.12309\n",
      "[120]\tvalidation_0-rmse:22.11046\tvalidation_1-rmse:7.28418\n",
      "[0]\tvalidation_0-rmse:720.02759\tvalidation_1-rmse:2463.62355\n",
      "[98]\tvalidation_0-rmse:22.45163\tvalidation_1-rmse:24.29443\n",
      "[0]\tvalidation_0-rmse:720.72035\tvalidation_1-rmse:2500.44966\n",
      "[139]\tvalidation_0-rmse:22.18241\tvalidation_1-rmse:8.16553\n",
      "[0]\tvalidation_0-rmse:721.43596\tvalidation_1-rmse:2492.60837\n",
      "[197]\tvalidation_0-rmse:21.48419\tvalidation_1-rmse:5.72656\n",
      "[0]\tvalidation_0-rmse:722.14299\tvalidation_1-rmse:2450.97705\n",
      "[95]\tvalidation_0-rmse:22.96888\tvalidation_1-rmse:44.21875\n",
      "[0]\tvalidation_0-rmse:722.83015\tvalidation_1-rmse:2374.88673\n",
      "[83]\tvalidation_0-rmse:23.14535\tvalidation_1-rmse:70.70605\n",
      "[0]\tvalidation_0-rmse:723.47133\tvalidation_1-rmse:2370.61131\n",
      "[83]\tvalidation_0-rmse:23.21889\tvalidation_1-rmse:100.21436\n",
      "[0]\tvalidation_0-rmse:724.11442\tvalidation_1-rmse:2411.27446\n",
      "[90]\tvalidation_0-rmse:22.99436\tvalidation_1-rmse:55.90137\n",
      "[0]\tvalidation_0-rmse:724.77669\tvalidation_1-rmse:2463.85694\n",
      "[176]\tvalidation_0-rmse:21.76986\tvalidation_1-rmse:53.33154\n",
      "[0]\tvalidation_0-rmse:725.45590\tvalidation_1-rmse:2469.45804\n",
      "[128]\tvalidation_0-rmse:22.32326\tvalidation_1-rmse:27.70996\n",
      "[0]\tvalidation_0-rmse:726.15291\tvalidation_1-rmse:2456.29691\n",
      "[121]\tvalidation_0-rmse:22.69021\tvalidation_1-rmse:10.61279\n",
      "[0]\tvalidation_0-rmse:726.87916\tvalidation_1-rmse:2360.08252\n",
      "[83]\tvalidation_0-rmse:23.32167\tvalidation_1-rmse:100.72510\n",
      "[0]\tvalidation_0-rmse:727.50861\tvalidation_1-rmse:2366.12426\n",
      "[86]\tvalidation_0-rmse:23.19476\tvalidation_1-rmse:51.84570\n",
      "[0]\tvalidation_0-rmse:728.14024\tvalidation_1-rmse:2313.47563\n",
      "[81]\tvalidation_0-rmse:23.19559\tvalidation_1-rmse:90.45117\n",
      "[0]\tvalidation_0-rmse:728.74906\tvalidation_1-rmse:2362.29253\n",
      "[124]\tvalidation_0-rmse:22.42565\tvalidation_1-rmse:7.18311\n",
      "[0]\tvalidation_0-rmse:729.37660\tvalidation_1-rmse:2304.97364\n",
      "[85]\tvalidation_0-rmse:23.04630\tvalidation_1-rmse:65.09131\n",
      "[0]\tvalidation_0-rmse:729.93502\tvalidation_1-rmse:2354.64254\n",
      "[101]\tvalidation_0-rmse:22.55945\tvalidation_1-rmse:5.31836\n",
      "[0]\tvalidation_0-rmse:730.55597\tvalidation_1-rmse:2371.79784\n",
      "[156]\tvalidation_0-rmse:21.63392\tvalidation_1-rmse:5.05420\n",
      "[0]\tvalidation_0-rmse:731.19399\tvalidation_1-rmse:2407.29880\n",
      "[298]\tvalidation_0-rmse:20.39994\tvalidation_1-rmse:30.48633\n",
      "[0]\tvalidation_0-rmse:731.84505\tvalidation_1-rmse:2398.11812\n",
      "[165]\tvalidation_0-rmse:21.59240\tvalidation_1-rmse:17.83740\n",
      "[0]\tvalidation_0-rmse:732.49030\tvalidation_1-rmse:2367.21873\n",
      "[97]\tvalidation_0-rmse:22.53761\tvalidation_1-rmse:32.05029\n",
      "[0]\tvalidation_0-rmse:733.11816\tvalidation_1-rmse:2355.96265\n",
      "[93]\tvalidation_0-rmse:22.71092\tvalidation_1-rmse:34.03955\n",
      "[0]\tvalidation_0-rmse:733.73868\tvalidation_1-rmse:2368.39598\n",
      "[102]\tvalidation_0-rmse:22.42680\tvalidation_1-rmse:19.38037\n",
      "[0]\tvalidation_0-rmse:734.40711\tvalidation_1-rmse:2442.10350\n",
      "[171]\tvalidation_0-rmse:21.41365\tvalidation_1-rmse:57.85889\n",
      "[0]\tvalidation_0-rmse:735.06116\tvalidation_1-rmse:2474.43701\n",
      "[205]\tvalidation_0-rmse:21.14195\tvalidation_1-rmse:74.52637\n",
      "[0]\tvalidation_0-rmse:735.74280\tvalidation_1-rmse:2488.69454\n",
      "[162]\tvalidation_0-rmse:21.84020\tvalidation_1-rmse:70.95166\n",
      "[0]\tvalidation_0-rmse:736.43501\tvalidation_1-rmse:2521.03391\n",
      "[332]\tvalidation_0-rmse:20.07040\tvalidation_1-rmse:81.67920\n",
      "[0]\tvalidation_0-rmse:737.14434\tvalidation_1-rmse:2536.77610\n",
      "[228]\tvalidation_0-rmse:21.32119\tvalidation_1-rmse:61.82568\n",
      "[0]\tvalidation_0-rmse:737.86120\tvalidation_1-rmse:2549.49220\n",
      "[238]\tvalidation_0-rmse:21.01185\tvalidation_1-rmse:64.48633\n",
      "[0]\tvalidation_0-rmse:738.58272\tvalidation_1-rmse:2543.76856\n",
      "[184]\tvalidation_0-rmse:21.72566\tvalidation_1-rmse:65.73291\n",
      "[0]\tvalidation_0-rmse:739.30019\tvalidation_1-rmse:2564.48435\n",
      "[537]\tvalidation_0-rmse:18.42797\tvalidation_1-rmse:42.06299\n",
      "[0]\tvalidation_0-rmse:740.03399\tvalidation_1-rmse:2571.90134\n",
      "[271]\tvalidation_0-rmse:20.71157\tvalidation_1-rmse:75.68262\n",
      "[0]\tvalidation_0-rmse:740.80962\tvalidation_1-rmse:2547.90895\n",
      "[461]\tvalidation_0-rmse:19.24456\tvalidation_1-rmse:1.97803\n",
      "[0]\tvalidation_0-rmse:741.52637\tvalidation_1-rmse:2591.77883\n",
      "[439]\tvalidation_0-rmse:19.30649\tvalidation_1-rmse:57.97607\n",
      "[0]\tvalidation_0-rmse:742.26426\tvalidation_1-rmse:2599.80490\n",
      "[130]\tvalidation_0-rmse:22.74833\tvalidation_1-rmse:112.64844\n",
      "[0]\tvalidation_0-rmse:743.00930\tvalidation_1-rmse:2607.21048\n",
      "[211]\tvalidation_0-rmse:21.50958\tvalidation_1-rmse:58.80273\n",
      "[0]\tvalidation_0-rmse:743.75780\tvalidation_1-rmse:2623.29640\n",
      "[139]\tvalidation_0-rmse:22.33052\tvalidation_1-rmse:118.78516\n",
      "[0]\tvalidation_0-rmse:744.51921\tvalidation_1-rmse:2652.30079\n",
      "[750]\tvalidation_0-rmse:17.38123\tvalidation_1-rmse:61.11621\n",
      "[0]\tvalidation_0-rmse:745.28702\tvalidation_1-rmse:2670.86035\n",
      "[408]\tvalidation_0-rmse:19.54412\tvalidation_1-rmse:72.43213\n",
      "[0]\tvalidation_0-rmse:746.07156\tvalidation_1-rmse:2687.41428\n",
      "[370]\tvalidation_0-rmse:19.76247\tvalidation_1-rmse:79.09668\n",
      "[0]\tvalidation_0-rmse:746.86524\tvalidation_1-rmse:2690.69285\n",
      "[999]\tvalidation_0-rmse:16.53059\tvalidation_1-rmse:31.56396\n",
      "[0]\tvalidation_0-rmse:747.64869\tvalidation_1-rmse:2673.34519\n",
      "[278]\tvalidation_0-rmse:20.84618\tvalidation_1-rmse:52.29248\n",
      "[0]\tvalidation_0-rmse:748.44284\tvalidation_1-rmse:2633.92530\n",
      "[132]\tvalidation_0-rmse:22.40021\tvalidation_1-rmse:60.74902\n",
      "[0]\tvalidation_0-rmse:749.20346\tvalidation_1-rmse:2635.64869\n",
      "[617]\tvalidation_0-rmse:17.93586\tvalidation_1-rmse:14.50732\n",
      "[0]\tvalidation_0-rmse:749.96610\tvalidation_1-rmse:2668.41114\n",
      "[243]\tvalidation_0-rmse:21.01935\tvalidation_1-rmse:61.19775\n",
      "[0]\tvalidation_0-rmse:750.73588\tvalidation_1-rmse:2667.51485\n",
      "[225]\tvalidation_0-rmse:21.04360\tvalidation_1-rmse:58.46094\n",
      "[0]\tvalidation_0-rmse:751.51735\tvalidation_1-rmse:2684.77830\n",
      "[445]\tvalidation_0-rmse:19.04921\tvalidation_1-rmse:23.86475\n",
      "[0]\tvalidation_0-rmse:752.29919\tvalidation_1-rmse:2671.68608\n",
      "[342]\tvalidation_0-rmse:19.88095\tvalidation_1-rmse:29.14404\n",
      "[0]\tvalidation_0-rmse:753.08204\tvalidation_1-rmse:2686.73389\n",
      "[303]\tvalidation_0-rmse:20.29841\tvalidation_1-rmse:40.70215\n",
      "[0]\tvalidation_0-rmse:753.86744\tvalidation_1-rmse:2679.28274\n",
      "[266]\tvalidation_0-rmse:20.65704\tvalidation_1-rmse:30.39307\n",
      "[0]\tvalidation_0-rmse:754.64675\tvalidation_1-rmse:2663.55758\n",
      "[448]\tvalidation_0-rmse:19.12960\tvalidation_1-rmse:4.52979\n",
      "[0]\tvalidation_0-rmse:755.42161\tvalidation_1-rmse:2674.41208\n",
      "[436]\tvalidation_0-rmse:19.24529\tvalidation_1-rmse:7.83740\n",
      "[0]\tvalidation_0-rmse:756.19262\tvalidation_1-rmse:2684.25465\n",
      "[361]\tvalidation_0-rmse:19.65218\tvalidation_1-rmse:22.99316\n",
      "[0]\tvalidation_0-rmse:756.97255\tvalidation_1-rmse:2576.47996\n",
      "[91]\tvalidation_0-rmse:23.35010\tvalidation_1-rmse:80.08985\n",
      "[0]\tvalidation_0-rmse:757.68506\tvalidation_1-rmse:2636.28906\n",
      "[129]\tvalidation_0-rmse:22.75283\tvalidation_1-rmse:8.52588\n",
      "[0]\tvalidation_0-rmse:758.43400\tvalidation_1-rmse:2547.12819\n",
      "[88]\tvalidation_0-rmse:23.48161\tvalidation_1-rmse:92.24317\n",
      "[0]\tvalidation_0-rmse:759.12434\tvalidation_1-rmse:2492.31880\n",
      "[82]\tvalidation_0-rmse:23.52231\tvalidation_1-rmse:94.78515\n",
      "[0]\tvalidation_0-rmse:759.79098\tvalidation_1-rmse:2555.61861\n",
      "[89]\tvalidation_0-rmse:23.72765\tvalidation_1-rmse:47.08936\n",
      "[0]\tvalidation_0-rmse:760.48919\tvalidation_1-rmse:2516.13940\n",
      "[109]\tvalidation_0-rmse:23.09133\tvalidation_1-rmse:52.67090\n",
      "[0]\tvalidation_0-rmse:761.16552\tvalidation_1-rmse:2568.59135\n",
      "[106]\tvalidation_0-rmse:23.08450\tvalidation_1-rmse:96.51953\n",
      "[0]\tvalidation_0-rmse:761.90735\tvalidation_1-rmse:2662.85251\n",
      "[119]\tvalidation_0-rmse:22.77154\tvalidation_1-rmse:199.93310\n",
      "[0]\tvalidation_0-rmse:762.62857\tvalidation_1-rmse:2676.45073\n",
      "[371]\tvalidation_0-rmse:20.13300\tvalidation_1-rmse:29.73633\n",
      "[0]\tvalidation_0-rmse:763.42709\tvalidation_1-rmse:2641.85210\n",
      "[132]\tvalidation_0-rmse:22.63151\tvalidation_1-rmse:8.32715\n",
      "[0]\tvalidation_0-rmse:764.17266\tvalidation_1-rmse:2685.60570\n",
      "[223]\tvalidation_0-rmse:21.68138\tvalidation_1-rmse:47.03076\n",
      "[0]\tvalidation_0-rmse:764.90040\tvalidation_1-rmse:2641.71043\n",
      "[122]\tvalidation_0-rmse:22.77914\tvalidation_1-rmse:1.49756\n",
      "[0]\tvalidation_0-rmse:765.64210\tvalidation_1-rmse:2606.02638\n",
      "[99]\tvalidation_0-rmse:23.15122\tvalidation_1-rmse:40.74951\n",
      "[0]\tvalidation_0-rmse:766.36841\tvalidation_1-rmse:2681.02732\n",
      "[147]\tvalidation_0-rmse:22.33145\tvalidation_1-rmse:37.66846\n",
      "[0]\tvalidation_0-rmse:767.13273\tvalidation_1-rmse:2639.03145\n",
      "[131]\tvalidation_0-rmse:22.53263\tvalidation_1-rmse:19.01465\n",
      "[0]\tvalidation_0-rmse:767.87828\tvalidation_1-rmse:2590.22412\n",
      "[99]\tvalidation_0-rmse:23.08314\tvalidation_1-rmse:21.62988\n",
      "[0]\tvalidation_0-rmse:768.58388\tvalidation_1-rmse:2537.00296\n",
      "[86]\tvalidation_0-rmse:23.46267\tvalidation_1-rmse:59.45264\n",
      "[0]\tvalidation_0-rmse:769.26305\tvalidation_1-rmse:2617.50196\n",
      "[280]\tvalidation_0-rmse:20.59130\tvalidation_1-rmse:9.47461\n",
      "[0]\tvalidation_0-rmse:769.98968\tvalidation_1-rmse:2664.08793\n",
      "[203]\tvalidation_0-rmse:21.52597\tvalidation_1-rmse:53.63965\n",
      "[0]\tvalidation_0-rmse:770.74088\tvalidation_1-rmse:2692.50757\n",
      "[180]\tvalidation_0-rmse:21.66375\tvalidation_1-rmse:76.02197\n",
      "[0]\tvalidation_0-rmse:771.50606\tvalidation_1-rmse:2757.08297\n",
      "[179]\tvalidation_0-rmse:21.83542\tvalidation_1-rmse:95.21728\n",
      "[0]\tvalidation_0-rmse:772.31364\tvalidation_1-rmse:2751.39083\n",
      "[848]\tvalidation_0-rmse:17.00960\tvalidation_1-rmse:30.34326\n",
      "[0]\tvalidation_0-rmse:773.11036\tvalidation_1-rmse:2757.24999\n",
      "[255]\tvalidation_0-rmse:21.01485\tvalidation_1-rmse:50.40772\n",
      "[0]\tvalidation_0-rmse:773.91498\tvalidation_1-rmse:2745.69773\n",
      "[302]\tvalidation_0-rmse:20.51616\tvalidation_1-rmse:12.23047\n",
      "[0]\tvalidation_0-rmse:774.70396\tvalidation_1-rmse:2732.22437\n",
      "[250]\tvalidation_0-rmse:21.22142\tvalidation_1-rmse:13.28271\n",
      "[0]\tvalidation_0-rmse:775.48073\tvalidation_1-rmse:2761.66843\n",
      "[236]\tvalidation_0-rmse:21.29349\tvalidation_1-rmse:27.09668\n",
      "[0]\tvalidation_0-rmse:776.26940\tvalidation_1-rmse:2757.73557\n",
      "[224]\tvalidation_0-rmse:21.35524\tvalidation_1-rmse:92.77588\n",
      "[0]\tvalidation_0-rmse:777.06341\tvalidation_1-rmse:2663.86327\n",
      "[182]\tvalidation_0-rmse:21.99704\tvalidation_1-rmse:10.92920\n",
      "[0]\tvalidation_0-rmse:777.81025\tvalidation_1-rmse:2658.47701\n",
      "[118]\tvalidation_0-rmse:22.86605\tvalidation_1-rmse:38.62695\n",
      "[0]\tvalidation_0-rmse:778.54111\tvalidation_1-rmse:2638.61185\n",
      "[101]\tvalidation_0-rmse:23.05276\tvalidation_1-rmse:12.32959\n",
      "[0]\tvalidation_0-rmse:779.26249\tvalidation_1-rmse:2631.25683\n",
      "[101]\tvalidation_0-rmse:23.17227\tvalidation_1-rmse:33.39746\n",
      "[0]\tvalidation_0-rmse:779.97414\tvalidation_1-rmse:2673.23465\n",
      "[385]\tvalidation_0-rmse:20.01650\tvalidation_1-rmse:18.38916\n",
      "[0]\tvalidation_0-rmse:780.72160\tvalidation_1-rmse:2685.71387\n",
      "[140]\tvalidation_0-rmse:22.56978\tvalidation_1-rmse:35.89746\n",
      "[0]\tvalidation_0-rmse:781.46948\tvalidation_1-rmse:2617.58152\n",
      "[93]\tvalidation_0-rmse:23.50620\tvalidation_1-rmse:41.28809\n",
      "[0]\tvalidation_0-rmse:782.17684\tvalidation_1-rmse:2620.63866\n",
      "[99]\tvalidation_0-rmse:23.25785\tvalidation_1-rmse:31.88867\n",
      "[0]\tvalidation_0-rmse:782.88716\tvalidation_1-rmse:2534.14108\n",
      "[83]\tvalidation_0-rmse:23.62514\tvalidation_1-rmse:101.45361\n",
      "[0]\tvalidation_0-rmse:783.54943\tvalidation_1-rmse:2489.10787\n",
      "[79]\tvalidation_0-rmse:23.66470\tvalidation_1-rmse:139.51807\n",
      "[0]\tvalidation_0-rmse:784.18999\tvalidation_1-rmse:2438.42408\n",
      "[79]\tvalidation_0-rmse:23.67471\tvalidation_1-rmse:123.13477\n",
      "[0]\tvalidation_0-rmse:784.80099\tvalidation_1-rmse:2353.02072\n",
      "[74]\tvalidation_0-rmse:24.00316\tvalidation_1-rmse:187.82617\n",
      "[0]\tvalidation_0-rmse:785.37547\tvalidation_1-rmse:2364.64575\n",
      "[81]\tvalidation_0-rmse:23.93175\tvalidation_1-rmse:70.09228\n",
      "[0]\tvalidation_0-rmse:785.94521\tvalidation_1-rmse:2310.41652\n",
      "[82]\tvalidation_0-rmse:23.66091\tvalidation_1-rmse:25.68408\n",
      "[0]\tvalidation_0-rmse:786.49608\tvalidation_1-rmse:2303.35494\n",
      "[83]\tvalidation_0-rmse:23.84099\tvalidation_1-rmse:74.58154\n",
      "[0]\tvalidation_0-rmse:787.03941\tvalidation_1-rmse:2279.40431\n",
      "[81]\tvalidation_0-rmse:23.83344\tvalidation_1-rmse:60.47510\n",
      "[0]\tvalidation_0-rmse:787.57627\tvalidation_1-rmse:2384.24778\n",
      "[117]\tvalidation_0-rmse:22.90055\tvalidation_1-rmse:80.85889\n",
      "[0]\tvalidation_0-rmse:788.15788\tvalidation_1-rmse:2467.37816\n",
      "[133]\tvalidation_0-rmse:22.96887\tvalidation_1-rmse:153.25879\n",
      "[0]\tvalidation_0-rmse:788.78624\tvalidation_1-rmse:2497.75639\n",
      "[130]\tvalidation_0-rmse:23.08671\tvalidation_1-rmse:107.14697\n",
      "[0]\tvalidation_0-rmse:789.42868\tvalidation_1-rmse:2539.96968\n",
      "[206]\tvalidation_0-rmse:21.94783\tvalidation_1-rmse:69.60498\n",
      "[0]\tvalidation_0-rmse:790.08838\tvalidation_1-rmse:2427.35350\n",
      "[81]\tvalidation_0-rmse:24.11553\tvalidation_1-rmse:127.77539\n",
      "[0]\tvalidation_0-rmse:790.65996\tvalidation_1-rmse:2453.21534\n",
      "[85]\tvalidation_0-rmse:24.08338\tvalidation_1-rmse:70.27002\n",
      "[0]\tvalidation_0-rmse:791.24090\tvalidation_1-rmse:2435.87407\n",
      "[103]\tvalidation_0-rmse:23.86073\tvalidation_1-rmse:21.25293\n",
      "[0]\tvalidation_0-rmse:791.86832\tvalidation_1-rmse:2472.87161\n",
      "[262]\tvalidation_0-rmse:21.43773\tvalidation_1-rmse:22.58936\n",
      "[0]\tvalidation_0-rmse:792.48577\tvalidation_1-rmse:2537.81028\n",
      "[190]\tvalidation_0-rmse:22.14975\tvalidation_1-rmse:91.45312\n",
      "[0]\tvalidation_0-rmse:793.13611\tvalidation_1-rmse:2453.97484\n",
      "[125]\tvalidation_0-rmse:23.28197\tvalidation_1-rmse:9.57715\n",
      "[0]\tvalidation_0-rmse:793.74494\tvalidation_1-rmse:2367.87257\n",
      "[78]\tvalidation_0-rmse:24.29807\tvalidation_1-rmse:133.79493\n",
      "[0]\tvalidation_0-rmse:794.30547\tvalidation_1-rmse:2350.31955\n",
      "[81]\tvalidation_0-rmse:24.28245\tvalidation_1-rmse:82.44971\n",
      "[0]\tvalidation_0-rmse:794.86783\tvalidation_1-rmse:2419.14572\n",
      "[117]\tvalidation_0-rmse:23.45515\tvalidation_1-rmse:33.68897\n",
      "[0]\tvalidation_0-rmse:795.42993\tvalidation_1-rmse:2422.47167\n",
      "[116]\tvalidation_0-rmse:23.52661\tvalidation_1-rmse:32.75439\n",
      "[0]\tvalidation_0-rmse:796.02076\tvalidation_1-rmse:2327.11323\n",
      "[84]\tvalidation_0-rmse:24.04120\tvalidation_1-rmse:64.74121\n",
      "[0]\tvalidation_0-rmse:796.56228\tvalidation_1-rmse:2295.18845\n",
      "[80]\tvalidation_0-rmse:24.25555\tvalidation_1-rmse:91.86817\n",
      "[0]\tvalidation_0-rmse:797.09269\tvalidation_1-rmse:2250.56226\n",
      "[78]\tvalidation_0-rmse:24.44377\tvalidation_1-rmse:108.33545\n",
      "[0]\tvalidation_0-rmse:797.59984\tvalidation_1-rmse:2170.82035\n",
      "[74]\tvalidation_0-rmse:24.36530\tvalidation_1-rmse:174.89502\n",
      "[0]\tvalidation_0-rmse:798.07221\tvalidation_1-rmse:2233.57964\n",
      "[84]\tvalidation_0-rmse:24.17099\tvalidation_1-rmse:54.91309\n",
      "[0]\tvalidation_0-rmse:798.57581\tvalidation_1-rmse:2329.07031\n",
      "[101]\tvalidation_0-rmse:23.98251\tvalidation_1-rmse:76.23926\n",
      "[0]\tvalidation_0-rmse:799.11405\tvalidation_1-rmse:2317.81740\n",
      "[179]\tvalidation_0-rmse:22.60250\tvalidation_1-rmse:19.22900\n",
      "[0]\tvalidation_0-rmse:799.65184\tvalidation_1-rmse:2249.60641\n",
      "[81]\tvalidation_0-rmse:24.30068\tvalidation_1-rmse:62.55469\n",
      "[0]\tvalidation_0-rmse:800.16143\tvalidation_1-rmse:2329.41409\n",
      "[159]\tvalidation_0-rmse:22.74256\tvalidation_1-rmse:37.61719\n",
      "[0]\tvalidation_0-rmse:800.70297\tvalidation_1-rmse:2305.84030\n",
      "[205]\tvalidation_0-rmse:22.10290\tvalidation_1-rmse:12.26611\n",
      "[0]\tvalidation_0-rmse:801.22648\tvalidation_1-rmse:2270.83322\n",
      "[93]\tvalidation_0-rmse:23.96072\tvalidation_1-rmse:28.85889\n",
      "[0]\tvalidation_0-rmse:801.74154\tvalidation_1-rmse:2142.57742\n",
      "[75]\tvalidation_0-rmse:24.57466\tvalidation_1-rmse:147.63476\n",
      "[0]\tvalidation_0-rmse:802.21221\tvalidation_1-rmse:2111.79639\n",
      "[76]\tvalidation_0-rmse:24.60132\tvalidation_1-rmse:118.08545\n",
      "[0]\tvalidation_0-rmse:802.64649\tvalidation_1-rmse:2218.58446\n",
      "[99]\tvalidation_0-rmse:23.92456\tvalidation_1-rmse:93.80029\n",
      "[0]\tvalidation_0-rmse:803.13735\tvalidation_1-rmse:2199.77567\n",
      "[108]\tvalidation_0-rmse:23.72864\tvalidation_1-rmse:55.73144\n",
      "[0]\tvalidation_0-rmse:803.55876\tvalidation_1-rmse:2146.86236\n",
      "[84]\tvalidation_0-rmse:24.39620\tvalidation_1-rmse:48.96728\n",
      "[0]\tvalidation_0-rmse:804.00997\tvalidation_1-rmse:2115.17044\n",
      "[84]\tvalidation_0-rmse:24.42015\tvalidation_1-rmse:57.29541\n",
      "[0]\tvalidation_0-rmse:804.45271\tvalidation_1-rmse:2204.22140\n",
      "[167]\tvalidation_0-rmse:22.78784\tvalidation_1-rmse:48.43408\n",
      "[0]\tvalidation_0-rmse:804.92717\tvalidation_1-rmse:2299.11276\n",
      "[323]\tvalidation_0-rmse:20.91518\tvalidation_1-rmse:109.18799\n",
      "[0]\tvalidation_0-rmse:805.44828\tvalidation_1-rmse:2352.36912\n",
      "[384]\tvalidation_0-rmse:20.50118\tvalidation_1-rmse:142.93164\n",
      "[0]\tvalidation_0-rmse:806.01448\tvalidation_1-rmse:2403.25883\n",
      "[252]\tvalidation_0-rmse:22.36113\tvalidation_1-rmse:143.21631\n",
      "[0]\tvalidation_0-rmse:806.58316\tvalidation_1-rmse:2400.72749\n",
      "[104]\tvalidation_0-rmse:24.26471\tvalidation_1-rmse:112.17871\n",
      "[0]\tvalidation_0-rmse:807.15242\tvalidation_1-rmse:2450.56932\n",
      "[330]\tvalidation_0-rmse:21.17553\tvalidation_1-rmse:76.21729\n",
      "[0]\tvalidation_0-rmse:807.74072\tvalidation_1-rmse:2394.59005\n",
      "[112]\tvalidation_0-rmse:24.07668\tvalidation_1-rmse:0.44238\n",
      "[0]\tvalidation_0-rmse:808.30542\tvalidation_1-rmse:2457.94579\n",
      "[116]\tvalidation_0-rmse:23.86849\tvalidation_1-rmse:59.95410\n",
      "[0]\tvalidation_0-rmse:808.89928\tvalidation_1-rmse:2480.24414\n",
      "[217]\tvalidation_0-rmse:22.59272\tvalidation_1-rmse:49.31201\n",
      "[0]\tvalidation_0-rmse:809.50600\tvalidation_1-rmse:2512.09544\n",
      "[133]\tvalidation_0-rmse:23.72836\tvalidation_1-rmse:93.71972\n",
      "[0]\tvalidation_0-rmse:810.12257\tvalidation_1-rmse:2567.54124\n",
      "[134]\tvalidation_0-rmse:23.58811\tvalidation_1-rmse:103.68604\n",
      "[0]\tvalidation_0-rmse:810.77493\tvalidation_1-rmse:2537.74388\n",
      "[281]\tvalidation_0-rmse:21.82743\tvalidation_1-rmse:5.18506\n",
      "[0]\tvalidation_0-rmse:811.39770\tvalidation_1-rmse:2465.05081\n",
      "[87]\tvalidation_0-rmse:24.49988\tvalidation_1-rmse:63.66162\n",
      "[0]\tvalidation_0-rmse:811.99609\tvalidation_1-rmse:2479.89405\n",
      "[93]\tvalidation_0-rmse:24.26264\tvalidation_1-rmse:38.49512\n",
      "[0]\tvalidation_0-rmse:812.59721\tvalidation_1-rmse:2516.07373\n",
      "[194]\tvalidation_0-rmse:22.76814\tvalidation_1-rmse:2.66113\n",
      "[0]\tvalidation_0-rmse:813.21648\tvalidation_1-rmse:2457.93043\n",
      "[87]\tvalidation_0-rmse:24.39333\tvalidation_1-rmse:61.09863\n",
      "[0]\tvalidation_0-rmse:813.80792\tvalidation_1-rmse:2413.38082\n",
      "[81]\tvalidation_0-rmse:24.52967\tvalidation_1-rmse:93.39551\n",
      "[0]\tvalidation_0-rmse:814.37582\tvalidation_1-rmse:2431.89206\n",
      "[144]\tvalidation_0-rmse:23.53157\tvalidation_1-rmse:12.09912\n",
      "[0]\tvalidation_0-rmse:814.95626\tvalidation_1-rmse:2419.38505\n",
      "[102]\tvalidation_0-rmse:24.32453\tvalidation_1-rmse:10.53711\n",
      "[0]\tvalidation_0-rmse:815.52740\tvalidation_1-rmse:2343.07256\n",
      "[85]\tvalidation_0-rmse:24.67866\tvalidation_1-rmse:76.72900\n",
      "[0]\tvalidation_0-rmse:816.05970\tvalidation_1-rmse:2327.45827\n",
      "[83]\tvalidation_0-rmse:24.77460\tvalidation_1-rmse:78.86719\n",
      "[0]\tvalidation_0-rmse:816.58544\tvalidation_1-rmse:2376.08133\n",
      "[133]\tvalidation_0-rmse:23.74977\tvalidation_1-rmse:9.02100\n",
      "[0]\tvalidation_0-rmse:817.12808\tvalidation_1-rmse:2324.12209\n",
      "[86]\tvalidation_0-rmse:24.56362\tvalidation_1-rmse:46.58594\n",
      "[0]\tvalidation_0-rmse:817.64664\tvalidation_1-rmse:2322.64698\n",
      "[100]\tvalidation_0-rmse:24.26958\tvalidation_1-rmse:10.50635\n",
      "[0]\tvalidation_0-rmse:818.16637\tvalidation_1-rmse:2392.61008\n",
      "[135]\tvalidation_0-rmse:23.57511\tvalidation_1-rmse:57.92725\n",
      "[0]\tvalidation_0-rmse:818.65434\tvalidation_1-rmse:2389.27730\n",
      "[156]\tvalidation_0-rmse:23.22076\tvalidation_1-rmse:48.23975\n",
      "[0]\tvalidation_0-rmse:819.20695\tvalidation_1-rmse:2322.91455\n",
      "[87]\tvalidation_0-rmse:24.78270\tvalidation_1-rmse:31.06934\n",
      "[0]\tvalidation_0-rmse:819.71864\tvalidation_1-rmse:2200.62650\n",
      "[75]\tvalidation_0-rmse:25.15925\tvalidation_1-rmse:157.49903\n",
      "[0]\tvalidation_0-rmse:820.18514\tvalidation_1-rmse:2224.49803\n",
      "[82]\tvalidation_0-rmse:25.16412\tvalidation_1-rmse:57.02441\n",
      "[0]\tvalidation_0-rmse:820.65179\tvalidation_1-rmse:2103.10330\n",
      "[74]\tvalidation_0-rmse:25.08847\tvalidation_1-rmse:161.33154\n",
      "[0]\tvalidation_0-rmse:821.08112\tvalidation_1-rmse:2111.46513\n",
      "[76]\tvalidation_0-rmse:25.21038\tvalidation_1-rmse:116.06396\n",
      "[0]\tvalidation_0-rmse:821.49959\tvalidation_1-rmse:2214.60233\n",
      "[106]\tvalidation_0-rmse:24.47483\tvalidation_1-rmse:39.55273\n",
      "[0]\tvalidation_0-rmse:821.96865\tvalidation_1-rmse:2058.57936\n",
      "[75]\tvalidation_0-rmse:25.30032\tvalidation_1-rmse:125.02783\n",
      "[0]\tvalidation_0-rmse:822.37154\tvalidation_1-rmse:2081.65331\n",
      "[81]\tvalidation_0-rmse:25.12682\tvalidation_1-rmse:64.16650\n",
      "[0]\tvalidation_0-rmse:822.78740\tvalidation_1-rmse:2101.38228\n",
      "[82]\tvalidation_0-rmse:25.04100\tvalidation_1-rmse:55.60352\n",
      "[0]\tvalidation_0-rmse:823.19969\tvalidation_1-rmse:2225.66990\n",
      "[162]\tvalidation_0-rmse:23.51893\tvalidation_1-rmse:86.42676\n",
      "[0]\tvalidation_0-rmse:823.67317\tvalidation_1-rmse:2071.90552\n",
      "[80]\tvalidation_0-rmse:25.13328\tvalidation_1-rmse:84.98145\n",
      "[0]\tvalidation_0-rmse:824.08145\tvalidation_1-rmse:2048.00684\n",
      "[79]\tvalidation_0-rmse:25.07292\tvalidation_1-rmse:99.51611\n",
      "[0]\tvalidation_0-rmse:824.48183\tvalidation_1-rmse:1915.54933\n",
      "[71]\tvalidation_0-rmse:25.51193\tvalidation_1-rmse:198.56031\n",
      "[0]\tvalidation_0-rmse:824.82830\tvalidation_1-rmse:1925.08324\n",
      "[73]\tvalidation_0-rmse:25.56357\tvalidation_1-rmse:158.75220\n",
      "[0]\tvalidation_0-rmse:825.17526\tvalidation_1-rmse:1918.28543\n",
      "[73]\tvalidation_0-rmse:25.47783\tvalidation_1-rmse:163.38990\n",
      "[0]\tvalidation_0-rmse:825.51823\tvalidation_1-rmse:1912.52967\n",
      "[74]\tvalidation_0-rmse:25.45476\tvalidation_1-rmse:118.13696\n",
      "[0]\tvalidation_0-rmse:825.83980\tvalidation_1-rmse:2005.72680\n",
      "[84]\tvalidation_0-rmse:25.21610\tvalidation_1-rmse:10.05493\n",
      "[0]\tvalidation_0-rmse:826.19409\tvalidation_1-rmse:1989.09031\n",
      "[82]\tvalidation_0-rmse:25.28529\tvalidation_1-rmse:51.69287\n",
      "[0]\tvalidation_0-rmse:826.54461\tvalidation_1-rmse:2069.21072\n",
      "[149]\tvalidation_0-rmse:23.94098\tvalidation_1-rmse:37.09351\n",
      "[0]\tvalidation_0-rmse:826.92391\tvalidation_1-rmse:1903.21912\n",
      "[74]\tvalidation_0-rmse:25.59431\tvalidation_1-rmse:153.68677\n",
      "[0]\tvalidation_0-rmse:827.23977\tvalidation_1-rmse:1879.66127\n",
      "[72]\tvalidation_0-rmse:25.80175\tvalidation_1-rmse:162.58764\n",
      "[0]\tvalidation_0-rmse:827.49798\tvalidation_1-rmse:1884.95603\n",
      "[73]\tvalidation_0-rmse:25.59915\tvalidation_1-rmse:137.29663\n",
      "[0]\tvalidation_0-rmse:827.80314\tvalidation_1-rmse:1956.92884\n",
      "[170]\tvalidation_0-rmse:23.77317\tvalidation_1-rmse:40.18066\n",
      "[0]\tvalidation_0-rmse:828.13560\tvalidation_1-rmse:1923.96323\n",
      "[90]\tvalidation_0-rmse:25.45175\tvalidation_1-rmse:30.69360\n",
      "[0]\tvalidation_0-rmse:828.45110\tvalidation_1-rmse:1960.41112\n",
      "[184]\tvalidation_0-rmse:23.77143\tvalidation_1-rmse:46.74683\n",
      "[0]\tvalidation_0-rmse:828.78731\tvalidation_1-rmse:2038.85060\n",
      "[172]\tvalidation_0-rmse:23.77607\tvalidation_1-rmse:120.00537\n",
      "[0]\tvalidation_0-rmse:829.15180\tvalidation_1-rmse:2138.46943\n",
      "[207]\tvalidation_0-rmse:23.12057\tvalidation_1-rmse:213.30835\n",
      "[0]\tvalidation_0-rmse:829.55619\tvalidation_1-rmse:2111.49343\n",
      "[119]\tvalidation_0-rmse:24.64607\tvalidation_1-rmse:78.09790\n",
      "[0]\tvalidation_0-rmse:829.95167\tvalidation_1-rmse:2079.74434\n",
      "[113]\tvalidation_0-rmse:24.78175\tvalidation_1-rmse:62.65063\n",
      "[0]\tvalidation_0-rmse:830.32752\tvalidation_1-rmse:2154.75729\n",
      "[559]\tvalidation_0-rmse:19.90895\tvalidation_1-rmse:86.59228\n",
      "[0]\tvalidation_0-rmse:830.74144\tvalidation_1-rmse:2026.69016\n",
      "[86]\tvalidation_0-rmse:25.39209\tvalidation_1-rmse:43.32617\n",
      "[0]\tvalidation_0-rmse:831.11895\tvalidation_1-rmse:2097.59863\n",
      "[290]\tvalidation_0-rmse:22.17582\tvalidation_1-rmse:1.29639\n",
      "[0]\tvalidation_0-rmse:831.50892\tvalidation_1-rmse:2136.07420\n",
      "[124]\tvalidation_0-rmse:24.48048\tvalidation_1-rmse:61.07471\n",
      "[0]\tvalidation_0-rmse:831.90587\tvalidation_1-rmse:2090.16602\n",
      "[311]\tvalidation_0-rmse:21.77935\tvalidation_1-rmse:1.97607\n",
      "[0]\tvalidation_0-rmse:832.28817\tvalidation_1-rmse:1991.42405\n",
      "[79]\tvalidation_0-rmse:25.29797\tvalidation_1-rmse:91.88501\n",
      "[0]\tvalidation_0-rmse:832.63278\tvalidation_1-rmse:1873.75779\n",
      "[70]\tvalidation_0-rmse:25.81675\tvalidation_1-rmse:209.77124\n",
      "[0]\tvalidation_0-rmse:832.93313\tvalidation_1-rmse:1721.94846\n",
      "[69]\tvalidation_0-rmse:25.98600\tvalidation_1-rmse:245.96093\n",
      "[0]\tvalidation_0-rmse:833.18067\tvalidation_1-rmse:1707.33059\n",
      "[70]\tvalidation_0-rmse:26.11296\tvalidation_1-rmse:214.25342\n",
      "[0]\tvalidation_0-rmse:833.42607\tvalidation_1-rmse:1761.42187\n",
      "[86]\tvalidation_0-rmse:25.75381\tvalidation_1-rmse:34.85596\n",
      "[0]\tvalidation_0-rmse:833.68918\tvalidation_1-rmse:1637.76502\n",
      "[72]\tvalidation_0-rmse:26.27585\tvalidation_1-rmse:150.88330\n",
      "[0]\tvalidation_0-rmse:833.91215\tvalidation_1-rmse:1645.47364\n",
      "[76]\tvalidation_0-rmse:26.21284\tvalidation_1-rmse:107.18213\n",
      "[0]\tvalidation_0-rmse:834.13466\tvalidation_1-rmse:1735.07140\n",
      "[121]\tvalidation_0-rmse:25.11408\tvalidation_1-rmse:30.93774\n",
      "[0]\tvalidation_0-rmse:834.38797\tvalidation_1-rmse:1729.72375\n",
      "[240]\tvalidation_0-rmse:23.46143\tvalidation_1-rmse:59.20898\n",
      "[0]\tvalidation_0-rmse:834.59018\tvalidation_1-rmse:1774.74759\n",
      "[119]\tvalidation_0-rmse:25.14888\tvalidation_1-rmse:29.69043\n",
      "[0]\tvalidation_0-rmse:834.85244\tvalidation_1-rmse:1885.86253\n",
      "[223]\tvalidation_0-rmse:23.67245\tvalidation_1-rmse:143.38281\n",
      "[0]\tvalidation_0-rmse:835.15415\tvalidation_1-rmse:1873.63904\n",
      "[139]\tvalidation_0-rmse:24.93617\tvalidation_1-rmse:83.46655\n",
      "[0]\tvalidation_0-rmse:835.46065\tvalidation_1-rmse:1794.44260\n",
      "[78]\tvalidation_0-rmse:26.13921\tvalidation_1-rmse:88.08032\n",
      "[0]\tvalidation_0-rmse:835.71788\tvalidation_1-rmse:1791.20448\n",
      "[81]\tvalidation_0-rmse:26.08037\tvalidation_1-rmse:68.57641\n",
      "[0]\tvalidation_0-rmse:835.99236\tvalidation_1-rmse:1757.12229\n",
      "[80]\tvalidation_0-rmse:26.33220\tvalidation_1-rmse:80.48364\n",
      "[0]\tvalidation_0-rmse:836.25120\tvalidation_1-rmse:1796.60854\n",
      "[91]\tvalidation_0-rmse:26.05364\tvalidation_1-rmse:21.67944\n",
      "[0]\tvalidation_0-rmse:836.51982\tvalidation_1-rmse:1802.14005\n",
      "[94]\tvalidation_0-rmse:25.88768\tvalidation_1-rmse:21.17993\n",
      "[0]\tvalidation_0-rmse:836.79162\tvalidation_1-rmse:1815.28641\n",
      "[138]\tvalidation_0-rmse:25.04345\tvalidation_1-rmse:2.09497\n",
      "[0]\tvalidation_0-rmse:837.06651\tvalidation_1-rmse:1872.29932\n",
      "[293]\tvalidation_0-rmse:23.05700\tvalidation_1-rmse:46.16504\n",
      "[0]\tvalidation_0-rmse:837.36159\tvalidation_1-rmse:1868.46140\n",
      "[405]\tvalidation_0-rmse:21.88058\tvalidation_1-rmse:38.27417\n",
      "[0]\tvalidation_0-rmse:837.65259\tvalidation_1-rmse:1822.91298\n",
      "[85]\tvalidation_0-rmse:26.11869\tvalidation_1-rmse:50.69434\n",
      "[0]\tvalidation_0-rmse:837.93572\tvalidation_1-rmse:1786.78391\n",
      "[80]\tvalidation_0-rmse:26.26845\tvalidation_1-rmse:79.04101\n",
      "[0]\tvalidation_0-rmse:838.19071\tvalidation_1-rmse:1769.13256\n",
      "[84]\tvalidation_0-rmse:26.13442\tvalidation_1-rmse:52.89941\n",
      "[0]\tvalidation_0-rmse:838.44905\tvalidation_1-rmse:1757.44253\n",
      "[85]\tvalidation_0-rmse:25.89886\tvalidation_1-rmse:53.04077\n",
      "[0]\tvalidation_0-rmse:838.70271\tvalidation_1-rmse:1829.75647\n",
      "[124]\tvalidation_0-rmse:24.90709\tvalidation_1-rmse:45.02295\n",
      "[0]\tvalidation_0-rmse:838.98430\tvalidation_1-rmse:1796.91945\n",
      "[161]\tvalidation_0-rmse:24.42300\tvalidation_1-rmse:9.13208\n",
      "[0]\tvalidation_0-rmse:839.25181\tvalidation_1-rmse:1902.27541\n",
      "[231]\tvalidation_0-rmse:23.15000\tvalidation_1-rmse:76.38647\n",
      "[0]\tvalidation_0-rmse:839.55719\tvalidation_1-rmse:1924.89389\n",
      "[483]\tvalidation_0-rmse:20.81955\tvalidation_1-rmse:65.53784\n",
      "[0]\tvalidation_0-rmse:839.87122\tvalidation_1-rmse:1963.36497\n",
      "[298]\tvalidation_0-rmse:22.44611\tvalidation_1-rmse:83.18042\n",
      "[0]\tvalidation_0-rmse:840.20031\tvalidation_1-rmse:1925.46157\n",
      "[94]\tvalidation_0-rmse:25.85391\tvalidation_1-rmse:21.31641\n",
      "[0]\tvalidation_0-rmse:840.51381\tvalidation_1-rmse:1930.08679\n",
      "[96]\tvalidation_0-rmse:25.74647\tvalidation_1-rmse:17.37671\n",
      "[0]\tvalidation_0-rmse:840.79691\tvalidation_1-rmse:1888.23463\n",
      "[83]\tvalidation_0-rmse:26.28299\tvalidation_1-rmse:66.91406\n",
      "[0]\tvalidation_0-rmse:841.09310\tvalidation_1-rmse:1990.16871\n",
      "[178]\tvalidation_0-rmse:24.45400\tvalidation_1-rmse:50.13086\n",
      "[0]\tvalidation_0-rmse:841.42632\tvalidation_1-rmse:2038.31235\n",
      "[256]\tvalidation_0-rmse:23.14719\tvalidation_1-rmse:87.63696\n",
      "[0]\tvalidation_0-rmse:841.77951\tvalidation_1-rmse:2095.49755\n",
      "[175]\tvalidation_0-rmse:24.25217\tvalidation_1-rmse:132.36548\n",
      "[0]\tvalidation_0-rmse:842.15653\tvalidation_1-rmse:2083.29883\n",
      "[791]\tvalidation_0-rmse:19.00255\tvalidation_1-rmse:15.08398\n",
      "[0]\tvalidation_0-rmse:842.52439\tvalidation_1-rmse:2055.10717\n",
      "[160]\tvalidation_0-rmse:24.75184\tvalidation_1-rmse:2.45312\n",
      "[0]\tvalidation_0-rmse:842.88587\tvalidation_1-rmse:2118.40329\n",
      "[334]\tvalidation_0-rmse:22.49546\tvalidation_1-rmse:48.34521\n",
      "[0]\tvalidation_0-rmse:843.26511\tvalidation_1-rmse:2058.67579\n",
      "[129]\tvalidation_0-rmse:25.10652\tvalidation_1-rmse:41.59814\n",
      "[0]\tvalidation_0-rmse:843.64869\tvalidation_1-rmse:2051.53321\n",
      "[618]\tvalidation_0-rmse:20.26224\tvalidation_1-rmse:11.75879\n",
      "[0]\tvalidation_0-rmse:844.03125\tvalidation_1-rmse:2046.03220\n",
      "[91]\tvalidation_0-rmse:26.01039\tvalidation_1-rmse:35.72607\n",
      "[0]\tvalidation_0-rmse:844.40773\tvalidation_1-rmse:2028.06934\n",
      "[86]\tvalidation_0-rmse:26.20797\tvalidation_1-rmse:45.22266\n",
      "[0]\tvalidation_0-rmse:844.77887\tvalidation_1-rmse:2115.46780\n",
      "[197]\tvalidation_0-rmse:23.94649\tvalidation_1-rmse:101.42529\n",
      "[0]\tvalidation_0-rmse:845.18318\tvalidation_1-rmse:2112.09304\n",
      "[162]\tvalidation_0-rmse:24.61797\tvalidation_1-rmse:41.43555\n",
      "[0]\tvalidation_0-rmse:845.57984\tvalidation_1-rmse:2184.52558\n",
      "[363]\tvalidation_0-rmse:22.29259\tvalidation_1-rmse:55.26855\n",
      "[0]\tvalidation_0-rmse:845.99977\tvalidation_1-rmse:2200.99784\n",
      "[139]\tvalidation_0-rmse:24.88037\tvalidation_1-rmse:79.08447\n",
      "[0]\tvalidation_0-rmse:846.43886\tvalidation_1-rmse:2208.60963\n",
      "[173]\tvalidation_0-rmse:24.38684\tvalidation_1-rmse:44.01074\n",
      "[0]\tvalidation_0-rmse:846.88527\tvalidation_1-rmse:2176.98461\n",
      "[86]\tvalidation_0-rmse:26.23963\tvalidation_1-rmse:52.72412\n",
      "[0]\tvalidation_0-rmse:847.30709\tvalidation_1-rmse:2186.26417\n",
      "[88]\tvalidation_0-rmse:26.17316\tvalidation_1-rmse:37.87305\n",
      "[0]\tvalidation_0-rmse:847.73703\tvalidation_1-rmse:2130.65483\n",
      "[87]\tvalidation_0-rmse:26.10179\tvalidation_1-rmse:46.42578\n",
      "[0]\tvalidation_0-rmse:848.14463\tvalidation_1-rmse:2039.76144\n",
      "[75]\tvalidation_0-rmse:26.49163\tvalidation_1-rmse:139.19873\n",
      "[0]\tvalidation_0-rmse:848.51600\tvalidation_1-rmse:2030.12450\n",
      "[76]\tvalidation_0-rmse:26.63925\tvalidation_1-rmse:127.15137\n",
      "[0]\tvalidation_0-rmse:848.88296\tvalidation_1-rmse:2041.81396\n",
      "[83]\tvalidation_0-rmse:26.38307\tvalidation_1-rmse:60.78857\n",
      "[0]\tvalidation_0-rmse:849.25848\tvalidation_1-rmse:2099.79999\n",
      "[266]\tvalidation_0-rmse:23.18521\tvalidation_1-rmse:2.20898\n",
      "[0]\tvalidation_0-rmse:849.65144\tvalidation_1-rmse:1957.95046\n",
      "[76]\tvalidation_0-rmse:26.88865\tvalidation_1-rmse:141.22632\n",
      "[0]\tvalidation_0-rmse:849.95905\tvalidation_1-rmse:1930.57181\n",
      "[75]\tvalidation_0-rmse:26.88844\tvalidation_1-rmse:151.87231\n",
      "[0]\tvalidation_0-rmse:850.28612\tvalidation_1-rmse:1943.76452\n",
      "[80]\tvalidation_0-rmse:26.79816\tvalidation_1-rmse:77.80298\n",
      "[0]\tvalidation_0-rmse:850.59512\tvalidation_1-rmse:1911.96032\n",
      "[76]\tvalidation_0-rmse:26.67940\tvalidation_1-rmse:110.36743\n",
      "[0]\tvalidation_0-rmse:850.89221\tvalidation_1-rmse:1923.40005\n",
      "[91]\tvalidation_0-rmse:26.23420\tvalidation_1-rmse:17.24341\n",
      "[0]\tvalidation_0-rmse:851.19557\tvalidation_1-rmse:1880.21754\n",
      "[82]\tvalidation_0-rmse:26.44264\tvalidation_1-rmse:56.76904\n",
      "[0]\tvalidation_0-rmse:851.48124\tvalidation_1-rmse:1863.54051\n",
      "[86]\tvalidation_0-rmse:26.54563\tvalidation_1-rmse:21.96094\n",
      "[0]\tvalidation_0-rmse:851.76351\tvalidation_1-rmse:1934.67271\n",
      "[113]\tvalidation_0-rmse:25.92770\tvalidation_1-rmse:60.96191\n",
      "[0]\tvalidation_0-rmse:852.06699\tvalidation_1-rmse:1960.28282\n",
      "[242]\tvalidation_0-rmse:23.49540\tvalidation_1-rmse:44.82812\n",
      "[0]\tvalidation_0-rmse:852.38406\tvalidation_1-rmse:2020.86671\n",
      "[130]\tvalidation_0-rmse:25.62654\tvalidation_1-rmse:74.54590\n",
      "[0]\tvalidation_0-rmse:852.72415\tvalidation_1-rmse:2063.24853\n",
      "[113]\tvalidation_0-rmse:25.95748\tvalidation_1-rmse:52.89380\n",
      "[0]\tvalidation_0-rmse:853.07655\tvalidation_1-rmse:1884.82042\n",
      "[74]\tvalidation_0-rmse:26.92303\tvalidation_1-rmse:148.33203\n",
      "[0]\tvalidation_0-rmse:853.36709\tvalidation_1-rmse:1897.58373\n",
      "[77]\tvalidation_0-rmse:26.99485\tvalidation_1-rmse:119.70972\n",
      "[0]\tvalidation_0-rmse:853.65929\tvalidation_1-rmse:1852.33670\n",
      "[77]\tvalidation_0-rmse:26.95115\tvalidation_1-rmse:109.53491\n",
      "[0]\tvalidation_0-rmse:853.93827\tvalidation_1-rmse:1823.75855\n",
      "[78]\tvalidation_0-rmse:27.03625\tvalidation_1-rmse:76.70727\n",
      "[0]\tvalidation_0-rmse:854.20844\tvalidation_1-rmse:1849.98514\n",
      "[162]\tvalidation_0-rmse:25.17371\tvalidation_1-rmse:9.46777\n",
      "[0]\tvalidation_0-rmse:854.48209\tvalidation_1-rmse:1805.67141\n",
      "[86]\tvalidation_0-rmse:26.89107\tvalidation_1-rmse:43.62842\n",
      "[0]\tvalidation_0-rmse:854.73881\tvalidation_1-rmse:1739.06153\n",
      "[77]\tvalidation_0-rmse:26.78659\tvalidation_1-rmse:110.21509\n",
      "[0]\tvalidation_0-rmse:854.97722\tvalidation_1-rmse:1706.68114\n",
      "[75]\tvalidation_0-rmse:27.03037\tvalidation_1-rmse:105.47119\n",
      "[0]\tvalidation_0-rmse:855.20864\tvalidation_1-rmse:1641.50122\n",
      "[72]\tvalidation_0-rmse:27.17393\tvalidation_1-rmse:149.66382\n",
      "[0]\tvalidation_0-rmse:855.41814\tvalidation_1-rmse:1602.95290\n",
      "[76]\tvalidation_0-rmse:27.19554\tvalidation_1-rmse:101.17285\n",
      "[0]\tvalidation_0-rmse:855.61625\tvalidation_1-rmse:1594.85203\n",
      "[75]\tvalidation_0-rmse:27.31701\tvalidation_1-rmse:96.00928\n",
      "[0]\tvalidation_0-rmse:855.81156\tvalidation_1-rmse:1666.28366\n",
      "[93]\tvalidation_0-rmse:26.88140\tvalidation_1-rmse:20.41382\n",
      "[0]\tvalidation_0-rmse:856.02938\tvalidation_1-rmse:1587.36740\n",
      "[77]\tvalidation_0-rmse:27.46620\tvalidation_1-rmse:83.85059\n",
      "[0]\tvalidation_0-rmse:856.19911\tvalidation_1-rmse:1536.08984\n",
      "[77]\tvalidation_0-rmse:27.45533\tvalidation_1-rmse:85.26416\n",
      "[0]\tvalidation_0-rmse:856.37564\tvalidation_1-rmse:1628.74046\n",
      "[186]\tvalidation_0-rmse:24.81519\tvalidation_1-rmse:24.66284\n",
      "[0]\tvalidation_0-rmse:856.58176\tvalidation_1-rmse:1740.83206\n",
      "[220]\tvalidation_0-rmse:24.29329\tvalidation_1-rmse:135.03491\n",
      "[0]\tvalidation_0-rmse:856.81694\tvalidation_1-rmse:1732.68332\n",
      "[127]\tvalidation_0-rmse:25.96598\tvalidation_1-rmse:92.54834\n",
      "[0]\tvalidation_0-rmse:857.04700\tvalidation_1-rmse:1693.45069\n",
      "[142]\tvalidation_0-rmse:25.51431\tvalidation_1-rmse:5.19922\n",
      "[0]\tvalidation_0-rmse:857.26257\tvalidation_1-rmse:1588.17529\n",
      "[70]\tvalidation_0-rmse:27.56038\tvalidation_1-rmse:181.26636\n",
      "[0]\tvalidation_0-rmse:857.45675\tvalidation_1-rmse:1560.51834\n",
      "[74]\tvalidation_0-rmse:27.52149\tvalidation_1-rmse:119.22485\n",
      "[0]\tvalidation_0-rmse:857.63288\tvalidation_1-rmse:1536.64187\n",
      "[72]\tvalidation_0-rmse:27.68752\tvalidation_1-rmse:134.46777\n",
      "[0]\tvalidation_0-rmse:857.80156\tvalidation_1-rmse:1524.43112\n",
      "[86]\tvalidation_0-rmse:27.38310\tvalidation_1-rmse:29.29126\n",
      "[0]\tvalidation_0-rmse:857.97554\tvalidation_1-rmse:1617.02659\n",
      "[179]\tvalidation_0-rmse:25.37676\tvalidation_1-rmse:38.00146\n",
      "[0]\tvalidation_0-rmse:858.17271\tvalidation_1-rmse:1529.96438\n",
      "[122]\tvalidation_0-rmse:26.41104\tvalidation_1-rmse:2.47778\n",
      "[0]\tvalidation_0-rmse:858.34774\tvalidation_1-rmse:1624.52270\n",
      "[169]\tvalidation_0-rmse:25.39602\tvalidation_1-rmse:82.50928\n",
      "[0]\tvalidation_0-rmse:858.54640\tvalidation_1-rmse:1666.19042\n",
      "[129]\tvalidation_0-rmse:26.11236\tvalidation_1-rmse:31.88940\n",
      "[0]\tvalidation_0-rmse:858.75824\tvalidation_1-rmse:1641.12888\n",
      "[126]\tvalidation_0-rmse:26.13757\tvalidation_1-rmse:2.44775\n",
      "[0]\tvalidation_0-rmse:858.96385\tvalidation_1-rmse:1611.35719\n",
      "[85]\tvalidation_0-rmse:27.07787\tvalidation_1-rmse:41.22485\n",
      "[0]\tvalidation_0-rmse:859.16040\tvalidation_1-rmse:1697.95215\n",
      "[555]\tvalidation_0-rmse:21.02044\tvalidation_1-rmse:55.21777\n",
      "[0]\tvalidation_0-rmse:859.38456\tvalidation_1-rmse:1742.15872\n",
      "[614]\tvalidation_0-rmse:20.69397\tvalidation_1-rmse:85.25391\n",
      "[0]\tvalidation_0-rmse:859.61627\tvalidation_1-rmse:1803.39284\n",
      "[558]\tvalidation_0-rmse:21.18384\tvalidation_1-rmse:135.65771\n",
      "[0]\tvalidation_0-rmse:859.87240\tvalidation_1-rmse:1774.41526\n",
      "[312]\tvalidation_0-rmse:23.17676\tvalidation_1-rmse:27.48853\n",
      "[0]\tvalidation_0-rmse:860.12023\tvalidation_1-rmse:1750.66380\n",
      "[89]\tvalidation_0-rmse:27.21761\tvalidation_1-rmse:27.99316\n",
      "[0]\tvalidation_0-rmse:860.33447\tvalidation_1-rmse:1847.42605\n",
      "[766]\tvalidation_0-rmse:19.86106\tvalidation_1-rmse:71.34888\n",
      "[0]\tvalidation_0-rmse:860.60420\tvalidation_1-rmse:1817.97972\n",
      "[119]\tvalidation_0-rmse:26.39509\tvalidation_1-rmse:23.62695\n",
      "[0]\tvalidation_0-rmse:860.86369\tvalidation_1-rmse:1801.62205\n",
      "[189]\tvalidation_0-rmse:24.93422\tvalidation_1-rmse:14.25439\n",
      "[0]\tvalidation_0-rmse:861.11676\tvalidation_1-rmse:1704.72461\n",
      "[75]\tvalidation_0-rmse:27.62536\tvalidation_1-rmse:115.74023\n",
      "[0]\tvalidation_0-rmse:861.34124\tvalidation_1-rmse:1664.52561\n",
      "[74]\tvalidation_0-rmse:27.85104\tvalidation_1-rmse:123.34180\n",
      "[0]\tvalidation_0-rmse:861.55009\tvalidation_1-rmse:1714.78905\n",
      "[197]\tvalidation_0-rmse:25.12321\tvalidation_1-rmse:11.32080\n",
      "[0]\tvalidation_0-rmse:861.77528\tvalidation_1-rmse:1750.59011\n",
      "[152]\tvalidation_0-rmse:25.92393\tvalidation_1-rmse:57.19165\n",
      "[0]\tvalidation_0-rmse:862.00788\tvalidation_1-rmse:1771.41405\n",
      "[163]\tvalidation_0-rmse:25.57743\tvalidation_1-rmse:69.67847\n",
      "[0]\tvalidation_0-rmse:862.25007\tvalidation_1-rmse:1691.39403\n",
      "[81]\tvalidation_0-rmse:27.46965\tvalidation_1-rmse:62.71289\n",
      "[0]\tvalidation_0-rmse:862.46843\tvalidation_1-rmse:1898.79100\n",
      "[169]\tvalidation_0-rmse:25.48369\tvalidation_1-rmse:147.65869\n",
      "[0]\tvalidation_0-rmse:862.75038\tvalidation_1-rmse:1934.93773\n",
      "[204]\tvalidation_0-rmse:24.84845\tvalidation_1-rmse:158.53565\n",
      "[0]\tvalidation_0-rmse:863.05100\tvalidation_1-rmse:1898.70851\n",
      "[180]\tvalidation_0-rmse:25.52220\tvalidation_1-rmse:82.95752\n",
      "[0]\tvalidation_0-rmse:863.33350\tvalidation_1-rmse:1932.79616\n",
      "[233]\tvalidation_0-rmse:24.65642\tvalidation_1-rmse:4.24585\n",
      "[0]\tvalidation_0-rmse:863.62742\tvalidation_1-rmse:1899.22899\n",
      "[89]\tvalidation_0-rmse:27.68700\tvalidation_1-rmse:24.64307\n",
      "[0]\tvalidation_0-rmse:863.91623\tvalidation_1-rmse:1886.48880\n",
      "[85]\tvalidation_0-rmse:27.79741\tvalidation_1-rmse:40.32056\n",
      "[0]\tvalidation_0-rmse:864.19819\tvalidation_1-rmse:1904.74368\n",
      "[95]\tvalidation_0-rmse:27.38724\tvalidation_1-rmse:17.94702\n",
      "[0]\tvalidation_0-rmse:864.48423\tvalidation_1-rmse:1888.80002\n",
      "[130]\tvalidation_0-rmse:26.61036\tvalidation_1-rmse:1.88428\n",
      "[0]\tvalidation_0-rmse:864.76627\tvalidation_1-rmse:1941.92508\n",
      "[363]\tvalidation_0-rmse:23.27342\tvalidation_1-rmse:43.61670\n",
      "[0]\tvalidation_0-rmse:865.06342\tvalidation_1-rmse:1965.04078\n",
      "[412]\tvalidation_0-rmse:22.63909\tvalidation_1-rmse:13.50073\n",
      "[0]\tvalidation_0-rmse:865.36958\tvalidation_1-rmse:1963.32008\n",
      "[272]\tvalidation_0-rmse:24.11031\tvalidation_1-rmse:3.32007\n",
      "[0]\tvalidation_0-rmse:865.67638\tvalidation_1-rmse:1900.60352\n",
      "[81]\tvalidation_0-rmse:27.60047\tvalidation_1-rmse:98.88867\n",
      "[0]\tvalidation_0-rmse:865.95952\tvalidation_1-rmse:1893.68358\n",
      "[92]\tvalidation_0-rmse:27.25911\tvalidation_1-rmse:34.30615\n",
      "[0]\tvalidation_0-rmse:866.24125\tvalidation_1-rmse:2015.65529\n",
      "[205]\tvalidation_0-rmse:24.84009\tvalidation_1-rmse:96.96851\n",
      "[0]\tvalidation_0-rmse:866.56739\tvalidation_1-rmse:2011.66088\n",
      "[367]\tvalidation_0-rmse:23.01084\tvalidation_1-rmse:79.73926\n",
      "[0]\tvalidation_0-rmse:866.88237\tvalidation_1-rmse:2006.20973\n",
      "[205]\tvalidation_0-rmse:25.05575\tvalidation_1-rmse:17.62817\n",
      "[0]\tvalidation_0-rmse:867.18382\tvalidation_1-rmse:1935.95752\n",
      "[86]\tvalidation_0-rmse:27.64667\tvalidation_1-rmse:46.67432\n",
      "[0]\tvalidation_0-rmse:867.48743\tvalidation_1-rmse:1877.84644\n",
      "[77]\tvalidation_0-rmse:27.71209\tvalidation_1-rmse:113.04248\n",
      "[0]\tvalidation_0-rmse:867.75411\tvalidation_1-rmse:1869.98997\n",
      "[82]\tvalidation_0-rmse:27.57770\tvalidation_1-rmse:67.47974\n",
      "[0]\tvalidation_0-rmse:868.02804\tvalidation_1-rmse:1899.09544\n",
      "[92]\tvalidation_0-rmse:27.46305\tvalidation_1-rmse:27.77270\n",
      "[0]\tvalidation_0-rmse:868.30896\tvalidation_1-rmse:1869.57863\n",
      "[83]\tvalidation_0-rmse:27.71600\tvalidation_1-rmse:43.69873\n",
      "[0]\tvalidation_0-rmse:868.57878\tvalidation_1-rmse:1925.38529\n",
      "[117]\tvalidation_0-rmse:26.89744\tvalidation_1-rmse:60.65454\n",
      "[0]\tvalidation_0-rmse:868.86854\tvalidation_1-rmse:1953.91946\n",
      "[119]\tvalidation_0-rmse:26.69859\tvalidation_1-rmse:50.07202\n",
      "[0]\tvalidation_0-rmse:869.16621\tvalidation_1-rmse:1929.00415\n",
      "[187]\tvalidation_0-rmse:25.65090\tvalidation_1-rmse:12.83789\n",
      "[0]\tvalidation_0-rmse:869.45687\tvalidation_1-rmse:1828.87916\n",
      "[77]\tvalidation_0-rmse:27.89587\tvalidation_1-rmse:103.90625\n",
      "[0]\tvalidation_0-rmse:869.71398\tvalidation_1-rmse:1785.01611\n",
      "[75]\tvalidation_0-rmse:28.12420\tvalidation_1-rmse:138.72022\n",
      "[0]\tvalidation_0-rmse:869.95415\tvalidation_1-rmse:1749.83471\n",
      "[76]\tvalidation_0-rmse:28.18607\tvalidation_1-rmse:120.37012\n",
      "[0]\tvalidation_0-rmse:870.18645\tvalidation_1-rmse:1753.36769\n",
      "[84]\tvalidation_0-rmse:27.98111\tvalidation_1-rmse:46.30151\n",
      "[0]\tvalidation_0-rmse:870.41403\tvalidation_1-rmse:1809.68533\n",
      "[141]\tvalidation_0-rmse:26.37427\tvalidation_1-rmse:31.93579\n",
      "[0]\tvalidation_0-rmse:870.66621\tvalidation_1-rmse:1753.18945\n",
      "[86]\tvalidation_0-rmse:27.79207\tvalidation_1-rmse:38.47534\n",
      "[0]\tvalidation_0-rmse:870.89931\tvalidation_1-rmse:1775.18527\n",
      "[97]\tvalidation_0-rmse:27.59629\tvalidation_1-rmse:12.57764\n",
      "[0]\tvalidation_0-rmse:871.13652\tvalidation_1-rmse:1759.30270\n",
      "[92]\tvalidation_0-rmse:27.78555\tvalidation_1-rmse:19.19092\n",
      "[0]\tvalidation_0-rmse:871.37021\tvalidation_1-rmse:1712.82836\n",
      "[81]\tvalidation_0-rmse:27.83347\tvalidation_1-rmse:59.98731\n",
      "[0]\tvalidation_0-rmse:871.58979\tvalidation_1-rmse:1778.48728\n",
      "[115]\tvalidation_0-rmse:27.13507\tvalidation_1-rmse:10.53296\n",
      "[0]\tvalidation_0-rmse:871.83035\tvalidation_1-rmse:1768.25415\n",
      "[100]\tvalidation_0-rmse:27.30818\tvalidation_1-rmse:3.15649\n"
     ]
    }
   ],
   "source": [
    "#final model - predicting next close\n",
    "preds = []\n",
    "scores = []\n",
    "actuals = []\n",
    "\n",
    "for train_idx, val_idx in tss.split(df):\n",
    "    train_df = df.iloc[train_idx]\n",
    "    test_df = df.iloc[val_idx]\n",
    "\n",
    "\n",
    "    features = ['sma_3', 'sma_5','sma_7','sma_20',\n",
    "    'ema_9', 'ema_12', 'ema_26', 'macd', 'macd_signal', 'macd_histogram',\n",
    "    'rsi','Volume','bb_lower_band','bb_upper_band','std_dev_20']\n",
    "\n",
    "    # features = ['sma_3', 'sma_5','sma_7','sma_20',\n",
    "    # 'ema_9','Volume','bb_lower_band','bb_upper_band']\n",
    "\n",
    "\n",
    "\n",
    "\n",
    "    target = 'Next_Close'\n",
    "\n",
    "    X_train = train_df[features]\n",
    "    y_train = train_df[target]\n",
    "\n",
    "    X_test = test_df[features]\n",
    "    y_test = test_df[target]\n",
    "\n",
    "    model = xgb.XGBRegressor(booster='gbtree',\n",
    "                           n_estimators=1000,\n",
    "                           early_stopping_rounds=50,\n",
    "                           objective='reg:squarederror',\n",
    "                           max_depth=3,\n",
    "                           learning_rate=0.1,\n",
    "                           min_child_weight = 5,\n",
    "                           n_jobs = -1)\n",
    "\n",
    "    model.fit(X_train, y_train,\n",
    "        eval_set=[(X_train, y_train), (X_test, y_test)],\n",
    "        verbose=1000)\n",
    "\n",
    "    y_pred = model.predict(X_test)\n",
    "    preds.append(y_pred)\n",
    "    actual_dict = [{'Date': date, 'Actual': actual, \"Preds\": pred} for date, actual, pred in zip(test_df.index, y_test, y_pred)]\n",
    "    actuals.extend(actual_dict)\n",
    "    score = np.sqrt(mean_squared_error(y_test, y_pred))\n",
    "    scores.append(score)\n",
    "\n"
   ]
  },
  {
   "cell_type": "code",
   "execution_count": 306,
   "metadata": {},
   "outputs": [],
   "source": [
    "y_test_df = pd.DataFrame(actuals)\n",
    "y_test_df['Error'] = abs((y_test_df['Preds'] - y_test_df['Actual']) / y_test_df['Actual']) * 100"
   ]
  },
  {
   "cell_type": "code",
   "execution_count": 307,
   "metadata": {},
   "outputs": [
    {
     "data": {
      "text/plain": [
       "0.9921409516684263"
      ]
     },
     "execution_count": 307,
     "metadata": {},
     "output_type": "execute_result"
    }
   ],
   "source": [
    "#r2 Score\n",
    "r2_score(y_test_df['Actual'],y_test_df['Preds'])"
   ]
  },
  {
   "cell_type": "code",
   "execution_count": 308,
   "metadata": {},
   "outputs": [
    {
     "data": {
      "text/plain": [
       "32.27399433464404"
      ]
     },
     "execution_count": 308,
     "metadata": {},
     "output_type": "execute_result"
    }
   ],
   "source": [
    "#On average my model may be off by ~$30 from the actuals\n",
    "mean_absolute_error(y_test_df['Actual'],y_test_df['Preds'])"
   ]
  },
  {
   "cell_type": "code",
   "execution_count": 309,
   "metadata": {},
   "outputs": [
    {
     "name": "stdout",
     "output_type": "stream",
     "text": [
      "Score across folds 32.2740\n",
      "Fold scores:[58.458251953125, 57.20263671875, 45.12158203125, 51.534423828125, 66.60009765625, 38.464599609375, 62.602294921875, 36.78857421875, 36.571044921875, 65.08935546875, 70.749267578125, 57.8447265625, 46.2353515625, 45.572021484375, 0.01318359375, 0.623779296875, 0.945068359375, 0.37744140625, 0.093994140625, 0.11572265625, 0.442626953125, 16.361328125, 52.695068359375, 45.728759765625, 31.455078125, 63.302978515625, 58.84912109375, 80.762451171875, 71.924072265625, 61.173828125, 39.987548828125, 63.13525390625, 47.602783203125, 0.023193359375, 3.5302734375, 6.106201171875, 3.5068359375, 1.294677734375, 3.447021484375, 114.24609375, 3.615478515625, 132.28369140625, 0.37353515625, 0.21826171875, 13.512939453125, 0.61865234375, 0.295654296875, 0.05224609375, 52.0341796875, 10.28662109375, 18.14013671875, 2.091796875, 0.3515625, 4.835205078125, 6.990966796875, 180.197265625, 126.7861328125, 208.8740234375, 43.49951171875, 71.629150390625, 0.013671875, 0.100830078125, 1.41455078125, 0.8857421875, 166.82568359375, 75.723876953125, 134.03955078125, 65.438720703125, 0.76318359375, 57.7646484375, 22.457275390625, 30.845947265625, 68.89111328125, 0.395263671875, 4.046630859375, 0.0322265625, 37.262939453125, 75.016845703125, 67.8564453125, 11.907958984375, 61.171142578125, 39.19482421875, 2.288330078125, 2.222900390625, 12.890869140625, 22.28125, 54.10693359375, 71.849609375, 68.221923828125, 1.4892578125, 3.286376953125, 0.833984375, 41.323486328125, 120.712890625, 19.042724609375, 76.23583984375, 17.84326171875, 0.000732421875, 11.959228515625, 42.238037109375, 6.41748046875, 18.46484375, 65.039306640625, 38.616455078125, 80.726806640625, 0.275390625, 34.32421875, 4.991943359375, 0.120361328125, 0.590576171875, 1.111328125, 3.272705078125, 34.010009765625, 58.697509765625, 13.375244140625, 0.501953125, 0.937744140625, 0.862060546875, 0.00048828125, 2.39111328125, 1.588623046875, 2.319091796875, 0.26611328125, 20.349365234375, 41.725830078125, 46.8037109375, 56.195556640625, 8.918701171875, 18.99755859375, 0.00390625, 29.893310546875, 0.185791015625, 43.190673828125, 49.15283203125, 27.498291015625, 24.912109375, 43.669677734375, 0.4970703125, 23.847900390625, 0.08203125, 1.385009765625, 0.468017578125, 0.1806640625, 16.053466796875, 0.114990234375, 18.29150390625, 51.390625, 37.656005859375, 0.005859375, 3.645751953125, 35.01513671875, 32.4716796875, 0.811279296875, 60.56591796875, 0.236572265625, 0.358154296875, 5.77734375, 14.464111328125, 63.848388671875, 74.54150390625, 84.5234375, 81.2822265625, 84.299560546875, 71.20751953125, 86.29150390625, 151.0361328125, 94.84423828125, 67.584228515625, 75.789794921875, 0.5947265625, 2.835693359375, 3.61474609375, 1.566162109375, 0.94775390625, 0.24609375, 32.616455078125, 14.629150390625, 1.190185546875, 1.267822265625, 2.3828125, 0.157958984375, 63.1669921875, 1.583984375, 0.007568359375, 54.37646484375, 105.275390625, 0.850341796875, 8.602294921875, 40.776123046875, 0.64501953125, 55.487548828125, 0.315185546875, 39.5068359375, 17.952880859375, 42.56005859375, 58.476318359375, 13.091064453125, 0.390869140625, 0.0439453125, 0.852294921875, 5.121337890625, 0.0166015625, 0.903076171875, 0.0703125, 1.07861328125, 1.376708984375, 3.749755859375, 3.230712890625, 0.531982421875, 0.029296875, 28.48681640625, 70.51416015625, 93.57568359375, 128.2197265625, 48.174560546875, 59.32470703125, 6.877685546875, 73.46484375, 62.67041015625, 32.367919921875, 63.050048828125, 78.918701171875, 0.337890625, 8.39892578125, 0.003173828125, 24.072021484375, 61.46875, 47.95703125, 91.5908203125, 58.531982421875, 57.439208984375, 79.76708984375, 50.544189453125, 43.33056640625, 14.25244140625, 76.353515625, 57.09814453125, 0.02880859375, 14.604248046875, 15.1181640625, 33.078125, 57.34228515625, 67.659912109375, 25.9609375, 84.560791015625, 0.11083984375, 0.019775390625, 23.896728515625, 53.48681640625, 32.53955078125, 31.245849609375, 43.059814453125, 0.297119140625, 11.968994140625, 59.706787109375, 82.032958984375, 100.22998046875, 83.039306640625, 88.521728515625, 45.583251953125, 47.4775390625, 0.015380859375, 30.97021484375, 76.251953125, 89.70263671875, 57.146240234375, 54.8330078125, 102.735107421875, 0.55908203125, 0.287841796875, 0.232421875, 27.279296875, 32.113037109375, 29.59375, 65.558349609375, 62.756103515625, 60.05908203125, 76.22119140625, 65.376953125, 35.212158203125, 80.76171875, 72.7900390625, 68.1923828125, 15.35986328125, 12.875732421875, 0.97705078125, 32.03955078125, 68.628662109375, 0.584228515625, 0.052734375, 33.36962890625, 0.71484375, 0.205078125, 1.80322265625, 52.829345703125, 1.51220703125, 30.036865234375, 33.35546875, 75.29248046875, 60.84521484375, 50.400390625, 50.556640625, 45.329345703125, 0.11572265625, 0.61474609375, 67.387939453125, 0.0126953125, 0.13720703125, 0.591552734375, 51.548828125, 46.887939453125, 25.410888671875, 26.458740234375, 73.154296875, 108.923828125, 96.554443359375, 62.210205078125, 48.42626953125, 88.878173828125, 59.2099609375, 53.396240234375, 36.0869140625, 66.1298828125, 104.251708984375, 106.8330078125, 9.07958984375, 146.52197265625, 11.64501953125, 77.37451171875, 61.02001953125, 46.701171875, 37.77099609375, 62.5361328125, 64.181640625, 68.763671875, 29.17236328125, 0.1630859375, 3.90380859375, 58.982421875, 16.19384765625, 0.13427734375, 1.603271484375, 0.720703125, 124.993408203125, 13.62548828125, 0.38427734375, 16.2958984375, 0.88037109375, 0.6083984375, 0.23291015625, 0.00439453125, 0.13818359375, 7.513671875, 49.27734375, 36.03173828125, 23.20556640625, 2.75341796875, 40.5625, 31.9013671875, 0.0, 15.44921875, 38.7802734375, 48.978515625, 42.77783203125, 4.1884765625, 0.244140625, 3.58544921875, 1.7431640625, 70.90380859375, 1.73828125, 2.77880859375, 23.66943359375, 38.17236328125, 95.873046875, 54.14111328125, 47.33935546875, 70.52685546875, 91.7578125, 81.2861328125, 115.2197265625, 56.96435546875, 100.21728515625, 95.02587890625, 32.720703125, 59.44775390625, 69.73876953125, 28.0888671875, 1.5205078125, 50.48583984375, 40.23486328125, 53.69482421875, 50.71142578125, 104.0234375, 60.3623046875, 50.0068359375, 48.7763671875, 53.61474609375, 41.06494140625, 64.572265625, 40.69482421875, 19.2939453125, 51.474609375, 15.71533203125, 19.0341796875, 59.11865234375, 35.53955078125, 31.88525390625, 36.26904296875, 0.0029296875, 0.49365234375, 0.1396484375, 38.79345703125, 45.16748046875, 21.14990234375, 82.23291015625, 10.55419921875, 49.26318359375, 60.70166015625, 63.1083984375, 87.62255859375, 86.47998046875, 82.84912109375, 29.59326171875, 55.65087890625, 27.39990234375, 0.22802734375, 0.130859375, 0.76513671875, 5.6845703125, 0.07177734375, 0.43994140625, 4.44677734375, 4.0224609375, 0.37646484375, 47.26416015625, 25.2802734375, 0.0263671875, 3.376953125, 1.68408203125, 4.26220703125, 5.98876953125, 0.2294921875, 0.48681640625, 0.11572265625, 29.8515625, 16.48388671875, 0.80859375, 0.6455078125, 0.37841796875, 57.40625, 73.14306640625, 69.80078125, 79.87060546875, 60.46240234375, 61.80029296875, 62.0869140625, 40.71240234375, 69.814453125, 0.02099609375, 57.81103515625, 86.0947265625, 56.564453125, 113.77294921875, 60.8623046875, 72.4111328125, 78.81396484375, 30.92138671875, 51.30615234375, 57.9150390625, 12.09228515625, 58.73583984375, 54.814453125, 19.3779296875, 27.86083984375, 40.556640625, 29.8349609375, 4.0966796875, 7.00634765625, 20.66162109375, 2.2939453125, 0.0263671875, 3.203125, 3.82666015625, 0.61279296875, 44.88671875, 93.11669921875, 183.29736328125, 27.44189453125, 0.0263671875, 41.2197265625, 0.08642578125, 0.54931640625, 30.30810546875, 14.9951171875, 0.48193359375, 3.64599609375, 8.0830078125, 52.14501953125, 73.341796875, 92.8115234375, 30.14697265625, 48.515625, 11.20458984375, 12.76806640625, 25.4638671875, 89.61962890625, 7.91845703125, 23.02490234375, 1.40771484375, 1.04443359375, 16.69287109375, 33.564453125, 1.6376953125, 0.24609375, 1.3369140625, 0.04296875, 4.21240234375, 7.33349609375, 2.81494140625, 2.896484375, 1.8994140625, 0.0283203125, 57.68115234375, 150.1953125, 104.19970703125, 66.0087890625, 5.79296875, 1.94091796875, 0.599609375, 18.26611328125, 84.1689453125, 0.9384765625, 5.4365234375, 0.29638671875, 28.3857421875, 30.83349609375, 2.5146484375, 1.55908203125, 1.94091796875, 1.65087890625, 2.70263671875, 74.70166015625, 17.376953125, 2.03662109375, 24.3349609375, 6.00732421875, 0.349609375, 1.13427734375, 7.7373046875, 80.69384765625, 48.80322265625, 2.66552734375, 2.59521484375, 36.45751953125, 108.97119140625, 139.45068359375, 141.98046875, 107.75390625, 75.9912109375, 0.04736328125, 55.9609375, 44.93115234375, 87.65380859375, 99.8623046875, 0.642578125, 0.85986328125, 0.13134765625, 0.3935546875, 0.13720703125, 3.38720703125, 0.0029296875, 0.41552734375, 2.2080078125, 3.4775390625, 5.36083984375, 0.13330078125, 0.14208984375, 53.59326171875, 45.7802734375, 2.06396484375, 5.30029296875, 0.88916015625, 2.43701171875, 5.06689453125, 22.703125, 3.79443359375, 3.373046875, 1.10986328125, 72.81787109375, 3.947265625, 3.54248046875, 3.0517578125, 3.318359375, 5.42822265625, 2.0966796875, 1.761962890625, 0.770263671875, 7.106201171875, 2.583984375, 2.00390625, 4.189208984375, 33.230712890625, 0.91015625, 38.801025390625, 118.765869140625, 211.918212890625, 72.36279296875, 54.678955078125, 86.42236328125, 0.6640625, 1.03466796875, 53.19921875, 0.1494140625, 4.010009765625, 8.95458984375, 12.551025390625, 5.537841796875, 0.770263671875, 2.445068359375, 3.662353515625, 23.967529296875, 51.793212890625, 29.02880859375, 137.008544921875, 77.265869140625, 4.404541015625, 0.10400390625, 4.982666015625, 0.79296875, 0.7392578125, 0.073486328125, 45.01171875, 36.240234375, 0.449951171875, 2.171142578125, 1.804931640625, 2.068359375, 44.40380859375, 8.769287109375, 75.302734375, 65.396484375, 82.958740234375, 0.167724609375, 0.16845703125, 3.058837890625, 49.857666015625, 84.644775390625, 129.69091796875, 14.41064453125, 0.004638671875, 48.12841796875, 40.142578125, 11.419921875, 0.69580078125, 1.9423828125, 89.34130859375, 34.38330078125, 54.69970703125, 77.43017578125, 43.34716796875, 2.23388671875, 0.21142578125, 1.44091796875, 4.369140625, 1.54052734375, 2.2568359375, 0.1015625, 4.8798828125, 0.516845703125, 5.58349609375, 5.05517578125, 0.073486328125, 1.212646484375, 2.76953125, 36.828125, 40.575927734375, 71.61865234375, 50.563232421875, 4.562255859375, 2.152099609375, 3.4921875, 2.847900390625, 5.423583984375, 1.9794921875, 3.583740234375, 5.0107421875, 3.43212890625, 1.106201171875, 2.029541015625, 0.556884765625, 1.54443359375, 2.427490234375, 12.920166015625, 128.5947265625, 92.2353515625, 4.0322265625, 4.626220703125, 7.523681640625, 0.234619140625, 1.74951171875, 37.863037109375, 0.0556640625, 81.078369140625, 29.365478515625, 0.045654296875, 0.101806640625, 53.733154296875, 85.247802734375, 134.6923828125, 27.262939453125, 1.254638671875, 68.2958984375, 22.804443359375, 5.34716796875, 4.032958984375, 1.7880859375, 11.173095703125, 46.411865234375, 58.0166015625, 1.51416015625, 147.544677734375, 148.9140625, 77.477783203125, 0.027587890625, 0.615234375, 1.52001953125, 0.279052734375, 0.740966796875, 39.013427734375, 11.63232421875, 0.314208984375, 1.4033203125, 0.047119140625, 85.883056640625, 72.22998046875, 2.205078125, 0.321533203125, 1.308837890625, 3.08447265625, 0.987060546875, 0.9638671875, 53.608642578125, 39.553955078125, 1.45751953125, 3.15234375, 0.059814453125, 4.64453125, 1.18212890625, 14.84375, 0.640869140625, 0.1494140625, 0.483154296875, 2.07861328125, 9.80224609375, 0.084716796875]\n"
     ]
    }
   ],
   "source": [
    "print(f'Score across folds {np.mean(scores):0.4f}')\n",
    "print(f'Fold scores:{scores}')"
   ]
  },
  {
   "cell_type": "code",
   "execution_count": 234,
   "metadata": {},
   "outputs": [
    {
     "data": {
      "image/png": "[encoded data removed]",
      "text/plain": [
       "<Figure size 1200x500 with 2 Axes>"
      ]
     },
     "metadata": {},
     "output_type": "display_data"
    }
   ],
   "source": [
    "#pred vs actual regressor\n",
    "\n",
    "fig, ax1 = plt.subplots(figsize=(12, 5))\n",
    "ax1.plot(y_test_df.index, y_test_df['Actual'], label='Actual', color='blue')\n",
    "ax1.plot(y_test_df.index, y_test_df['Preds'], label='Predictions', color='red')\n",
    "ax1.axhline(0, color='black', linestyle='--')\n",
    "ax1.legend(loc ='right')\n",
    "\n",
    "ax2 = ax1.twinx()\n",
    "ax2.plot(y_test_df.index, y_test_df['Error'], label='Prct Error', color='green')\n",
    "ax2.legend(loc='upper right')\n",
    "\n",
    "\n",
    "plt.title('Prediction vs Actual with Percentage Error')\n",
    "\n",
    "plt.show()\n",
    "\n"
   ]
  },
  {
   "cell_type": "code",
   "execution_count": null,
   "metadata": {},
   "outputs": [],
   "source": []
  }
 ],
 "metadata": {
  "kernelspec": {
   "display_name": "base",
   "language": "python",
   "name": "python3"
  },
  "language_info": {
   "codemirror_mode": {
    "name": "ipython",
    "version": 3
   },
   "file_extension": ".py",
   "mimetype": "text/x-python",
   "name": "python",
   "nbconvert_exporter": "python",
   "pygments_lexer": "ipython3",
   "version": "3.11.4"
  }
 },
 "nbformat": 4,
 "nbformat_minor": 2
}
